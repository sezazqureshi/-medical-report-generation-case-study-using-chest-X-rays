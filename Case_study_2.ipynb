{
 "cells": [
  {
   "cell_type": "markdown",
   "metadata": {
    "id": "zHepFGD_u3KO"
   },
   "source": [
    "# Chest X-Ray Medical Report Generation Using Deep Learning"
   ]
  },
  {
   "cell_type": "markdown",
   "metadata": {},
   "source": [
    "<h1>1. Business Problem </h1>"
   ]
  },
  {
   "cell_type": "markdown",
   "metadata": {},
   "source": [
    "<h2> 1.1 Description </h2>"
   ]
  },
  {
   "cell_type": "markdown",
   "metadata": {},
   "source": [
    "If you go to the doctor with chest pain, a chest injury or shortness of breath, you will typically get a chest X-ray.The chest x-ray is the most frequently requested radiologic examination. The image helps your doctor determine whether you have heart problems, a collapsed lung, pneumonia, broken ribs, emphysema, cancer or any of several other conditions.\n",
    "  Chest x-ray is also helpful in diagnosing COVID-19 infection in lungs , because COVID-19 is primerily attacks our lungs.\n",
    "  Once you get your x-ray done your doctor will interpret it using his knowledge and instruct you further.\n",
    "  So our aim is to make these x-rays easy to read by generating reports depicting what a radiologist sees and observes in x-ray.\n",
    "   "
   ]
  },
  {
   "cell_type": "markdown",
   "metadata": {},
   "source": [
    "<p style='font-size:18px'><b> Problem Statemtent </b></p>\n"
   ]
  },
  {
   "cell_type": "markdown",
   "metadata": {},
   "source": [
    "   Build a deep learning model to generate medical report from goven x-ray images. \n"
   ]
  },
  {
   "cell_type": "markdown",
   "metadata": {},
   "source": [
    "<p style='font-size:18px'><b> Source:</b>  \n",
    "\n",
    "PNG Images : http://academictorrents.com/details/5a3a439df24931f410fac269b87b050203d9467d\n",
    "\n",
    "XML Reports : http://academictorrents.com/details/66450ba52ba3f83fbf82ef9c91f2bde0e845ab\n",
    "\n",
    "</p>\n"
   ]
  },
  {
   "cell_type": "markdown",
   "metadata": {},
   "source": [
    "<h2> 1.2 Real World / Business Objectives and Constraints </h2>\n"
   ]
  },
  {
   "cell_type": "markdown",
   "metadata": {},
   "source": [
    "1. The cost of a mis-classification can be very high.\n",
    "\n",
    "2. No strict latency concerns.\n",
    "\n",
    "3. Interpretability is partially important."
   ]
  },
  {
   "cell_type": "markdown",
   "metadata": {},
   "source": [
    "<h1>2. Machine Learning problem </h1>"
   ]
  },
  {
   "cell_type": "markdown",
   "metadata": {},
   "source": [
    "<h2> 2.1 Data </h2>"
   ]
  },
  {
   "cell_type": "markdown",
   "metadata": {},
   "source": [
    "<h3> 2.1.1 Data Overview </h3>"
   ]
  },
  {
   "cell_type": "markdown",
   "metadata": {},
   "source": [
    "\n",
    "- Data will be in 2 TAR files:\n",
    "1. One folder will contain PNG images which will be x-rays.\n",
    "2. Ohter one has XML reports(More than one image could be associated with a report)\n"
   ]
  },
  {
   "cell_type": "markdown",
   "metadata": {},
   "source": []
  },
  {
   "cell_type": "markdown",
   "metadata": {},
   "source": []
  },
  {
   "cell_type": "markdown",
   "metadata": {
    "id": "CcHpN163u274"
   },
   "source": [
    "\n",
    "Size of Posts.xml - 14.6GB\n",
    "Number of files in XML report folder = 3955\n",
    "\n",
    "Number of files in XML report folder = 3955\n",
    "\n",
    "\n",
    "the dataframe that we are using has 5 columns:  'IMAGES','COMPARISON','INDICATION','FINDINGS','IMPRESSION'\n",
    "\n",
    "\n",
    "Data Field Explaination\n",
    "\n",
    "Dataset contains 3955 rows. The columns in the table are:\n",
    "IMAGES - contains paths of all the images related to a report(input variable)\n",
    "COMPARISON - contains comments about different images of a report \n",
    "INDICATION - contains discription of why the x-ray was suggested.\n",
    "FINDINGS -  initial findings from the x-ray images.\n",
    "IMPRESSION - detailed information about the x-ray(target vaiable)\n",
    "\n",
    "<b> Number of rows in dataframe = 3955  </b>\n"
   ]
  },
  {
   "cell_type": "markdown",
   "metadata": {},
   "source": [
    "<h3>2.1.2 Example Data point </h3>"
   ]
  },
  {
   "cell_type": "markdown",
   "metadata": {},
   "source": [
    "\n",
    "\n",
    "<?xml version=\"1.0\" encoding=\"utf-8\"?>\n",
    "<eCitation>\n",
    "   <meta type=\"rr\"/>\n",
    "   <uId id=\"CXR1772\"/>\n",
    "   <pmcId id=\"1772\"/>\n",
    "   <docSource>CXR</docSource>\n",
    "   <IUXRId id=\"1772\"/>\n",
    "   <licenseType>open-access</licenseType>\n",
    "   <licenseURL>http://creativecommons.org/licenses/by-nc-nd/4.0/</licenseURL>\n",
    "   <ccLicense>byncnd</ccLicense>\n",
    "   <articleURL/>\n",
    "   <articleDate>2013-08-01</articleDate>\n",
    "   <articleType>XR</articleType>\n",
    "   <publisher>Indiana University</publisher>\n",
    "   <title>Indiana University Chest X-ray Collection</title>\n",
    "   <note>The data are drawn from multiple hospital systems.</note>\n",
    "   <specialty>pulmonary diseases</specialty>\n",
    "   <subset>CXR</subset>\n",
    "   <MedlineCitation Owner=\"Indiana University\" Status=\"supplied by publisher\">\n",
    "   \n",
    "      <Article PubModel=\"Electronic\">\n",
    "      \n",
    "         <Journal>\n",
    "         \n",
    "            <JournalIssue>\n",
    "            \n",
    "               <PubDate>\n",
    "               \n",
    "                  <Year>2013</Year>\n",
    "               \n",
    "                  <Month>08</Month>\n",
    "               \n",
    "                  <Day>01</Day>\n",
    "            \n",
    "               </PubDate>\n",
    "         \n",
    "            </JournalIssue>\n",
    "      \n",
    "         </Journal>\n",
    "      \n",
    "         <ArticleTitle>Indiana University Chest X-ray Collection</ArticleTitle>\n",
    "      \n",
    "         <Abstract>\n",
    "         \n",
    "            <AbstractText Label=\"COMPARISON\">Radiograph Chest PA and Lateral XXXX, XXXX.</AbstractText>\n",
    "         \n",
    "            <AbstractText Label=\"INDICATION\">Chest pain and shortness of breath</AbstractText>\n",
    "         \n",
    "            <AbstractText Label=\"FINDINGS\">Mild cardiomegaly. The lungs are clear bilaterally. No large pleural effusion or pneumothorax. The XXXX are intact.</AbstractText>\n",
    "         \n",
    "            <AbstractText Label=\"IMPRESSION\">No acute cardiopulmonary abnormalities.</AbstractText>\n",
    "      \n",
    "         </Abstract>\n",
    "      \n",
    "         <Affiliation>Indiana University</Affiliation>\n",
    "      \n",
    "         <AuthorList CompleteYN=\"Y\">\n",
    "         \n",
    "            <Author ValidYN=\"Y\">\n",
    "            \n",
    "               <LastName>Kohli</LastName>\n",
    "            \n",
    "               <ForeName>Marc</ForeName>\n",
    "            \n",
    "               <Initials>MD</Initials>\n",
    "         \n",
    "            </Author>\n",
    "         \n",
    "            <Author ValidYN=\"Y\">\n",
    "            \n",
    "               <LastName>Rosenman</LastName>\n",
    "            \n",
    "               <ForeName>Marc</ForeName>\n",
    "            \n",
    "               <Initials>M</Initials>\n",
    "         \n",
    "            </Author>\n",
    "      \n",
    "         </AuthorList>\n",
    "      \n",
    "         <Language>eng</Language>\n",
    "      \n",
    "         <PublicationTypeList>\n",
    "         \n",
    "            <PublicationType>Radiology Report</PublicationType>\n",
    "      \n",
    "         </PublicationTypeList>\n",
    "      \n",
    "         <ArticleDate>\n",
    "         \n",
    "            <Year>2013</Year>\n",
    "         \n",
    "            <Month>08</Month>\n",
    "         \n",
    "            <Day>01</Day>\n",
    "      \n",
    "         </ArticleDate>\n",
    "   \n",
    "      </Article>\n",
    "   \n",
    "      <EssieArticleTitle>Indiana University Chest X-ray Collection</EssieArticleTitle>\n",
    "   \n",
    "      <IMedAuthor>Marc David Kohli MD</IMedAuthor>\n",
    "   \n",
    "      <IMedAuthor>Marc Rosenman M</IMedAuthor>\n",
    "\n",
    "   </MedlineCitation>\n",
    "   <MeSH>\n",
    "   \n",
    "      <major>Cardiomegaly/mild</major>\n",
    "\n",
    "   </MeSH>\n",
    "</eCitation>\n"
   ]
  },
  {
   "cell_type": "markdown",
   "metadata": {},
   "source": [
    "<h2>2.2 Mapping the real-world problem to a Machine Learning Problem </h2>"
   ]
  },
  {
   "cell_type": "markdown",
   "metadata": {},
   "source": [
    "<h3> 2.2.1 Type of Machine Learning Problem </h3>"
   ]
  },
  {
   "cell_type": "markdown",
   "metadata": {},
   "source": [
    "\n",
    "1. This case study is basically based on generating a text given an inputimage. Specifically we want to generate a medical report given a chestx ray image.\n",
    "2. This falls under a Vision Language task , which is a mixture of computer vision domain and natural language processing domain.\n",
    "\n"
   ]
  },
  {
   "cell_type": "markdown",
   "metadata": {},
   "source": [
    "<h3>2.2.2 Performance metric </h3>"
   ]
  },
  {
   "cell_type": "markdown",
   "metadata": {
    "id": "ujjpDMFRu26D"
   },
   "source": [
    "The metric that we will be using in this for evaluation will be BLEU score.\n",
    "\n",
    "Bleu is a most common metric used for machine translation. It uses\n",
    "something called modified precision to calculate the score, this score lies\n",
    "between 0-1, 1 meaning it's exactly the same or perfect and 0 means there is\n",
    "nothing in common.\n",
    "The BLEU score was proposed by Kishore Papineni, et al. in their 2002 paper “BLEU: a Method for Automatic Evaluation of Machine Translation“.\n",
    "\n",
    "link to paper: https://www.researchgate.net/publication/2588204_BLEU_a_Method_for_Automatic_Evaluation_of_Machine_Translation\n",
    "\n",
    "we will use nltk library to calculate BLEU score.\n"
   ]
  },
  {
   "cell_type": "markdown",
   "metadata": {},
   "source": [
    "<h1> 3. Exploratory Data Analysis </h1>\n",
    "\n"
   ]
  },
  {
   "cell_type": "markdown",
   "metadata": {},
   "source": [
    "<h2> 3.1 Data Loading </h2>"
   ]
  },
  {
   "cell_type": "markdown",
   "metadata": {
    "id": "16fYbRvDaNzk"
   },
   "source": [
    "<h3> 3.1.1 downloading data and extracting the zip file </h3>"
   ]
  },
  {
   "cell_type": "code",
   "execution_count": 1,
   "metadata": {
    "colab": {
     "base_uri": "https://localhost:8080/",
     "height": 109
    },
    "id": "uBUD1jgJw7fu",
    "outputId": "65446c6a-d557-4188-876b-c1f6f90e5c7d"
   },
   "outputs": [
    {
     "name": "stdout",
     "output_type": "stream",
     "text": [
      "Reading package lists... Done\n",
      "Building dependency tree       \n",
      "Reading state information... Done\n",
      "transmission-cli is already the newest version (2.92-3ubuntu2).\n",
      "0 upgraded, 0 newly installed, 0 to remove and 21 not upgraded.\n"
     ]
    }
   ],
   "source": [
    "#reference https://blog.gagahpangeran.com/torrent-to-google-drive-using-google-colab\n",
    "!apt-get install transmission-cli"
   ]
  },
  {
   "cell_type": "code",
   "execution_count": 2,
   "metadata": {
    "colab": {
     "base_uri": "https://localhost:8080/",
     "height": 35
    },
    "id": "P0wBlAU60lRt",
    "outputId": "2cfafdd1-2cf7-4b47-c93e-bad5fc9454a0"
   },
   "outputs": [
    {
     "name": "stdout",
     "output_type": "stream",
     "text": [
      "Drive already mounted at /content/drive; to attempt to forcibly remount, call drive.mount(\"/content/drive\", force_remount=True).\n"
     ]
    }
   ],
   "source": [
    "from google.colab import drive\n",
    "drive.mount('/content/drive')#mounting google drive "
   ]
  },
  {
   "cell_type": "code",
   "execution_count": 3,
   "metadata": {
    "colab": {
     "base_uri": "https://localhost:8080/",
     "height": 36
    },
    "id": "5TZCumoc0oM5",
    "outputId": "3b71871c-8577-43a5-be48-71af4c3f9e5d"
   },
   "outputs": [
    {
     "data": {
      "application/vnd.google.colaboratory.intrinsic+json": {
       "type": "string"
      },
      "text/plain": [
       "\"''!transmission-cli -w '/content/drive/My Drive/case_study_2' https://academictorrents.com/download/66450ba52ba3f83fbf82ef9c91f2bde0e845aba9.torrent\""
      ]
     },
     "execution_count": 3,
     "metadata": {
      "tags": []
     },
     "output_type": "execute_result"
    }
   ],
   "source": [
    "'''''!transmission-cli -w '/content/drive/My Drive/case_study_2' https://academictorrents.com/download/66450ba52ba3f83fbf82ef9c91f2bde0e845aba9.torrent'''''"
   ]
  },
  {
   "cell_type": "code",
   "execution_count": 4,
   "metadata": {
    "colab": {
     "base_uri": "https://localhost:8080/",
     "height": 36
    },
    "id": "uD7hEVEX3S8H",
    "outputId": "9e1d5b93-4715-45d4-e837-3b43da67997a"
   },
   "outputs": [
    {
     "data": {
      "application/vnd.google.colaboratory.intrinsic+json": {
       "type": "string"
      },
      "text/plain": [
       "\"''!transmission-cli -w '/content/drive/My Drive/case_study_2' https://academictorrents.com/download/5a3a439df24931f410fac269b87b050203d9467d.torrent\""
      ]
     },
     "execution_count": 4,
     "metadata": {
      "tags": []
     },
     "output_type": "execute_result"
    }
   ],
   "source": [
    "'''''!transmission-cli -w '/content/drive/My Drive/case_study_2' https://academictorrents.com/download/5a3a439df24931f410fac269b87b050203d9467d.torrent'''''"
   ]
  },
  {
   "cell_type": "code",
   "execution_count": 5,
   "metadata": {
    "colab": {
     "base_uri": "https://localhost:8080/",
     "height": 35
    },
    "id": "vjiKx1Z98Kuy",
    "outputId": "506ac258-21d6-465c-adb6-b0cfa7c32887"
   },
   "outputs": [
    {
     "name": "stdout",
     "output_type": "stream",
     "text": [
      "Requirement already satisfied: patool in /usr/local/lib/python3.6/dist-packages (1.12)\n"
     ]
    }
   ],
   "source": [
    "#making directory where images need to be extracted\n",
    "!pip install patool # patool is a zip file extraction tool\n",
    "import patoolib\n",
    "import os \n",
    "path_of_images = \"images\"\n",
    "if path_of_images not in os.listdir():\n",
    "  os.mkdir(path_of_images)\n",
    "  patoolib.extract_archive(\"/content/drive/My Drive/case_study_2/NLMCXR_reports.tgz\")#extracting archive\n",
    "  patoolib.extract_archive('/content/drive/My Drive/case_study_2/NLMCXR_png.tgz',outdir=path_of_images)"
   ]
  },
  {
   "cell_type": "markdown",
   "metadata": {},
   "source": [
    "<h3> 3.1.2 parsing the xml file </h3>"
   ]
  },
  {
   "cell_type": "code",
   "execution_count": 6,
   "metadata": {
    "id": "bKCXQVTOv_od"
   },
   "outputs": [],
   "source": [
    "#https://stackoverflow.com/questions/1912434/how-do-i-parse-xml-in-python\n",
    "import xml.etree.ElementTree as ET\n",
    "root = ET.parse('/content/drive/My Drive/case_study_2/reports/ecgen-radiology/1.xml').getroot()#xml parsing"
   ]
  },
  {
   "cell_type": "markdown",
   "metadata": {
    "id": "FyHJqFsp6vLO"
   },
   "source": [
    "XML is an inherently hierarchical data format, and the most natural way to represent it is with a tree. ET has two classes for this purpose - ElementTree represents the whole XML document as a tree, and Element represents a single node in this tree. Interactions with the whole document (reading and writing to/from files) are usually done on the ElementTree level. Interactions with a single XML element and its sub-elements are done on the Element level."
   ]
  },
  {
   "cell_type": "markdown",
   "metadata": {},
   "source": [
    "<h3> 3.1.3 extracting the intrested columns from xml file </h3>"
   ]
  },
  {
   "cell_type": "code",
   "execution_count": 8,
   "metadata": {
    "id": "I635Aik0v_o-",
    "scrolled": true
   },
   "outputs": [],
   "source": [
    "import os\n",
    "ids = []\n",
    "COMPARISON = []\n",
    "INDICATION = []\n",
    "FINDINGS = []\n",
    "IMPRESSION = []\n",
    "images = []\n",
    "\n",
    "for filename in  sorted(os.listdir(os.path.join(os.getcwd(),'ecgen-radiology'))):#iterating over all the xml files in the directory\n",
    "    root = ET.parse(os.path.join(os.getcwd(),'ecgen-radiology',filename)).getroot()#creating parser\n",
    "    imageId = []\n",
    "\n",
    "    for child in root.iter():#iterating over root node\n",
    "\n",
    "\n",
    "        if child.tag == 'pmcId':#searching if tag has pmcId in it\n",
    "            ids.append(child.attrib['id'])# append that tag value in ids list\n",
    "        if child.tag == 'AbstractText':\n",
    "            if child.attrib['Label'] == 'COMPARISON':\n",
    "\n",
    "                COMPARISON.append(child.text)\n",
    "            if child.attrib['Label'] == 'INDICATION':\n",
    "\n",
    "                INDICATION.append(child.text)\n",
    "            if child.attrib['Label'] == 'FINDINGS':\n",
    "\n",
    "                FINDINGS.append(child.text)\n",
    "            if child.attrib['Label'] == 'IMPRESSION':\n",
    "\n",
    "                IMPRESSION.append(child.text)\n",
    "        if child.tag == 'parentImage':   \n",
    "            imageId.append(os.getcwd()+'/'+path_of_images+'/'+child.attrib['id']+'.png')#storing images in current working directory under path_of_images tag and filenames will be same as id atribute\n",
    "    images.append(imageId)# appending image_paths to images list"
   ]
  },
  {
   "cell_type": "code",
   "execution_count": 9,
   "metadata": {
    "colab": {
     "base_uri": "https://localhost:8080/",
     "height": 109
    },
    "id": "Tni2Gw5wv_pU",
    "outputId": "0ea7a0d2-fd96-4c0a-96ee-62a255c86a8d"
   },
   "outputs": [
    {
     "name": "stdout",
     "output_type": "stream",
     "text": [
      "3955\n",
      "3955\n",
      "3955\n",
      "3955\n",
      "3955\n"
     ]
    }
   ],
   "source": [
    "print(len(images))\n",
    "print(len(COMPARISON))\n",
    "print(len(INDICATION))\n",
    "print(len(FINDINGS))\n",
    "print(len(IMPRESSION))"
   ]
  },
  {
   "cell_type": "markdown",
   "metadata": {},
   "source": [
    "<h3> 3.1.4 saving extracted columns into dataframe  </h3>"
   ]
  },
  {
   "cell_type": "code",
   "execution_count": 10,
   "metadata": {
    "id": "NS2PUU0Mv_pf"
   },
   "outputs": [],
   "source": [
    "data = (zip(images,COMPARISON,INDICATION,FINDINGS,IMPRESSION))"
   ]
  },
  {
   "cell_type": "code",
   "execution_count": 11,
   "metadata": {
    "id": "rxnYb-Y-v_pq"
   },
   "outputs": [],
   "source": [
    "import pandas as pd\n",
    "df = pd.DataFrame(data=data,index = [int(i) for i in ids],columns = ['IMAGES','COMPARISON','INDICATION','FINDINGS','IMPRESSION'])#making dataframe out of data"
   ]
  },
  {
   "cell_type": "code",
   "execution_count": 12,
   "metadata": {
    "colab": {
     "base_uri": "https://localhost:8080/",
     "height": 293
    },
    "id": "bV8tyc8Zv_px",
    "outputId": "e82e9b3d-cbd3-40dd-b87a-92d77ad945b7"
   },
   "outputs": [
    {
     "data": {
      "text/html": [
       "<div>\n",
       "<style scoped>\n",
       "    .dataframe tbody tr th:only-of-type {\n",
       "        vertical-align: middle;\n",
       "    }\n",
       "\n",
       "    .dataframe tbody tr th {\n",
       "        vertical-align: top;\n",
       "    }\n",
       "\n",
       "    .dataframe thead th {\n",
       "        text-align: right;\n",
       "    }\n",
       "</style>\n",
       "<table border=\"1\" class=\"dataframe\">\n",
       "  <thead>\n",
       "    <tr style=\"text-align: right;\">\n",
       "      <th></th>\n",
       "      <th>IMAGES</th>\n",
       "      <th>COMPARISON</th>\n",
       "      <th>INDICATION</th>\n",
       "      <th>FINDINGS</th>\n",
       "      <th>IMPRESSION</th>\n",
       "    </tr>\n",
       "  </thead>\n",
       "  <tbody>\n",
       "    <tr>\n",
       "      <th>1</th>\n",
       "      <td>[/content/images/CXR1_1_IM-0001-3001.png, /con...</td>\n",
       "      <td>None.</td>\n",
       "      <td>Positive TB test</td>\n",
       "      <td>The cardiac silhouette and mediastinum size ar...</td>\n",
       "      <td>Normal chest x-XXXX.</td>\n",
       "    </tr>\n",
       "    <tr>\n",
       "      <th>10</th>\n",
       "      <td>[/content/images/CXR10_IM-0002-1001.png, /cont...</td>\n",
       "      <td>Chest radiographs XXXX.</td>\n",
       "      <td>XXXX-year-old male, chest pain.</td>\n",
       "      <td>The cardiomediastinal silhouette is within nor...</td>\n",
       "      <td>No acute cardiopulmonary process.</td>\n",
       "    </tr>\n",
       "    <tr>\n",
       "      <th>100</th>\n",
       "      <td>[/content/images/CXR100_IM-0002-1001.png, /con...</td>\n",
       "      <td>None.</td>\n",
       "      <td>None</td>\n",
       "      <td>Both lungs are clear and expanded. Heart and m...</td>\n",
       "      <td>No active disease.</td>\n",
       "    </tr>\n",
       "    <tr>\n",
       "      <th>1000</th>\n",
       "      <td>[/content/images/CXR1000_IM-0003-1001.png, /co...</td>\n",
       "      <td>XXXX PA and lateral chest radiographs</td>\n",
       "      <td>XXXX-year-old male, XXXX.</td>\n",
       "      <td>There is XXXX increased opacity within the rig...</td>\n",
       "      <td>1. Increased opacity in the right upper lobe w...</td>\n",
       "    </tr>\n",
       "    <tr>\n",
       "      <th>1001</th>\n",
       "      <td>[/content/images/CXR1001_IM-0004-1001.png, /co...</td>\n",
       "      <td>None</td>\n",
       "      <td>dyspnea, subjective fevers, arthritis, immigra...</td>\n",
       "      <td>Interstitial markings are diffusely prominent ...</td>\n",
       "      <td>Diffuse fibrosis. No visible focal acute disease.</td>\n",
       "    </tr>\n",
       "  </tbody>\n",
       "</table>\n",
       "</div>"
      ],
      "text/plain": [
       "                                                 IMAGES  ...                                         IMPRESSION\n",
       "1     [/content/images/CXR1_1_IM-0001-3001.png, /con...  ...                               Normal chest x-XXXX.\n",
       "10    [/content/images/CXR10_IM-0002-1001.png, /cont...  ...                  No acute cardiopulmonary process.\n",
       "100   [/content/images/CXR100_IM-0002-1001.png, /con...  ...                                 No active disease.\n",
       "1000  [/content/images/CXR1000_IM-0003-1001.png, /co...  ...  1. Increased opacity in the right upper lobe w...\n",
       "1001  [/content/images/CXR1001_IM-0004-1001.png, /co...  ...  Diffuse fibrosis. No visible focal acute disease.\n",
       "\n",
       "[5 rows x 5 columns]"
      ]
     },
     "execution_count": 12,
     "metadata": {
      "tags": []
     },
     "output_type": "execute_result"
    }
   ],
   "source": [
    "df.head()"
   ]
  },
  {
   "cell_type": "code",
   "execution_count": 13,
   "metadata": {
    "id": "sSnqIQ21v_p4"
   },
   "outputs": [],
   "source": [
    "df.sort_index(inplace=True)#sorting index"
   ]
  },
  {
   "cell_type": "code",
   "execution_count": 14,
   "metadata": {
    "colab": {
     "base_uri": "https://localhost:8080/",
     "height": 237
    },
    "id": "fbk86gbGv_qB",
    "outputId": "f9385ef0-55b2-4f57-ca4d-8af6d2e22c65"
   },
   "outputs": [
    {
     "name": "stdout",
     "output_type": "stream",
     "text": [
      "<class 'pandas.core.frame.DataFrame'>\n",
      "Int64Index: 3955 entries, 1 to 3999\n",
      "Data columns (total 5 columns):\n",
      " #   Column      Non-Null Count  Dtype \n",
      "---  ------      --------------  ----- \n",
      " 0   IMAGES      3955 non-null   object\n",
      " 1   COMPARISON  3333 non-null   object\n",
      " 2   INDICATION  3865 non-null   object\n",
      " 3   FINDINGS    3425 non-null   object\n",
      " 4   IMPRESSION  3921 non-null   object\n",
      "dtypes: object(5)\n",
      "memory usage: 185.4+ KB\n"
     ]
    }
   ],
   "source": [
    "df.info()#displaying info about the dataframe"
   ]
  },
  {
   "cell_type": "markdown",
   "metadata": {},
   "source": [
    "<h2> 3.2 EDA on each columns </h2>"
   ]
  },
  {
   "cell_type": "markdown",
   "metadata": {
    "id": "vG4NU-Eyv_qJ"
   },
   "source": [
    "### 3.2.1 COLUMN IMAGES:"
   ]
  },
  {
   "cell_type": "code",
   "execution_count": 15,
   "metadata": {
    "id": "9_7bX9_xv_qL"
   },
   "outputs": [],
   "source": [
    "import numpy as np\n",
    "img_count = df.IMAGES.apply(lambda x:len(x))#counting number of images per datapoint"
   ]
  },
  {
   "cell_type": "code",
   "execution_count": 16,
   "metadata": {
    "colab": {
     "base_uri": "https://localhost:8080/",
     "height": 90
    },
    "id": "RgIRp6r1v_qS",
    "outputId": "f9f3f1db-b0e2-4068-8a42-6e0af254a03f"
   },
   "outputs": [
    {
     "name": "stdout",
     "output_type": "stream",
     "text": [
      "mean of number  of images per report are : 1.8887484197218711\n",
      "median of number  of images per report are : 2.0\n",
      "maximum number  of images per report are : 5\n",
      "minimum number  of images per report are : 0\n"
     ]
    }
   ],
   "source": [
    "print('mean of number  of images per report are :',img_count.mean())\n",
    "print('median of number  of images per report are :',img_count.median())\n",
    "print('maximum number  of images per report are :',img_count.max())\n",
    "print('minimum number  of images per report are :',img_count.min())"
   ]
  },
  {
   "cell_type": "code",
   "execution_count": 17,
   "metadata": {
    "colab": {
     "base_uri": "https://localhost:8080/",
     "height": 164
    },
    "id": "O9mICxErv_qd",
    "outputId": "cd9617b3-2717-4f58-e98b-4da2c5742312",
    "scrolled": true
   },
   "outputs": [
    {
     "name": "stdout",
     "output_type": "stream",
     "text": [
      "number of images associated with each report\n",
      "2    3208\n",
      "1     446\n",
      "3     181\n",
      "0     104\n",
      "4      15\n",
      "5       1\n",
      "Name: IMAGES, dtype: int64\n"
     ]
    }
   ],
   "source": [
    "print('number of images associated with each report')\n",
    "print(img_count.value_counts())"
   ]
  },
  {
   "cell_type": "code",
   "execution_count": 18,
   "metadata": {
    "colab": {
     "base_uri": "https://localhost:8080/",
     "height": 346
    },
    "id": "bXESHbNpv_ql",
    "outputId": "5a64cfcc-1455-4bc4-a7c8-2f2aacb2034f"
   },
   "outputs": [
    {
     "data": {
      "image/png": "[encoded data removed]",
      "text/plain": [
       "<Figure size 720x360 with 1 Axes>"
      ]
     },
     "metadata": {
      "needs_background": "light",
      "tags": []
     },
     "output_type": "display_data"
    }
   ],
   "source": [
    "import matplotlib.pyplot as plt\n",
    "df.IMAGES.apply(lambda x:len(x)).value_counts().plot(figsize = (10,5),kind = 'bar',legend =True,grid =True,title='Number of images per report')\n",
    "plt.xlabel('number of images')\n",
    "plt.ylabel('image count')\n",
    "plt.show()"
   ]
  },
  {
   "cell_type": "code",
   "execution_count": 19,
   "metadata": {
    "id": "5d4Nxzxmv_qs"
   },
   "outputs": [],
   "source": [
    "img_count_0 = df.IMAGES.apply(lambda x:len(x)==0)#counting which datapoint does not have image attached to it"
   ]
  },
  {
   "cell_type": "code",
   "execution_count": 20,
   "metadata": {
    "id": "1tG79AEsv_q8"
   },
   "outputs": [],
   "source": [
    "idx = []\n",
    "for i in img_count_0.index.values:\n",
    "    if img_count_0[i]==True:\n",
    "        idx.append(i)"
   ]
  },
  {
   "cell_type": "code",
   "execution_count": 21,
   "metadata": {
    "id": "nGfKIqxfv_rC"
   },
   "outputs": [],
   "source": [
    "#dropping rows whocse which does not have images attached to it.\n",
    "df.drop(idx, inplace=True)"
   ]
  },
  {
   "cell_type": "code",
   "execution_count": 22,
   "metadata": {
    "colab": {
     "base_uri": "https://localhost:8080/",
     "height": 35
    },
    "id": "xIiGWmtMv_rG",
    "outputId": "85ce2b80-57e0-46eb-a5ca-6e640d3523e5"
   },
   "outputs": [
    {
     "name": "stdout",
     "output_type": "stream",
     "text": [
      "3851\n"
     ]
    }
   ],
   "source": [
    "print(len(df))#length of dataframe after removing datapoints without images in it"
   ]
  },
  {
   "cell_type": "code",
   "execution_count": 23,
   "metadata": {
    "colab": {
     "base_uri": "https://localhost:8080/",
     "height": 237
    },
    "id": "gF8Avtrwp9FB",
    "outputId": "655549ad-37db-45c6-dd25-822002aa020f"
   },
   "outputs": [
    {
     "name": "stdout",
     "output_type": "stream",
     "text": [
      "<class 'pandas.core.frame.DataFrame'>\n",
      "Int64Index: 3851 entries, 1 to 3999\n",
      "Data columns (total 5 columns):\n",
      " #   Column      Non-Null Count  Dtype \n",
      "---  ------      --------------  ----- \n",
      " 0   IMAGES      3851 non-null   object\n",
      " 1   COMPARISON  3252 non-null   object\n",
      " 2   INDICATION  3765 non-null   object\n",
      " 3   FINDINGS    3337 non-null   object\n",
      " 4   IMPRESSION  3820 non-null   object\n",
      "dtypes: object(5)\n",
      "memory usage: 180.5+ KB\n"
     ]
    }
   ],
   "source": [
    "df.info()"
   ]
  },
  {
   "cell_type": "code",
   "execution_count": 24,
   "metadata": {
    "colab": {
     "base_uri": "https://localhost:8080/",
     "height": 293
    },
    "id": "Sj0qkZfFv_rM",
    "outputId": "74f29cab-33a6-4843-b75f-d0c6080cda2a"
   },
   "outputs": [
    {
     "data": {
      "text/html": [
       "<div>\n",
       "<style scoped>\n",
       "    .dataframe tbody tr th:only-of-type {\n",
       "        vertical-align: middle;\n",
       "    }\n",
       "\n",
       "    .dataframe tbody tr th {\n",
       "        vertical-align: top;\n",
       "    }\n",
       "\n",
       "    .dataframe thead th {\n",
       "        text-align: right;\n",
       "    }\n",
       "</style>\n",
       "<table border=\"1\" class=\"dataframe\">\n",
       "  <thead>\n",
       "    <tr style=\"text-align: right;\">\n",
       "      <th></th>\n",
       "      <th>IMAGES</th>\n",
       "      <th>COMPARISON</th>\n",
       "      <th>INDICATION</th>\n",
       "      <th>FINDINGS</th>\n",
       "      <th>IMPRESSION</th>\n",
       "    </tr>\n",
       "  </thead>\n",
       "  <tbody>\n",
       "    <tr>\n",
       "      <th>1</th>\n",
       "      <td>[/content/images/CXR1_1_IM-0001-3001.png, /con...</td>\n",
       "      <td>None.</td>\n",
       "      <td>Positive TB test</td>\n",
       "      <td>The cardiac silhouette and mediastinum size ar...</td>\n",
       "      <td>Normal chest x-XXXX.</td>\n",
       "    </tr>\n",
       "    <tr>\n",
       "      <th>2</th>\n",
       "      <td>[/content/images/CXR2_IM-0652-1001.png, /conte...</td>\n",
       "      <td>None.</td>\n",
       "      <td>Preop bariatric surgery.</td>\n",
       "      <td>Borderline cardiomegaly. Midline sternotomy XX...</td>\n",
       "      <td>No acute pulmonary findings.</td>\n",
       "    </tr>\n",
       "    <tr>\n",
       "      <th>3</th>\n",
       "      <td>[/content/images/CXR3_IM-1384-1001.png, /conte...</td>\n",
       "      <td>None</td>\n",
       "      <td>rib pain after a XXXX, XXXX XXXX steps this XX...</td>\n",
       "      <td>None</td>\n",
       "      <td>No displaced rib fractures, pneumothorax, or p...</td>\n",
       "    </tr>\n",
       "    <tr>\n",
       "      <th>4</th>\n",
       "      <td>[/content/images/CXR4_IM-2050-1001.png, /conte...</td>\n",
       "      <td>None available</td>\n",
       "      <td>XXXX-year-old XXXX with XXXX.</td>\n",
       "      <td>There are diffuse bilateral interstitial and a...</td>\n",
       "      <td>1. Bullous emphysema and interstitial fibrosis...</td>\n",
       "    </tr>\n",
       "    <tr>\n",
       "      <th>5</th>\n",
       "      <td>[/content/images/CXR5_IM-2117-1003002.png, /co...</td>\n",
       "      <td>None</td>\n",
       "      <td>Chest and nasal congestion.</td>\n",
       "      <td>The cardiomediastinal silhouette and pulmonary...</td>\n",
       "      <td>No acute cardiopulmonary abnormality.</td>\n",
       "    </tr>\n",
       "  </tbody>\n",
       "</table>\n",
       "</div>"
      ],
      "text/plain": [
       "                                              IMAGES  ...                                         IMPRESSION\n",
       "1  [/content/images/CXR1_1_IM-0001-3001.png, /con...  ...                               Normal chest x-XXXX.\n",
       "2  [/content/images/CXR2_IM-0652-1001.png, /conte...  ...                       No acute pulmonary findings.\n",
       "3  [/content/images/CXR3_IM-1384-1001.png, /conte...  ...  No displaced rib fractures, pneumothorax, or p...\n",
       "4  [/content/images/CXR4_IM-2050-1001.png, /conte...  ...  1. Bullous emphysema and interstitial fibrosis...\n",
       "5  [/content/images/CXR5_IM-2117-1003002.png, /co...  ...              No acute cardiopulmonary abnormality.\n",
       "\n",
       "[5 rows x 5 columns]"
      ]
     },
     "execution_count": 24,
     "metadata": {
      "tags": []
     },
     "output_type": "execute_result"
    }
   ],
   "source": [
    "df.reset_index()#resetting index\n",
    "df.sort_index(inplace=True)#sorting indeces\n",
    "df.head()"
   ]
  },
  {
   "cell_type": "code",
   "execution_count": 25,
   "metadata": {
    "colab": {
     "base_uri": "https://localhost:8080/",
     "height": 127
    },
    "id": "_BAMnPAov_rT",
    "outputId": "ab6a53a6-cf53-4100-f4e8-beca72088f2d"
   },
   "outputs": [
    {
     "data": {
      "text/plain": [
       "IMAGES          0\n",
       "COMPARISON    599\n",
       "INDICATION     86\n",
       "FINDINGS      514\n",
       "IMPRESSION     31\n",
       "dtype: int64"
      ]
     },
     "execution_count": 25,
     "metadata": {
      "tags": []
     },
     "output_type": "execute_result"
    }
   ],
   "source": [
    "df.isna().sum()#counting nan's in each column"
   ]
  },
  {
   "cell_type": "markdown",
   "metadata": {
    "id": "wrFe3MQSv_re"
   },
   "source": [
    "### 3.2.2 COLUMN COMPARISON:"
   ]
  },
  {
   "cell_type": "code",
   "execution_count": 26,
   "metadata": {
    "colab": {
     "base_uri": "https://localhost:8080/",
     "height": 219
    },
    "id": "8WMlX-kQv_rf",
    "outputId": "472fee24-77e0-411f-c4b5-fd54283015dd"
   },
   "outputs": [
    {
     "data": {
      "text/plain": [
       "None.                                 814\n",
       "NaN                                   599\n",
       "None                                  567\n",
       "XXXX                                  280\n",
       "XXXX, XXXX.                           220\n",
       "XXXX, XXXX                            159\n",
       "None available.                       126\n",
       "XXXX.                                 119\n",
       "None available                         81\n",
       "Two views of the chest dated XXXX.     23\n",
       "Name: COMPARISON, dtype: int64"
      ]
     },
     "execution_count": 26,
     "metadata": {
      "tags": []
     },
     "output_type": "execute_result"
    }
   ],
   "source": [
    "#displaying top 10 datapoints with highest number of occurences\n",
    "df.COMPARISON.value_counts(dropna = False)[:10]"
   ]
  },
  {
   "cell_type": "code",
   "execution_count": 27,
   "metadata": {
    "colab": {
     "base_uri": "https://localhost:8080/",
     "height": 35
    },
    "id": "vYOcoFINv_rk",
    "outputId": "377d0931-4824-4c82-a108-75b31af99e6d"
   },
   "outputs": [
    {
     "name": "stdout",
     "output_type": "stream",
     "text": [
      "number of None values in COMPARISION column: 2389\n"
     ]
    }
   ],
   "source": [
    "#summing up top 9 valuecounts to see how many are not useful\n",
    "print('number of None values in COMPARISION column:',df.COMPARISON.value_counts()[:9].sum())"
   ]
  },
  {
   "cell_type": "markdown",
   "metadata": {
    "id": "YlZaIR_3v_rw"
   },
   "source": [
    "### 3.2.3 COLUMN INDICATION:"
   ]
  },
  {
   "cell_type": "code",
   "execution_count": 28,
   "metadata": {
    "colab": {
     "base_uri": "https://localhost:8080/",
     "height": 311
    },
    "id": "f4cgVMoJv_rx",
    "outputId": "246bdb04-7157-4cce-d553-76810ee833cb"
   },
   "outputs": [
    {
     "data": {
      "text/plain": [
       "Chest pain                               129\n",
       "XXXX                                     114\n",
       "Chest pain.                               88\n",
       "NaN                                       86\n",
       "chest pain                                62\n",
       "XXXX.                                     58\n",
       "XXXX-year-old female with chest pain.     39\n",
       "XXXX-year-old male with chest pain.       38\n",
       "Dyspnea                                   37\n",
       "Shortness of breath                       31\n",
       "dyspnea                                   29\n",
       "Shortness of breath.                      23\n",
       "XXXX-year-old female with chest pain      19\n",
       "XXXX-year-old woman with chest pain.      19\n",
       "XXXX-year-old female with XXXX.           19\n",
       "Name: INDICATION, dtype: int64"
      ]
     },
     "execution_count": 28,
     "metadata": {
      "tags": []
     },
     "output_type": "execute_result"
    }
   ],
   "source": [
    "#displaying top 15 datapoints with highest number of occurences\n",
    "df.INDICATION.value_counts(dropna = False)[:15]"
   ]
  },
  {
   "cell_type": "markdown",
   "metadata": {
    "id": "bL9t77Avv_r2"
   },
   "source": [
    "### 3.2.4 COLUMN FINDINGS:"
   ]
  },
  {
   "cell_type": "code",
   "execution_count": 29,
   "metadata": {
    "colab": {
     "base_uri": "https://localhost:8080/",
     "height": 239
    },
    "id": "J2djAxJYv_r6",
    "outputId": "3f595080-6ade-4682-c066-2f847e3f9f1b",
    "scrolled": false
   },
   "outputs": [
    {
     "data": {
      "text/plain": [
       "NaN                                                                                                                                                                                                                                                 514\n",
       "The heart and lungs have XXXX XXXX in the interval. Both lungs are clear and expanded. Heart and mediastinum normal.                                                                                                                                 51\n",
       "The heart is normal in size. The mediastinum is unremarkable. The lungs are clear.                                                                                                                                                                   51\n",
       "Heart size normal. Lungs are clear. XXXX are normal. No pneumonia, effusions, edema, pneumothorax, adenopathy, nodules or masses.                                                                                                                    46\n",
       "The lungs are clear bilaterally. Specifically, no evidence of focal consolidation, pneumothorax, or pleural effusion.. Cardio mediastinal silhouette is unremarkable. Visualized osseous structures of the thorax are without acute abnormality.     45\n",
       "Cardiac and mediastinal contours are within normal limits. The lungs are clear. Bony structures are intact.                                                                                                                                          35\n",
       "Both lungs are clear and expanded. Heart and mediastinum normal.                                                                                                                                                                                     33\n",
       "The cardiomediastinal silhouette and pulmonary vasculature are within normal limits in size. The lungs are clear of focal airspace disease, pneumothorax, or pleural effusion. There are no acute bony findings.                                     26\n",
       "Lungs are clear bilaterally. Cardiac and mediastinal silhouettes are normal. Pulmonary vasculature is normal. No pneumothorax or pleural effusion. No acute bony abnormality.                                                                        21\n",
       "The heart size and pulmonary vascularity appear within normal limits. The lungs are free of focal airspace disease. No pleural effusion or pneumothorax is seen.                                                                                     20\n",
       "Name: FINDINGS, dtype: int64"
      ]
     },
     "execution_count": 29,
     "metadata": {
      "tags": []
     },
     "output_type": "execute_result"
    }
   ],
   "source": [
    "#displaying 10 datapoints with highest number of occurences\n",
    "df.FINDINGS.value_counts(dropna = False)[:10]"
   ]
  },
  {
   "cell_type": "markdown",
   "metadata": {
    "id": "oBIwCsH8v_sE"
   },
   "source": [
    "### 3.2.5 COLUMN IMPRESSION(TARGET):"
   ]
  },
  {
   "cell_type": "code",
   "execution_count": 30,
   "metadata": {
    "colab": {
     "base_uri": "https://localhost:8080/",
     "height": 403
    },
    "id": "CYucM678v_sE",
    "outputId": "43ec00e7-bad0-44f2-bb57-c25eb58159f0"
   },
   "outputs": [
    {
     "data": {
      "text/plain": [
       "No acute cardiopulmonary abnormality.                301\n",
       "No active disease.                                   127\n",
       "No acute cardiopulmonary abnormalities.              112\n",
       "No acute cardiopulmonary findings.                   111\n",
       "No acute disease.                                    109\n",
       "No acute cardiopulmonary disease.                     99\n",
       "No acute cardiopulmonary process.                     66\n",
       "1. No acute radiographic cardiopulmonary process.     66\n",
       "No evidence of active disease.                        47\n",
       "No acute cardiopulmonary abnormality. .               47\n",
       "1. No evidence of active disease.                     44\n",
       "No acute pulmonary disease.                           44\n",
       "No acute cardiopulmonary abnormality..                43\n",
       "Normal chest                                          36\n",
       "No acute cardiopulmonary findings. .                  35\n",
       "NaN                                                   31\n",
       "No acute findings                                     30\n",
       "Negative for acute abnormality.                       30\n",
       "No acute cardiopulmonary finding.                     29\n",
       "No acute findings.                                    29\n",
       "Name: IMPRESSION, dtype: int64"
      ]
     },
     "execution_count": 30,
     "metadata": {
      "tags": []
     },
     "output_type": "execute_result"
    }
   ],
   "source": [
    "#displaying 10 datapoints with highest number of occurences\n",
    "df.IMPRESSION.value_counts(dropna = False)[:20]"
   ]
  },
  {
   "cell_type": "code",
   "execution_count": 35,
   "metadata": {
    "colab": {
     "base_uri": "https://localhost:8080/",
     "height": 239
    },
    "id": "EmSmj7wkxKIf",
    "outputId": "94dde82a-6604-44dd-c2bc-32d4b50cb0ec"
   },
   "outputs": [
    {
     "data": {
      "text/plain": [
       "No focal lung infiltrates.                                                                                                                                                                                                                        1\n",
       "Stable left lower lung XXXX calcified granuloma. Otherwise lungs are clear. Left-sided perihilar calcified lymph node, unchanged. No XXXX of the pleural effusions. No XXXX of active cardiopulmonary disease. No XXXX of active tuberculosis.    1\n",
       "1. Mildly elevated right hemidiaphragm. Otherwise no acute cardiopulmonary abnormality seen.                                                                                                                                                      1\n",
       "Negative preoperative chest x-XXXX.                                                                                                                                                                                                               1\n",
       "1. Vascular congestion and diffuse interstitial edema 2. Stable cardiomegaly 3. Low lung volumes                                                                                                                                                  1\n",
       "1. Blunting of the right costophrenic XXXX. This may represent pleural effusion or pleural reaction. 2. Clearing of left base airspace disease. 3. Outward XXXX of PICC line. Tip now projects over upper SVC.                                    1\n",
       "Slight cardiomegaly. Lungs are clear. No rib abnormalities are seen. The lower ribs are not adequately imaged to rule out pathology on the chest film                                                                                             1\n",
       "COPD and probable right basilar scarring. No acute pulmonary disease identified.                                                                                                                                                                  1\n",
       "1. Cardiomegaly                                                                                                                                                                                                                                   1\n",
       "No focal infiltrate.                                                                                                                                                                                                                              1\n",
       "Name: IMPRESSION, dtype: int64"
      ]
     },
     "execution_count": 35,
     "metadata": {
      "tags": []
     },
     "output_type": "execute_result"
    }
   ],
   "source": [
    "#displaying 10 datapoints with highest number of occurences\n",
    "df.IMPRESSION.value_counts()[-10:]"
   ]
  },
  {
   "cell_type": "code",
   "execution_count": 36,
   "metadata": {
    "colab": {
     "base_uri": "https://localhost:8080/",
     "height": 867
    },
    "id": "S66XLJL5v_sT",
    "outputId": "e06d10d1-745d-4836-e85e-b9a60e32eb39"
   },
   "outputs": [
    {
     "data": {
      "image/png": "[encoded data removed]",
      "text/plain": [
       "<Figure size 1440x720 with 1 Axes>"
      ]
     },
     "metadata": {
      "needs_background": "light",
      "tags": []
     },
     "output_type": "display_data"
    }
   ],
   "source": [
    "import matplotlib.pyplot as plt\n",
    "\n",
    "df.IMPRESSION.value_counts(dropna = False)[:20].plot(figsize = (20,10),kind = 'bar',legend =True,grid =True,title='20-Most Occuring Impressions')\n",
    "plt.xlabel('impressions')\n",
    "plt.ylabel('count')\n",
    "plt.show()\n"
   ]
  },
  {
   "cell_type": "code",
   "execution_count": 37,
   "metadata": {
    "id": "GxGp4jSWv-xU"
   },
   "outputs": [],
   "source": [
    "#filling NaN's with string 'no impressioni so that data does not get wasted'\n",
    "df.fillna('no impression', inplace=True)"
   ]
  },
  {
   "cell_type": "code",
   "execution_count": 38,
   "metadata": {
    "id": "j2G1Dz-qv_sY"
   },
   "outputs": [],
   "source": [
    "#getting word counts of each datapoint in impression column\n",
    "word_length = df.IMPRESSION.str.split().apply(lambda x:len(x))"
   ]
  },
  {
   "cell_type": "code",
   "execution_count": 39,
   "metadata": {
    "colab": {
     "base_uri": "https://localhost:8080/",
     "height": 90
    },
    "id": "tPirwi-cv_sc",
    "outputId": "2a0e7e0e-c780-4105-aeb0-9e69c06f8a0f"
   },
   "outputs": [
    {
     "name": "stdout",
     "output_type": "stream",
     "text": [
      "mean of words are in single impression are : 10.493378343287457\n",
      "median of words are in single impression are: 5.0\n",
      "maximum number of words are in single impression are : 130\n",
      "minimum number of words are in single impression are : 1\n"
     ]
    }
   ],
   "source": [
    "print('mean of words are in single impression are :',word_length.mean())\n",
    "print('median of words are in single impression are:',word_length.median())\n",
    "print('maximum number of words are in single impression are :',word_length.max())\n",
    "print('minimum number of words are in single impression are :',word_length.min())"
   ]
  },
  {
   "cell_type": "code",
   "execution_count": 40,
   "metadata": {
    "colab": {
     "base_uri": "https://localhost:8080/",
     "height": 633
    },
    "id": "RkA276Wmr-Qm",
    "outputId": "f31abd75-6a6d-487e-822f-ffcbaf09dcd0"
   },
   "outputs": [
    {
     "data": {
      "image/png": "[encoded data removed]",
      "text/plain": [
       "<Figure size 1440x720 with 1 Axes>"
      ]
     },
     "metadata": {
      "needs_background": "light",
      "tags": []
     },
     "output_type": "display_data"
    }
   ],
   "source": [
    "import matplotlib.pyplot as plt\n",
    "plt.figure(figsize = (20,10))\n",
    "plt.hist(word_length)\n",
    "plt.xlabel(\"count\")\n",
    "plt.ylabel(\"impression\")\n",
    "plt.title('number of words in each sentence')\n",
    "plt.tight_layout()\n",
    "plt.grid()\n",
    "plt.show()"
   ]
  },
  {
   "cell_type": "markdown",
   "metadata": {
    "id": "7qDLWTiSv_sh"
   },
   "source": [
    "## Findings from EDA:\n",
    "1. I think i will only keep the impressions and image columns others have many null values.\n",
    "2. In impression column there were nan values too 30 around i dropped them as of now but i think i can replace nans with no impression and pass it to the model.\n",
    "3. Mostly the reports are normal only some are abnormal so data bias is there.\n",
    "4. Mainly there are 2 images per report so i will pass 2 images only, if less than that then i will repeat the 1st image itself twice. there fewer occurences of 3 and 4 images per image i will keep first two and discard the rest.there is only one report with 5 images so will perform same actions as for 2-4 images.,"
   ]
  },
  {
   "cell_type": "markdown",
   "metadata": {},
   "source": [
    "<h2> 3.3 Data Cleaning </h2>"
   ]
  },
  {
   "cell_type": "code",
   "execution_count": 41,
   "metadata": {
    "colab": {
     "base_uri": "https://localhost:8080/",
     "height": 293
    },
    "id": "8MLJ6nVbHJ5r",
    "outputId": "875f8b52-eea1-4455-9ffd-99642b71c0f5"
   },
   "outputs": [
    {
     "data": {
      "text/html": [
       "<div>\n",
       "<style scoped>\n",
       "    .dataframe tbody tr th:only-of-type {\n",
       "        vertical-align: middle;\n",
       "    }\n",
       "\n",
       "    .dataframe tbody tr th {\n",
       "        vertical-align: top;\n",
       "    }\n",
       "\n",
       "    .dataframe thead th {\n",
       "        text-align: right;\n",
       "    }\n",
       "</style>\n",
       "<table border=\"1\" class=\"dataframe\">\n",
       "  <thead>\n",
       "    <tr style=\"text-align: right;\">\n",
       "      <th></th>\n",
       "      <th>IMAGES</th>\n",
       "      <th>COMPARISON</th>\n",
       "      <th>INDICATION</th>\n",
       "      <th>FINDINGS</th>\n",
       "      <th>IMPRESSION</th>\n",
       "    </tr>\n",
       "  </thead>\n",
       "  <tbody>\n",
       "    <tr>\n",
       "      <th>1</th>\n",
       "      <td>[/content/images/CXR1_1_IM-0001-3001.png, /con...</td>\n",
       "      <td>None.</td>\n",
       "      <td>Positive TB test</td>\n",
       "      <td>The cardiac silhouette and mediastinum size ar...</td>\n",
       "      <td>Normal chest x-XXXX.</td>\n",
       "    </tr>\n",
       "    <tr>\n",
       "      <th>2</th>\n",
       "      <td>[/content/images/CXR2_IM-0652-1001.png, /conte...</td>\n",
       "      <td>None.</td>\n",
       "      <td>Preop bariatric surgery.</td>\n",
       "      <td>Borderline cardiomegaly. Midline sternotomy XX...</td>\n",
       "      <td>No acute pulmonary findings.</td>\n",
       "    </tr>\n",
       "    <tr>\n",
       "      <th>3</th>\n",
       "      <td>[/content/images/CXR3_IM-1384-1001.png, /conte...</td>\n",
       "      <td>no impression</td>\n",
       "      <td>rib pain after a XXXX, XXXX XXXX steps this XX...</td>\n",
       "      <td>no impression</td>\n",
       "      <td>No displaced rib fractures, pneumothorax, or p...</td>\n",
       "    </tr>\n",
       "    <tr>\n",
       "      <th>4</th>\n",
       "      <td>[/content/images/CXR4_IM-2050-1001.png, /conte...</td>\n",
       "      <td>None available</td>\n",
       "      <td>XXXX-year-old XXXX with XXXX.</td>\n",
       "      <td>There are diffuse bilateral interstitial and a...</td>\n",
       "      <td>1. Bullous emphysema and interstitial fibrosis...</td>\n",
       "    </tr>\n",
       "    <tr>\n",
       "      <th>5</th>\n",
       "      <td>[/content/images/CXR5_IM-2117-1003002.png, /co...</td>\n",
       "      <td>no impression</td>\n",
       "      <td>Chest and nasal congestion.</td>\n",
       "      <td>The cardiomediastinal silhouette and pulmonary...</td>\n",
       "      <td>No acute cardiopulmonary abnormality.</td>\n",
       "    </tr>\n",
       "  </tbody>\n",
       "</table>\n",
       "</div>"
      ],
      "text/plain": [
       "                                              IMAGES  ...                                         IMPRESSION\n",
       "1  [/content/images/CXR1_1_IM-0001-3001.png, /con...  ...                               Normal chest x-XXXX.\n",
       "2  [/content/images/CXR2_IM-0652-1001.png, /conte...  ...                       No acute pulmonary findings.\n",
       "3  [/content/images/CXR3_IM-1384-1001.png, /conte...  ...  No displaced rib fractures, pneumothorax, or p...\n",
       "4  [/content/images/CXR4_IM-2050-1001.png, /conte...  ...  1. Bullous emphysema and interstitial fibrosis...\n",
       "5  [/content/images/CXR5_IM-2117-1003002.png, /co...  ...              No acute cardiopulmonary abnormality.\n",
       "\n",
       "[5 rows x 5 columns]"
      ]
     },
     "execution_count": 41,
     "metadata": {
      "tags": []
     },
     "output_type": "execute_result"
    }
   ],
   "source": [
    "df.head()"
   ]
  },
  {
   "cell_type": "markdown",
   "metadata": {},
   "source": [
    "### 3.3.1 Dropping 'COMPARISON','INDICATION','FINDINGS' columns."
   ]
  },
  {
   "cell_type": "code",
   "execution_count": 42,
   "metadata": {
    "colab": {
     "base_uri": "https://localhost:8080/",
     "height": 206
    },
    "id": "MMWrY3_LG__E",
    "outputId": "bbb46a93-a651-45f0-d7fd-4ec4aff86871"
   },
   "outputs": [
    {
     "data": {
      "text/html": [
       "<div>\n",
       "<style scoped>\n",
       "    .dataframe tbody tr th:only-of-type {\n",
       "        vertical-align: middle;\n",
       "    }\n",
       "\n",
       "    .dataframe tbody tr th {\n",
       "        vertical-align: top;\n",
       "    }\n",
       "\n",
       "    .dataframe thead th {\n",
       "        text-align: right;\n",
       "    }\n",
       "</style>\n",
       "<table border=\"1\" class=\"dataframe\">\n",
       "  <thead>\n",
       "    <tr style=\"text-align: right;\">\n",
       "      <th></th>\n",
       "      <th>IMAGES</th>\n",
       "      <th>IMPRESSION</th>\n",
       "    </tr>\n",
       "  </thead>\n",
       "  <tbody>\n",
       "    <tr>\n",
       "      <th>1</th>\n",
       "      <td>[/content/images/CXR1_1_IM-0001-3001.png, /con...</td>\n",
       "      <td>Normal chest x-XXXX.</td>\n",
       "    </tr>\n",
       "    <tr>\n",
       "      <th>2</th>\n",
       "      <td>[/content/images/CXR2_IM-0652-1001.png, /conte...</td>\n",
       "      <td>No acute pulmonary findings.</td>\n",
       "    </tr>\n",
       "    <tr>\n",
       "      <th>3</th>\n",
       "      <td>[/content/images/CXR3_IM-1384-1001.png, /conte...</td>\n",
       "      <td>No displaced rib fractures, pneumothorax, or p...</td>\n",
       "    </tr>\n",
       "    <tr>\n",
       "      <th>4</th>\n",
       "      <td>[/content/images/CXR4_IM-2050-1001.png, /conte...</td>\n",
       "      <td>1. Bullous emphysema and interstitial fibrosis...</td>\n",
       "    </tr>\n",
       "    <tr>\n",
       "      <th>5</th>\n",
       "      <td>[/content/images/CXR5_IM-2117-1003002.png, /co...</td>\n",
       "      <td>No acute cardiopulmonary abnormality.</td>\n",
       "    </tr>\n",
       "  </tbody>\n",
       "</table>\n",
       "</div>"
      ],
      "text/plain": [
       "                                              IMAGES                                         IMPRESSION\n",
       "1  [/content/images/CXR1_1_IM-0001-3001.png, /con...                               Normal chest x-XXXX.\n",
       "2  [/content/images/CXR2_IM-0652-1001.png, /conte...                       No acute pulmonary findings.\n",
       "3  [/content/images/CXR3_IM-1384-1001.png, /conte...  No displaced rib fractures, pneumothorax, or p...\n",
       "4  [/content/images/CXR4_IM-2050-1001.png, /conte...  1. Bullous emphysema and interstitial fibrosis...\n",
       "5  [/content/images/CXR5_IM-2117-1003002.png, /co...              No acute cardiopulmonary abnormality."
      ]
     },
     "execution_count": 42,
     "metadata": {
      "tags": []
     },
     "output_type": "execute_result"
    }
   ],
   "source": [
    "#dropping columns as it has many null values\n",
    "df.drop(labels = ['COMPARISON'],inplace = True,axis = 1)\n",
    "df.drop(labels = ['INDICATION'],inplace = True,axis = 1)\n",
    "df.drop(labels = ['FINDINGS'],inplace = True,axis = 1)\n",
    "df.head()"
   ]
  },
  {
   "cell_type": "code",
   "execution_count": 43,
   "metadata": {
    "colab": {
     "base_uri": "https://localhost:8080/",
     "height": 54
    },
    "id": "YawB155cDgDb",
    "outputId": "8c91e4d4-1da9-4d29-b702-1a97b2b92a60"
   },
   "outputs": [
    {
     "data": {
      "text/plain": [
       "['/content/images/CXR1_1_IM-0001-3001.png',\n",
       " '/content/images/CXR1_1_IM-0001-4001.png']"
      ]
     },
     "execution_count": 43,
     "metadata": {
      "tags": []
     },
     "output_type": "execute_result"
    }
   ],
   "source": [
    "df['IMAGES'][1]#sample datapoint "
   ]
  },
  {
   "cell_type": "markdown",
   "metadata": {},
   "source": [
    "### 3.3.2 storing trimmed data into pickle file. "
   ]
  },
  {
   "cell_type": "code",
   "execution_count": 44,
   "metadata": {
    "id": "LLf2z6xvr__Z"
   },
   "outputs": [],
   "source": [
    "df.to_pickle('/content/drive/My Drive/case_study_2/extract')# storing dataframe to pickle file so as to use further"
   ]
  },
  {
   "cell_type": "code",
   "execution_count": 45,
   "metadata": {
    "id": "zL-1-ftxLS1s"
   },
   "outputs": [],
   "source": [
    "df = pd.read_pickle('/content/drive/My Drive/case_study_2/extract')# reading  pickle file"
   ]
  },
  {
   "cell_type": "code",
   "execution_count": 46,
   "metadata": {
    "id": "4TfSAXXXv_sr"
   },
   "outputs": [],
   "source": [
    "df.reset_index(inplace=True,drop = True)# resettnig indeces"
   ]
  },
  {
   "cell_type": "code",
   "execution_count": 47,
   "metadata": {
    "colab": {
     "base_uri": "https://localhost:8080/",
     "height": 35
    },
    "id": "45EMdQRsC0T-",
    "outputId": "5b469cf2-6447-4778-b4d9-a713eae62d96"
   },
   "outputs": [
    {
     "data": {
      "text/plain": [
       "Index(['IMAGES', 'IMPRESSION'], dtype='object')"
      ]
     },
     "execution_count": 47,
     "metadata": {
      "tags": []
     },
     "output_type": "execute_result"
    }
   ],
   "source": [
    "#displaying columns\n",
    "df.columns"
   ]
  },
  {
   "cell_type": "code",
   "execution_count": 48,
   "metadata": {
    "colab": {
     "base_uri": "https://localhost:8080/",
     "height": 206
    },
    "id": "H3g9VEltv_sy",
    "outputId": "d066a7cb-722c-486b-e9e6-2f30ec913b0f"
   },
   "outputs": [
    {
     "data": {
      "text/html": [
       "<div>\n",
       "<style scoped>\n",
       "    .dataframe tbody tr th:only-of-type {\n",
       "        vertical-align: middle;\n",
       "    }\n",
       "\n",
       "    .dataframe tbody tr th {\n",
       "        vertical-align: top;\n",
       "    }\n",
       "\n",
       "    .dataframe thead th {\n",
       "        text-align: right;\n",
       "    }\n",
       "</style>\n",
       "<table border=\"1\" class=\"dataframe\">\n",
       "  <thead>\n",
       "    <tr style=\"text-align: right;\">\n",
       "      <th></th>\n",
       "      <th>IMAGES</th>\n",
       "      <th>IMPRESSION</th>\n",
       "    </tr>\n",
       "  </thead>\n",
       "  <tbody>\n",
       "    <tr>\n",
       "      <th>0</th>\n",
       "      <td>[/content/images/CXR1_1_IM-0001-3001.png, /con...</td>\n",
       "      <td>Normal chest x-XXXX.</td>\n",
       "    </tr>\n",
       "    <tr>\n",
       "      <th>1</th>\n",
       "      <td>[/content/images/CXR2_IM-0652-1001.png, /conte...</td>\n",
       "      <td>No acute pulmonary findings.</td>\n",
       "    </tr>\n",
       "    <tr>\n",
       "      <th>2</th>\n",
       "      <td>[/content/images/CXR3_IM-1384-1001.png, /conte...</td>\n",
       "      <td>No displaced rib fractures, pneumothorax, or p...</td>\n",
       "    </tr>\n",
       "    <tr>\n",
       "      <th>3</th>\n",
       "      <td>[/content/images/CXR4_IM-2050-1001.png, /conte...</td>\n",
       "      <td>1. Bullous emphysema and interstitial fibrosis...</td>\n",
       "    </tr>\n",
       "    <tr>\n",
       "      <th>4</th>\n",
       "      <td>[/content/images/CXR5_IM-2117-1003002.png, /co...</td>\n",
       "      <td>No acute cardiopulmonary abnormality.</td>\n",
       "    </tr>\n",
       "  </tbody>\n",
       "</table>\n",
       "</div>"
      ],
      "text/plain": [
       "                                              IMAGES                                         IMPRESSION\n",
       "0  [/content/images/CXR1_1_IM-0001-3001.png, /con...                               Normal chest x-XXXX.\n",
       "1  [/content/images/CXR2_IM-0652-1001.png, /conte...                       No acute pulmonary findings.\n",
       "2  [/content/images/CXR3_IM-1384-1001.png, /conte...  No displaced rib fractures, pneumothorax, or p...\n",
       "3  [/content/images/CXR4_IM-2050-1001.png, /conte...  1. Bullous emphysema and interstitial fibrosis...\n",
       "4  [/content/images/CXR5_IM-2117-1003002.png, /co...              No acute cardiopulmonary abnormality."
      ]
     },
     "execution_count": 48,
     "metadata": {
      "tags": []
     },
     "output_type": "execute_result"
    }
   ],
   "source": [
    "df.head()"
   ]
  },
  {
   "cell_type": "code",
   "execution_count": 49,
   "metadata": {
    "id": "uIUC-cvQPBvP"
   },
   "outputs": [],
   "source": [
    "#filling nan's with no impression so that these columns do the image related to it doesent go to waste.\n",
    "df.fillna('no impression', inplace=True)"
   ]
  },
  {
   "cell_type": "code",
   "execution_count": 50,
   "metadata": {
    "colab": {
     "base_uri": "https://localhost:8080/",
     "height": 182
    },
    "id": "k6Anf198OA9M",
    "outputId": "155a4a6f-d777-483e-b1f2-4f52fd5a8789"
   },
   "outputs": [
    {
     "name": "stdout",
     "output_type": "stream",
     "text": [
      "<class 'pandas.core.frame.DataFrame'>\n",
      "RangeIndex: 3851 entries, 0 to 3850\n",
      "Data columns (total 2 columns):\n",
      " #   Column      Non-Null Count  Dtype \n",
      "---  ------      --------------  ----- \n",
      " 0   IMAGES      3851 non-null   object\n",
      " 1   IMPRESSION  3851 non-null   object\n",
      "dtypes: object(2)\n",
      "memory usage: 60.3+ KB\n"
     ]
    }
   ],
   "source": [
    "df.info()"
   ]
  },
  {
   "cell_type": "code",
   "execution_count": 51,
   "metadata": {
    "colab": {
     "base_uri": "https://localhost:8080/",
     "height": 72
    },
    "id": "tjpkQv5esOHV",
    "outputId": "16530d50-438d-424e-b5d2-e149ef82927f"
   },
   "outputs": [
    {
     "name": "stdout",
     "output_type": "stream",
     "text": [
      "[nltk_data] Downloading package stopwords to /root/nltk_data...\n",
      "[nltk_data]   Package stopwords is already up-to-date!\n"
     ]
    },
    {
     "data": {
      "text/plain": [
       "True"
      ]
     },
     "execution_count": 51,
     "metadata": {
      "tags": []
     },
     "output_type": "execute_result"
    }
   ],
   "source": [
    "from wordcloud import WordCloud, STOPWORDS\n",
    "from nltk.corpus import stopwords\n",
    "from nltk.stem import SnowballStemmer\n",
    "from sklearn.manifold import TSNE\n",
    "import nltk\n",
    "import matplotlib.pyplot as plt\n",
    "nltk.download('stopwords')"
   ]
  },
  {
   "cell_type": "markdown",
   "metadata": {},
   "source": [
    "<h3> 3.3.3 most common words </h3>"
   ]
  },
  {
   "cell_type": "code",
   "execution_count": 52,
   "metadata": {
    "id": "LjLap2yxsOFU"
   },
   "outputs": [],
   "source": [
    "stopwords1 = set(STOPWORDS)#setting stopwords"
   ]
  },
  {
   "cell_type": "code",
   "execution_count": 53,
   "metadata": {
    "colab": {
     "base_uri": "https://localhost:8080/",
     "height": 589
    },
    "id": "mVBU1lTCMpsv",
    "outputId": "9b018013-1c26-4dfb-8df3-6c0500ee8e7c"
   },
   "outputs": [
    {
     "name": "stdout",
     "output_type": "stream",
     "text": [
      "Word Cloud for IMPRESSION \n"
     ]
    },
    {
     "data": {
      "image/png": "[encoded data removed]",
      "text/plain": [
       "<Figure size 1080x720 with 1 Axes>"
      ]
     },
     "metadata": {
      "needs_background": "light",
      "tags": []
     },
     "output_type": "display_data"
    }
   ],
   "source": [
    "# generating word cloud of most occuring words ignoring stop words \n",
    "wc = WordCloud(background_color=\"black\", max_words=len(df),width=1600,\n",
    "                          height=800, stopwords=stopwords1)\n",
    "wc.generate(str(df[\"IMPRESSION\"]))\n",
    "print(\"Word Cloud for IMPRESSION \")\n",
    "fig = plt.figure(figsize=(15,10))\n",
    "plt.imshow(wc, interpolation='bilinear')\n",
    "plt.axis(\"off\")\n",
    "plt.tight_layout(pad=0)\n",
    "plt.show()"
   ]
  },
  {
   "cell_type": "markdown",
   "metadata": {},
   "source": [
    "<h2> 3.4 Data Preprocessing </h2>"
   ]
  },
  {
   "cell_type": "code",
   "execution_count": 54,
   "metadata": {
    "id": "V5gsb_8YTxUJ"
   },
   "outputs": [],
   "source": [
    "# replacing short words with their full words eg: won't to will not etc\n",
    "def decontracted(phrase):\n",
    "    # specific\n",
    "    phrase = re.sub(r\"won't\", \"will not\", phrase)\n",
    "    phrase = re.sub(r\"can\\'t\", \"can not\", phrase)\n",
    "\n",
    "    # general\n",
    "    phrase = re.sub(r\"n\\'t\", \" not\", phrase)\n",
    "    phrase = re.sub(r\"\\'re\", \" are\", phrase)\n",
    "    phrase = re.sub(r\"\\'s\", \" is\", phrase)\n",
    "    phrase = re.sub(r\"\\'d\", \" would\", phrase)\n",
    "    phrase = re.sub(r\"\\'ll\", \" will\", phrase)\n",
    "    phrase = re.sub(r\"\\'t\", \" not\", phrase)\n",
    "    phrase = re.sub(r\"\\'ve\", \" have\", phrase)\n",
    "    phrase = re.sub(r\"\\'m\", \" am\", phrase)\n",
    "    return phrase"
   ]
  },
  {
   "cell_type": "code",
   "execution_count": 55,
   "metadata": {
    "colab": {
     "base_uri": "https://localhost:8080/",
     "height": 35
    },
    "id": "-nD2iX_pMpko",
    "outputId": "f7b5091a-dc71-4eb1-963b-764f7267456e"
   },
   "outputs": [
    {
     "name": "stdout",
     "output_type": "stream",
     "text": [
      "No radiographic evidence of acute cardiopulmonary disease\n"
     ]
    }
   ],
   "source": [
    "text = df['IMPRESSION'][1057]\n",
    "print(text)"
   ]
  },
  {
   "cell_type": "code",
   "execution_count": 56,
   "metadata": {
    "id": "FN9crQ0jMpii"
   },
   "outputs": [],
   "source": [
    "import re\n",
    "\n",
    "def preprocess(text):\n",
    "  text = re.sub('XXXX','',text)#substituting XXXX string which occurs n most of the impressions with space as it has no semantic meaning\n",
    "  text=re.sub(r'[^A-Za-z]+',' ',text)#replacing anything other than words wtih space\n",
    "  text = decontracted(text)#decontracting the words\n",
    "  text = re.sub('\\\\r', ' ',text)#replacing new line with space\n",
    "  text = re.sub('\\\\n', ' ',text)#replacing tab with single space\n",
    "  \n",
    "  return text"
   ]
  },
  {
   "cell_type": "code",
   "execution_count": 57,
   "metadata": {
    "colab": {
     "base_uri": "https://localhost:8080/",
     "height": 90
    },
    "id": "lL69v8aHP0Nz",
    "outputId": "fda0dd1b-6a0d-4085-9c48-529ce5b04a71"
   },
   "outputs": [
    {
     "name": "stdout",
     "output_type": "stream",
     "text": [
      "before preprocessing \n",
      " Congestive heart failure with basilar pulmonary interstitial edema and bilateral pleural fluid.\n",
      "after preprocessing \n",
      " Congestive heart failure with basilar pulmonary interstitial edema and bilateral pleural fluid \n"
     ]
    }
   ],
   "source": [
    "print('before preprocessing \\n',df['IMPRESSION'][1065])\n",
    "clean = preprocess(df['IMPRESSION'][1065])\n",
    "print('after preprocessing \\n',clean)"
   ]
  },
  {
   "cell_type": "markdown",
   "metadata": {},
   "source": [
    "### 3.4.1 Preprocessing  IMPRESSION column"
   ]
  },
  {
   "cell_type": "code",
   "execution_count": 58,
   "metadata": {
    "id": "w06DGy8ZMpek"
   },
   "outputs": [],
   "source": [
    "df['IMPRESSION'] = df['IMPRESSION'].map(preprocess)# mapping whole column to the preprocess function , it will apply this function to whole column line by line"
   ]
  },
  {
   "cell_type": "markdown",
   "metadata": {},
   "source": [
    "### 3.4.2 Preprocessing  IMAGES column"
   ]
  },
  {
   "cell_type": "code",
   "execution_count": 59,
   "metadata": {
    "id": "1F_emW7ZMpcL"
   },
   "outputs": [],
   "source": [
    "#keeping only first two images per datapoints\n",
    "df['IMAGES'] = df['IMAGES'].apply(lambda x:x[:2])"
   ]
  },
  {
   "cell_type": "code",
   "execution_count": 60,
   "metadata": {
    "colab": {
     "base_uri": "https://localhost:8080/",
     "height": 206
    },
    "id": "Kafr7ADXsNGt",
    "outputId": "15718f37-7371-46c5-cd61-f242e1c2afc1"
   },
   "outputs": [
    {
     "data": {
      "text/html": [
       "<div>\n",
       "<style scoped>\n",
       "    .dataframe tbody tr th:only-of-type {\n",
       "        vertical-align: middle;\n",
       "    }\n",
       "\n",
       "    .dataframe tbody tr th {\n",
       "        vertical-align: top;\n",
       "    }\n",
       "\n",
       "    .dataframe thead th {\n",
       "        text-align: right;\n",
       "    }\n",
       "</style>\n",
       "<table border=\"1\" class=\"dataframe\">\n",
       "  <thead>\n",
       "    <tr style=\"text-align: right;\">\n",
       "      <th></th>\n",
       "      <th>IMAGES</th>\n",
       "      <th>IMPRESSION</th>\n",
       "    </tr>\n",
       "  </thead>\n",
       "  <tbody>\n",
       "    <tr>\n",
       "      <th>0</th>\n",
       "      <td>[/content/images/CXR1_1_IM-0001-3001.png, /con...</td>\n",
       "      <td>Normal chest x</td>\n",
       "    </tr>\n",
       "    <tr>\n",
       "      <th>1</th>\n",
       "      <td>[/content/images/CXR2_IM-0652-1001.png, /conte...</td>\n",
       "      <td>No acute pulmonary findings</td>\n",
       "    </tr>\n",
       "    <tr>\n",
       "      <th>2</th>\n",
       "      <td>[/content/images/CXR3_IM-1384-1001.png, /conte...</td>\n",
       "      <td>No displaced rib fractures pneumothorax or ple...</td>\n",
       "    </tr>\n",
       "    <tr>\n",
       "      <th>3</th>\n",
       "      <td>[/content/images/CXR4_IM-2050-1001.png, /conte...</td>\n",
       "      <td>Bullous emphysema and interstitial fibrosis P...</td>\n",
       "    </tr>\n",
       "    <tr>\n",
       "      <th>4</th>\n",
       "      <td>[/content/images/CXR5_IM-2117-1003002.png, /co...</td>\n",
       "      <td>No acute cardiopulmonary abnormality</td>\n",
       "    </tr>\n",
       "  </tbody>\n",
       "</table>\n",
       "</div>"
      ],
      "text/plain": [
       "                                              IMAGES                                         IMPRESSION\n",
       "0  [/content/images/CXR1_1_IM-0001-3001.png, /con...                                    Normal chest x \n",
       "1  [/content/images/CXR2_IM-0652-1001.png, /conte...                       No acute pulmonary findings \n",
       "2  [/content/images/CXR3_IM-1384-1001.png, /conte...  No displaced rib fractures pneumothorax or ple...\n",
       "3  [/content/images/CXR4_IM-2050-1001.png, /conte...   Bullous emphysema and interstitial fibrosis P...\n",
       "4  [/content/images/CXR5_IM-2117-1003002.png, /co...              No acute cardiopulmonary abnormality "
      ]
     },
     "execution_count": 60,
     "metadata": {
      "tags": []
     },
     "output_type": "execute_result"
    }
   ],
   "source": [
    "df.head()"
   ]
  },
  {
   "cell_type": "code",
   "execution_count": 61,
   "metadata": {
    "id": "YBbTQtg3DQnP"
   },
   "outputs": [],
   "source": [
    "# for rows having only one image we are copying that image twice\n",
    "for i in range(len(df['IMAGES'])):\n",
    "  if len(df['IMAGES'][i])<2:\n",
    "    df['IMAGES'][i] = [df['IMAGES'][i][0],df['IMAGES'][i][0]]\n"
   ]
  },
  {
   "cell_type": "code",
   "execution_count": 62,
   "metadata": {
    "id": "tPPDtarzsNEt"
   },
   "outputs": [],
   "source": [
    "#finding heights and widths of all the images\n",
    "heights = []\n",
    "widths = []\n",
    "import cv2\n",
    "for i in range(len(df['IMAGES'])):\n",
    "  for j in range(len(df['IMAGES'][i])):\n",
    "    img = cv2.imread(df['IMAGES'][i][j], cv2.IMREAD_UNCHANGED) #reading/loading image\n",
    "    height, width, channels = img.shape #getting width and height of image\n",
    "    heights.append(height)\n",
    "    widths.append(width)"
   ]
  },
  {
   "cell_type": "code",
   "execution_count": 63,
   "metadata": {
    "colab": {
     "base_uri": "https://localhost:8080/",
     "height": 90
    },
    "id": "TbzTeZ5fsNBl",
    "outputId": "dc9946bc-034b-4ccf-9582-bbbd9956bf30"
   },
   "outputs": [
    {
     "name": "stdout",
     "output_type": "stream",
     "text": [
      "mean of heights:  531.6648922357829\n",
      "median of heights:  512.0\n",
      "mean of widths:  512\n",
      "median of widths:  512.0\n"
     ]
    }
   ],
   "source": [
    "from statistics import mean,median\n",
    "print('mean of heights: ',mean(heights))\n",
    "print('median of heights: ',median(heights))\n",
    "\n",
    "print('mean of widths: ',mean(widths))\n",
    "print('median of widths: ',median(widths))\n"
   ]
  },
  {
   "cell_type": "code",
   "execution_count": 64,
   "metadata": {
    "colab": {
     "base_uri": "https://localhost:8080/",
     "height": 35
    },
    "id": "-aGqBXGNPuMw",
    "outputId": "0babf961-2f14-414f-b735-fd4b0d670094"
   },
   "outputs": [
    {
     "name": "stderr",
     "output_type": "stream",
     "text": [
      "100%|██████████| 3851/3851 [00:00<00:00, 1324716.21it/s]\n"
     ]
    }
   ],
   "source": [
    "#checking if there are only two images per datapoint\n",
    "from tqdm import tqdm\n",
    "image_paths = []\n",
    "for lst_of_img in tqdm(df[\"IMAGES\"]):\n",
    "  for img in lst_of_img:\n",
    "    image_paths.append(img)"
   ]
  },
  {
   "cell_type": "code",
   "execution_count": 65,
   "metadata": {
    "colab": {
     "base_uri": "https://localhost:8080/",
     "height": 35
    },
    "id": "bMDhStSC2KJ_",
    "outputId": "f5861394-1c45-4581-8631-7f3814c87060"
   },
   "outputs": [
    {
     "data": {
      "text/plain": [
       "7702"
      ]
     },
     "execution_count": 65,
     "metadata": {
      "tags": []
     },
     "output_type": "execute_result"
    }
   ],
   "source": [
    "#so we have 7702 image_paths in total and we have3 3851 datapoints in our dataframe which is half of that\n",
    "len(image_paths)"
   ]
  },
  {
   "cell_type": "code",
   "execution_count": 66,
   "metadata": {
    "id": "BXU6ysPBE3L_"
   },
   "outputs": [],
   "source": [
    "word_len = []\n",
    "for i in range(len(df)):\n",
    "  word_len.append(len(df['IMPRESSION'][i].split()))"
   ]
  },
  {
   "cell_type": "code",
   "execution_count": 67,
   "metadata": {
    "colab": {
     "base_uri": "https://localhost:8080/",
     "height": 678
    },
    "id": "xmC6D6cVve7H",
    "outputId": "b495384f-badf-4348-e18b-c4e047005add"
   },
   "outputs": [
    {
     "name": "stderr",
     "output_type": "stream",
     "text": [
      "/usr/local/lib/python3.6/dist-packages/seaborn/distributions.py:2551: FutureWarning: `distplot` is a deprecated function and will be removed in a future version. Please adapt your code to use either `displot` (a figure-level function with similar flexibility) or `histplot` (an axes-level function for histograms).\n",
      "  warnings.warn(msg, FutureWarning)\n"
     ]
    },
    {
     "data": {
      "image/png": "[encoded data removed]",
      "text/plain": [
       "<Figure size 1440x720 with 1 Axes>"
      ]
     },
     "metadata": {
      "needs_background": "light",
      "tags": []
     },
     "output_type": "display_data"
    }
   ],
   "source": [
    "import matplotlib.pyplot as plt#matplot lib is also a plotting library\n",
    "import seaborn as sns#seaborn is a plotting library\n",
    "plt.figure(figsize = (20,10))\n",
    "sns.distplot(word_len)\n",
    "plt.grid()\n",
    "plt.xlabel(\"count\")\n",
    "plt.ylabel(\"impression\")\n",
    "plt.title('number of words in each sentence')\n",
    "plt.show()"
   ]
  },
  {
   "cell_type": "code",
   "execution_count": 68,
   "metadata": {
    "colab": {
     "base_uri": "https://localhost:8080/",
     "height": 35
    },
    "id": "A6FqiFk3FLP2",
    "outputId": "6d9467f7-b847-47c0-b8ca-f96b6799e063"
   },
   "outputs": [
    {
     "name": "stdout",
     "output_type": "stream",
     "text": [
      "99 percent of impressions has word length less that or equal to :  123\n"
     ]
    }
   ],
   "source": [
    "#finding 99 percentile value of word_lengths of each ipression so as to see that how many words does 99 percent of them contain\n",
    "import numpy as np\n",
    "max_length= int(np.percentile(word_len,100))\n",
    "print('99 percent of impressions has word length less that or equal to : ',max_length)"
   ]
  },
  {
   "cell_type": "markdown",
   "metadata": {},
   "source": [
    "### 3.4.3 Adding special string to IMPRESSION column."
   ]
  },
  {
   "cell_type": "code",
   "execution_count": 69,
   "metadata": {
    "id": "qIcsO49cPmol"
   },
   "outputs": [],
   "source": [
    "# inserting starting <start> and <end> string in impression column\n",
    "imp_inp = []\n",
    "imp_out = []\n",
    "for i in range(len(df['IMPRESSION'])):\n",
    "  imp_inp.append('<start> '+df['IMPRESSION'][i])#we will passs <start> token follwed by sentence as input to model \n",
    "  imp_out.append(df['IMPRESSION'][i] + ' <end>')#we will expect whole sentence and <end> token as output\n",
    "  df['IMPRESSION'][i]= '<start> ' +df['IMPRESSION'][i] + ' <end>' #sentence with whole <start> and <end> token"
   ]
  },
  {
   "cell_type": "code",
   "execution_count": 70,
   "metadata": {
    "colab": {
     "base_uri": "https://localhost:8080/",
     "height": 72
    },
    "id": "uJInBUxrQ10u",
    "outputId": "9b24c080-14da-4c17-af55-48a2d75f996b"
   },
   "outputs": [
    {
     "name": "stdout",
     "output_type": "stream",
     "text": [
      "ORIGINAL SEQUENCE:   <start> No acute pulmonary findings  <end>\n",
      "INPUT SEQUENCE:   <start> No acute pulmonary findings \n",
      "OUTPUT_SEQUENCE:   No acute pulmonary findings  <end>\n"
     ]
    }
   ],
   "source": [
    "print('ORIGINAL SEQUENCE:  ',df['IMPRESSION'][1])\n",
    "print('INPUT SEQUENCE:  ',imp_inp[1])\n",
    "print('OUTPUT_SEQUENCE:  ',imp_out[1])"
   ]
  },
  {
   "cell_type": "markdown",
   "metadata": {},
   "source": [
    "### 3.4.4 Tokenizinzation."
   ]
  },
  {
   "cell_type": "code",
   "execution_count": null,
   "metadata": {
    "id": "Bp81Dalt8UoK"
   },
   "outputs": [],
   "source": [
    "import tensorflow as tf\n",
    "#tf.random.set_seed(42)\n",
    "tokenizer = tf.keras.preprocessing.text.Tokenizer(split=' ',lower=True,filters='')#initializing tokenizer\n",
    "tokenizer.fit_on_texts(df['IMPRESSION'])#fitting of whole corpus\n",
    "target_vocab_size = len(tokenizer.word_index)+1#defining length of corpus which is 1486 words\n",
    "target_inp = tokenizer.texts_to_sequences(imp_inp)#converting texts into sequence of integers for passing them to model\n",
    "target_inp = tf.keras.preprocessing.sequence.pad_sequences(target_inp,maxlen=max_length,\n",
    "                                                           padding='post')#padding input sequences to 99percentile of max sequence length which we will pass as input to model \n",
    "\n",
    "target_out = tokenizer.texts_to_sequences(imp_out)#converting texts into sequence of integers \n",
    "\n",
    "target_out = tf.keras.preprocessing.sequence.pad_sequences(target_out,maxlen=max_length,\n",
    "                                                           padding='post')#padding output sequences to 99 percentile of max sequence length which we will expect as output  model "
   ]
  },
  {
   "cell_type": "code",
   "execution_count": 72,
   "metadata": {
    "colab": {
     "base_uri": "https://localhost:8080/",
     "height": 72
    },
    "id": "q7ucfSUBT_y6",
    "outputId": "cbb856e8-266f-46b6-905a-dcf5abaf4162"
   },
   "outputs": [
    {
     "name": "stdout",
     "output_type": "stream",
     "text": [
      "<start>\n",
      "<end>\n",
      "no\n"
     ]
    }
   ],
   "source": [
    "#displaying words at 1,2,3 tokens\n",
    "print(tokenizer.index_word[1])\n",
    "print(tokenizer.index_word[2])\n",
    "print(tokenizer.index_word[3])"
   ]
  },
  {
   "cell_type": "code",
   "execution_count": 73,
   "metadata": {
    "colab": {
     "base_uri": "https://localhost:8080/",
     "height": 237
    },
    "id": "8oKQofrHPt8e",
    "outputId": "776126e6-2c81-46e8-aa50-74fc8167e4bb"
   },
   "outputs": [
    {
     "name": "stdout",
     "output_type": "stream",
     "text": [
      "sample input sequence [ 1 12 18 88  0  0  0  0  0  0  0  0  0  0  0  0  0  0  0  0  0  0  0  0\n",
      "  0  0  0  0  0  0  0  0  0  0  0  0  0  0  0  0  0  0  0  0  0  0  0  0\n",
      "  0  0  0  0  0  0  0  0  0  0  0  0  0  0  0  0  0  0  0  0  0  0  0  0\n",
      "  0  0  0  0  0  0  0  0  0  0  0  0  0  0  0  0  0  0  0  0  0  0  0  0\n",
      "  0  0  0  0  0  0  0  0  0  0  0  0  0  0  0  0  0  0  0  0  0  0  0  0\n",
      "  0  0  0]\n",
      "sample output sequence [12 18 88  2  0  0  0  0  0  0  0  0  0  0  0  0  0  0  0  0  0  0  0  0\n",
      "  0  0  0  0  0  0  0  0  0  0  0  0  0  0  0  0  0  0  0  0  0  0  0  0\n",
      "  0  0  0  0  0  0  0  0  0  0  0  0  0  0  0  0  0  0  0  0  0  0  0  0\n",
      "  0  0  0  0  0  0  0  0  0  0  0  0  0  0  0  0  0  0  0  0  0  0  0  0\n",
      "  0  0  0  0  0  0  0  0  0  0  0  0  0  0  0  0  0  0  0  0  0  0  0  0\n",
      "  0  0  0]\n"
     ]
    }
   ],
   "source": [
    "print('sample input sequence',target_inp[0])\n",
    "print('sample output sequence',target_out[0])"
   ]
  },
  {
   "cell_type": "code",
   "execution_count": 74,
   "metadata": {
    "colab": {
     "base_uri": "https://localhost:8080/",
     "height": 35
    },
    "id": "nqOfE4T6Pt6g",
    "outputId": "e2f4ad24-1b79-41c5-bcd0-96e0b52a2e21"
   },
   "outputs": [
    {
     "name": "stdout",
     "output_type": "stream",
     "text": [
      "vocab_size:  1486\n"
     ]
    }
   ],
   "source": [
    "print('vocab_size: ',target_vocab_size)"
   ]
  },
  {
   "cell_type": "markdown",
   "metadata": {},
   "source": [
    "<h1>4. Machine Learning Models </h1>"
   ]
  },
  {
   "cell_type": "markdown",
   "metadata": {},
   "source": [
    "## 4.1 Split the data into train,validation and test."
   ]
  },
  {
   "cell_type": "code",
   "execution_count": 75,
   "metadata": {
    "id": "tDcksCz_Pt0L"
   },
   "outputs": [],
   "source": [
    "#dividing dataset into train(90%), validation(9%), test(1%) .\n",
    "from sklearn.model_selection import train_test_split\n",
    "\n",
    "img_name_train, img_name_temp, target_train_inp, target_temp_inp,target_train_out,target_temp_out = train_test_split(df['IMAGES'].values,\n",
    "                                                                                                                  target_inp,\n",
    "                                                                                                                  target_out,\n",
    "                                                                                                                  test_size=0.10,\n",
    "                                                                                                                   random_state=0,\n",
    "                                                                                                                    shuffle=True)\n",
    "\n",
    "\n",
    "img_name_val, img_name_test, target_val_inp, target_test_inp,target_val_out,target_test_out = train_test_split(img_name_temp,\n",
    "                                                                                                                  target_temp_inp,\n",
    "                                                                                                                  target_temp_out,\n",
    "                                                                                                                  test_size=0.019,\n",
    "                                                                                                                   random_state=0,\n",
    "                                                                                                                    shuffle=True)\n",
    "\n"
   ]
  },
  {
   "cell_type": "code",
   "execution_count": 76,
   "metadata": {
    "colab": {
     "base_uri": "https://localhost:8080/",
     "height": 72
    },
    "id": "NvYPNUdvHJkw",
    "outputId": "fb39f519-14e6-4091-877e-1c999aed0498"
   },
   "outputs": [
    {
     "name": "stdout",
     "output_type": "stream",
     "text": [
      "input_train_image shape (3465,)\n",
      "target_train_input shape (3465, 123)\n",
      "target_train_output shape (3465, 123)\n"
     ]
    }
   ],
   "source": [
    "print('input_train_image shape',img_name_train.shape)\n",
    "print('target_train_input shape', target_train_inp.shape)\n",
    "print('target_train_output shape',target_train_out.shape)"
   ]
  },
  {
   "cell_type": "code",
   "execution_count": 77,
   "metadata": {
    "colab": {
     "base_uri": "https://localhost:8080/",
     "height": 72
    },
    "id": "jBxYiTIlHJjZ",
    "outputId": "357df09b-2bb9-41b8-a86c-3284f85bb6ff"
   },
   "outputs": [
    {
     "name": "stdout",
     "output_type": "stream",
     "text": [
      "input__val_image shape (378,)\n",
      "target_val_input shape (378, 123)\n",
      "target_val_output shape (378, 123)\n"
     ]
    }
   ],
   "source": [
    "print('input__val_image shape',img_name_val.shape)\n",
    "print('target_val_input shape', target_val_inp.shape)\n",
    "print('target_val_output shape',target_val_out.shape)"
   ]
  },
  {
   "cell_type": "code",
   "execution_count": 78,
   "metadata": {
    "colab": {
     "base_uri": "https://localhost:8080/",
     "height": 72
    },
    "id": "uPd_88PKM6UO",
    "outputId": "5bf97ba3-a8a4-4d96-e29d-3a548d01fca2"
   },
   "outputs": [
    {
     "name": "stdout",
     "output_type": "stream",
     "text": [
      "input test image shape (8,)\n",
      "target_test_input shape (8, 123)\n",
      "target_test_output shape (8, 123)\n"
     ]
    }
   ],
   "source": [
    "print('input test image shape',img_name_test.shape)\n",
    "print('target_test_input shape', target_test_inp.shape)\n",
    "print('target_test_output shape',target_test_out.shape)"
   ]
  },
  {
   "cell_type": "markdown",
   "metadata": {},
   "source": [
    "## 4.2 Defining hyperparameters"
   ]
  },
  {
   "cell_type": "code",
   "execution_count": 131,
   "metadata": {
    "id": "8utsC1XDMUCW"
   },
   "outputs": [],
   "source": [
    "img_height = 224#int(median(heights)) # input image height\n",
    "img_width = 224#int(median(widths)) #input image width\n",
    "\n",
    "BATCH_SIZE = 7 #batch size\n",
    "embedding_dim = 256 #embedding diensions for embedding layer\n",
    "units = 512#256 #lstm units\n",
    "rate = 0.1#dropout rate\n",
    "input_len_dec = target_val_inp.shape[1]#length of input sequence \n",
    "attention_features_shape = 49 #feature shape after squeezing CheX-Net output feature, which will act as hidden dimension for decoder"
   ]
  },
  {
   "cell_type": "markdown",
   "metadata": {},
   "source": [
    "## 4.3 data augmentation "
   ]
  },
  {
   "cell_type": "code",
   "execution_count": 132,
   "metadata": {
    "id": "ecwOSM-K-4h2"
   },
   "outputs": [],
   "source": [
    "#augmentating input images because we dont have much data to train on.\n",
    "import imgaug.augmenters as iaa\n",
    "aug2 = iaa.Fliplr(1)# flip images left to right or horizontally\n",
    "aug3 = iaa.Flipud(1) # flip images up down or vertically\n",
    "aug4 = iaa.Emboss(alpha=(1), strength=1)#Augmenter that embosses images and overlays the result with the original image.\n",
    "aug5 = iaa.DirectedEdgeDetect(alpha=(0.8), direction=(1.0))#detects edges that have certain directions and marks them in a black and white image and then overlays the result with the original image.\n",
    "aug6 = iaa.Sharpen(alpha=(1.0), lightness=(1.5)) #sharpens images"
   ]
  },
  {
   "cell_type": "markdown",
   "metadata": {},
   "source": [
    "## 4.4 loading and preprocessing images"
   ]
  },
  {
   "cell_type": "code",
   "execution_count": 133,
   "metadata": {
    "id": "8CtCXYw4-hJQ"
   },
   "outputs": [],
   "source": [
    "#https://stackoverflow.com/questions/38025838/normalizing-images-in-opencv\n",
    "# loading and preprocessing images\n",
    "def preprocess_img(image_path,training = True):\n",
    "    img = cv2.imread(image_path, cv2.IMREAD_UNCHANGED)# reading image\n",
    "    image = cv2.resize(img,(int(img_width),int(img_height)),interpolation = cv2.INTER_NEAREST)# resizing image as desired\n",
    "    if training == True: # if this function is used during training only them we will augment images\n",
    "      a = np.random.uniform() # selecting random number between 0-1 and applying different augmentations according to its output\n",
    "      if a<0.2:\n",
    "              image = aug2.augment_image(image)\n",
    "      elif a<0.4:\n",
    "              image = aug3.augment_image(image)\n",
    "      elif a<0.6:\n",
    "              image = aug4.augment_image(image)\n",
    "      elif a<0.8:\n",
    "              image = aug5.augment_image(image)\n",
    "      else:\n",
    "              image = aug6.augment_image(image)\n",
    "\n",
    "    image = cv2.normalize(image, None, alpha=0, beta=1, norm_type=cv2.NORM_MINMAX, dtype=cv2.CV_32F)# normalizing images to compress the pixel values between 0-1.\n",
    "    return image ,image_path\n"
   ]
  },
  {
   "cell_type": "code",
   "execution_count": 134,
   "metadata": {
    "id": "laIVZ5Kq0gXi"
   },
   "outputs": [],
   "source": [
    "def load_image1(image_path,training = True):\n",
    "    img = tf.io.read_file(image_path)# reading image\n",
    "    img = tf.image.decode_jpeg(img, channels=3)\n",
    "    image = tf.image.resize(img, (int(img_height),int(img_width)))# resizing image as desired\n",
    "    if training == True: #if this function is used during training only them we will augment images\n",
    "      \n",
    "      a = np.random.uniform() #selecting random number between 0-1 and applying different augmentations according to its output\n",
    "      if a<0.2:\n",
    "              image = aug2.augment_image(image)\n",
    "      elif a<0.4:\n",
    "              image = aug3.augment_image(image)\n",
    "      elif a<0.6:\n",
    "              image = aug4.augment_image(image)\n",
    "      elif a<0.8:\n",
    "              image = aug5.augment_image(image)\n",
    "      else:\n",
    "              image = aug6.augment_image(image)\n",
    "              \n",
    "    image = tf.keras.applications.densenet.preprocess_input(image)#normalize image\n",
    "    return image,image_path"
   ]
  },
  {
   "cell_type": "code",
   "execution_count": 135,
   "metadata": {
    "colab": {
     "base_uri": "https://localhost:8080/",
     "height": 54
    },
    "id": "6a0DwTcs-tKR",
    "outputId": "59d85ab0-d130-4cfa-ce0d-727481acd041"
   },
   "outputs": [
    {
     "data": {
      "text/plain": [
       "['/content/images/CXR314_IM-1477-1001.png',\n",
       " '/content/images/CXR314_IM-1477-2001.png']"
      ]
     },
     "execution_count": 135,
     "metadata": {
      "tags": []
     },
     "output_type": "execute_result"
    }
   ],
   "source": [
    "img_name_train[1]"
   ]
  },
  {
   "cell_type": "markdown",
   "metadata": {},
   "source": [
    "## 4.5 Dataloader function"
   ]
  },
  {
   "cell_type": "code",
   "execution_count": 136,
   "metadata": {
    "id": "SUMQOVNP0KX1"
   },
   "outputs": [],
   "source": [
    "#https://github.com/keras-team/keras/issues/8130 \n",
    "#dataloader will first load images and then passs whole data in batches \n",
    "class Dataloder(tf.keras.utils.Sequence):    \n",
    "    def __init__(self, image_names,capin,capout, batch_size=1, shuffle=False):\n",
    "\n",
    "        self.image_names = image_names\n",
    "        self.capin = capin\n",
    "        self.capout = capout\n",
    "        self.batch_size = batch_size\n",
    "        self.shuffle = shuffle\n",
    "        self.indexes = np.arange(len(image_names))\n",
    "        \n",
    "    def __getitem__(self, i):\n",
    "        # collect batch data\n",
    "        start = i * self.batch_size\n",
    "        stop = (i + 1) * self.batch_size\n",
    "        image1 =[]\n",
    "        image2 = []\n",
    "        caption_in = []\n",
    "        caption_out = []\n",
    "  \n",
    "        for j in range(start, stop):\n",
    "            img,img1 = self.__data_generation(self.image_names[j])#loading images from specific index\n",
    "            image1.append(img)#apppending that image to array\n",
    "            image2.append(img1)#appending second imm=age to another array\n",
    "            caption_in.append(self.capin[j])#appending input impression to model \n",
    "            caption_out.append(self.capout[j])#appending expected output to array\n",
    "\n",
    "        return tuple([(tf.convert_to_tensor(image1),tf.convert_to_tensor(image2),tf.convert_to_tensor(caption_in)),(tf.convert_to_tensor(caption_out))]) #returning tuple of (x,y)\n",
    "    \n",
    "    def __len__(self):\n",
    "        return len(self.indexes) // self.batch_size #definig size of dataloader function\n",
    "\n",
    "    def on_epoch_end(self):\n",
    "        if self.shuffle:\n",
    "            self.indexes = np.random.permutation(self.indexes)#shuffle indeces after every epoch\n",
    "\n",
    "    def __data_generation(self,image_name):\n",
    "        #preprocess and load images\n",
    "        img,path = load_image1(image_name[0])\n",
    "\n",
    "        img1,path1 = load_image1(image_name[1])\n",
    "        \n",
    "        return img,img1"
   ]
  },
  {
   "cell_type": "code",
   "execution_count": 136,
   "metadata": {
    "id": "oDysHECln-SH"
   },
   "outputs": [],
   "source": []
  },
  {
   "cell_type": "code",
   "execution_count": 137,
   "metadata": {
    "id": "CupybUOd0q_A"
   },
   "outputs": [],
   "source": [
    "train_dataloader = Dataloder(img_name_train, target_train_inp,target_train_out, batch_size=BATCH_SIZE, shuffle=True)\n",
    "val_dataloader = Dataloder(img_name_val, target_val_inp,target_val_out, batch_size=BATCH_SIZE, shuffle=True)"
   ]
  },
  {
   "cell_type": "code",
   "execution_count": 138,
   "metadata": {
    "id": "euciJO_PYLPM"
   },
   "outputs": [],
   "source": [
    "#import tensorflow as tf\n",
    "tf.compat.v1.enable_eager_execution()\n",
    "from tensorflow.keras.layers import TimeDistributed\n",
    "tf.keras.backend.clear_session()\n",
    "from tensorflow.keras.layers import Input, Softmax, RNN, Dense, Embedding, LSTM,Dropout\n",
    "from tensorflow.keras.models import Model\n",
    "import numpy as np\n",
    "#tf.keras.backend.set_floatx('float64')"
   ]
  },
  {
   "cell_type": "markdown",
   "metadata": {},
   "source": [
    "## 4.6 Making model architecture. "
   ]
  },
  {
   "cell_type": "markdown",
   "metadata": {},
   "source": [
    "### 4.6.1 Loading pretrained Chex-Net model."
   ]
  },
  {
   "cell_type": "code",
   "execution_count": null,
   "metadata": {
    "id": "89qLO2a5FJJV"
   },
   "outputs": [],
   "source": [
    "#weights_link: https://github.com/brucechou1983/CheXNet-Keras\n",
    "#loading pretrained Densenet121 on chest X-rays \n",
    "import tensorflow as tf\n",
    "image_model = tf.keras.applications.DenseNet121(weights='/content/drive/My Drive/case_study_2/brucechou1983_CheXNet_Keras_0.3.0_weights.h5',\n",
    "                                                classes = 14,input_shape=(int(img_height),int(img_width),3))"
   ]
  },
  {
   "cell_type": "code",
   "execution_count": 140,
   "metadata": {
    "id": "yDPtiXrjNWJP"
   },
   "outputs": [],
   "source": [
    "#removing last dense layer and making different model without top dense layer for encoder.\n",
    "new_input = image_model.input\n",
    "hidden_layer = image_model.layers[-3].output\n",
    "image_features_extract_model = tf.keras.Model(new_input, hidden_layer)"
   ]
  },
  {
   "cell_type": "code",
   "execution_count": 141,
   "metadata": {
    "colab": {
     "base_uri": "https://localhost:8080/",
     "height": 1000
    },
    "id": "KtFtwjnTOQPY",
    "outputId": "960905a2-e529-4a67-f16c-52614c85c9f3"
   },
   "outputs": [
    {
     "name": "stdout",
     "output_type": "stream",
     "text": [
      "Model: \"functional_1\"\n",
      "__________________________________________________________________________________________________\n",
      "Layer (type)                    Output Shape         Param #     Connected to                     \n",
      "==================================================================================================\n",
      "input_1 (InputLayer)            [(None, 224, 224, 3) 0                                            \n",
      "__________________________________________________________________________________________________\n",
      "zero_padding2d (ZeroPadding2D)  (None, 230, 230, 3)  0           input_1[0][0]                    \n",
      "__________________________________________________________________________________________________\n",
      "conv1/conv (Conv2D)             (None, 112, 112, 64) 9408        zero_padding2d[0][0]             \n",
      "__________________________________________________________________________________________________\n",
      "conv1/bn (BatchNormalization)   (None, 112, 112, 64) 256         conv1/conv[0][0]                 \n",
      "__________________________________________________________________________________________________\n",
      "conv1/relu (Activation)         (None, 112, 112, 64) 0           conv1/bn[0][0]                   \n",
      "__________________________________________________________________________________________________\n",
      "zero_padding2d_1 (ZeroPadding2D (None, 114, 114, 64) 0           conv1/relu[0][0]                 \n",
      "__________________________________________________________________________________________________\n",
      "pool1 (MaxPooling2D)            (None, 56, 56, 64)   0           zero_padding2d_1[0][0]           \n",
      "__________________________________________________________________________________________________\n",
      "conv2_block1_0_bn (BatchNormali (None, 56, 56, 64)   256         pool1[0][0]                      \n",
      "__________________________________________________________________________________________________\n",
      "conv2_block1_0_relu (Activation (None, 56, 56, 64)   0           conv2_block1_0_bn[0][0]          \n",
      "__________________________________________________________________________________________________\n",
      "conv2_block1_1_conv (Conv2D)    (None, 56, 56, 128)  8192        conv2_block1_0_relu[0][0]        \n",
      "__________________________________________________________________________________________________\n",
      "conv2_block1_1_bn (BatchNormali (None, 56, 56, 128)  512         conv2_block1_1_conv[0][0]        \n",
      "__________________________________________________________________________________________________\n",
      "conv2_block1_1_relu (Activation (None, 56, 56, 128)  0           conv2_block1_1_bn[0][0]          \n",
      "__________________________________________________________________________________________________\n",
      "conv2_block1_2_conv (Conv2D)    (None, 56, 56, 32)   36864       conv2_block1_1_relu[0][0]        \n",
      "__________________________________________________________________________________________________\n",
      "conv2_block1_concat (Concatenat (None, 56, 56, 96)   0           pool1[0][0]                      \n",
      "                                                                 conv2_block1_2_conv[0][0]        \n",
      "__________________________________________________________________________________________________\n",
      "conv2_block2_0_bn (BatchNormali (None, 56, 56, 96)   384         conv2_block1_concat[0][0]        \n",
      "__________________________________________________________________________________________________\n",
      "conv2_block2_0_relu (Activation (None, 56, 56, 96)   0           conv2_block2_0_bn[0][0]          \n",
      "__________________________________________________________________________________________________\n",
      "conv2_block2_1_conv (Conv2D)    (None, 56, 56, 128)  12288       conv2_block2_0_relu[0][0]        \n",
      "__________________________________________________________________________________________________\n",
      "conv2_block2_1_bn (BatchNormali (None, 56, 56, 128)  512         conv2_block2_1_conv[0][0]        \n",
      "__________________________________________________________________________________________________\n",
      "conv2_block2_1_relu (Activation (None, 56, 56, 128)  0           conv2_block2_1_bn[0][0]          \n",
      "__________________________________________________________________________________________________\n",
      "conv2_block2_2_conv (Conv2D)    (None, 56, 56, 32)   36864       conv2_block2_1_relu[0][0]        \n",
      "__________________________________________________________________________________________________\n",
      "conv2_block2_concat (Concatenat (None, 56, 56, 128)  0           conv2_block1_concat[0][0]        \n",
      "                                                                 conv2_block2_2_conv[0][0]        \n",
      "__________________________________________________________________________________________________\n",
      "conv2_block3_0_bn (BatchNormali (None, 56, 56, 128)  512         conv2_block2_concat[0][0]        \n",
      "__________________________________________________________________________________________________\n",
      "conv2_block3_0_relu (Activation (None, 56, 56, 128)  0           conv2_block3_0_bn[0][0]          \n",
      "__________________________________________________________________________________________________\n",
      "conv2_block3_1_conv (Conv2D)    (None, 56, 56, 128)  16384       conv2_block3_0_relu[0][0]        \n",
      "__________________________________________________________________________________________________\n",
      "conv2_block3_1_bn (BatchNormali (None, 56, 56, 128)  512         conv2_block3_1_conv[0][0]        \n",
      "__________________________________________________________________________________________________\n",
      "conv2_block3_1_relu (Activation (None, 56, 56, 128)  0           conv2_block3_1_bn[0][0]          \n",
      "__________________________________________________________________________________________________\n",
      "conv2_block3_2_conv (Conv2D)    (None, 56, 56, 32)   36864       conv2_block3_1_relu[0][0]        \n",
      "__________________________________________________________________________________________________\n",
      "conv2_block3_concat (Concatenat (None, 56, 56, 160)  0           conv2_block2_concat[0][0]        \n",
      "                                                                 conv2_block3_2_conv[0][0]        \n",
      "__________________________________________________________________________________________________\n",
      "conv2_block4_0_bn (BatchNormali (None, 56, 56, 160)  640         conv2_block3_concat[0][0]        \n",
      "__________________________________________________________________________________________________\n",
      "conv2_block4_0_relu (Activation (None, 56, 56, 160)  0           conv2_block4_0_bn[0][0]          \n",
      "__________________________________________________________________________________________________\n",
      "conv2_block4_1_conv (Conv2D)    (None, 56, 56, 128)  20480       conv2_block4_0_relu[0][0]        \n",
      "__________________________________________________________________________________________________\n",
      "conv2_block4_1_bn (BatchNormali (None, 56, 56, 128)  512         conv2_block4_1_conv[0][0]        \n",
      "__________________________________________________________________________________________________\n",
      "conv2_block4_1_relu (Activation (None, 56, 56, 128)  0           conv2_block4_1_bn[0][0]          \n",
      "__________________________________________________________________________________________________\n",
      "conv2_block4_2_conv (Conv2D)    (None, 56, 56, 32)   36864       conv2_block4_1_relu[0][0]        \n",
      "__________________________________________________________________________________________________\n",
      "conv2_block4_concat (Concatenat (None, 56, 56, 192)  0           conv2_block3_concat[0][0]        \n",
      "                                                                 conv2_block4_2_conv[0][0]        \n",
      "__________________________________________________________________________________________________\n",
      "conv2_block5_0_bn (BatchNormali (None, 56, 56, 192)  768         conv2_block4_concat[0][0]        \n",
      "__________________________________________________________________________________________________\n",
      "conv2_block5_0_relu (Activation (None, 56, 56, 192)  0           conv2_block5_0_bn[0][0]          \n",
      "__________________________________________________________________________________________________\n",
      "conv2_block5_1_conv (Conv2D)    (None, 56, 56, 128)  24576       conv2_block5_0_relu[0][0]        \n",
      "__________________________________________________________________________________________________\n",
      "conv2_block5_1_bn (BatchNormali (None, 56, 56, 128)  512         conv2_block5_1_conv[0][0]        \n",
      "__________________________________________________________________________________________________\n",
      "conv2_block5_1_relu (Activation (None, 56, 56, 128)  0           conv2_block5_1_bn[0][0]          \n",
      "__________________________________________________________________________________________________\n",
      "conv2_block5_2_conv (Conv2D)    (None, 56, 56, 32)   36864       conv2_block5_1_relu[0][0]        \n",
      "__________________________________________________________________________________________________\n",
      "conv2_block5_concat (Concatenat (None, 56, 56, 224)  0           conv2_block4_concat[0][0]        \n",
      "                                                                 conv2_block5_2_conv[0][0]        \n",
      "__________________________________________________________________________________________________\n",
      "conv2_block6_0_bn (BatchNormali (None, 56, 56, 224)  896         conv2_block5_concat[0][0]        \n",
      "__________________________________________________________________________________________________\n",
      "conv2_block6_0_relu (Activation (None, 56, 56, 224)  0           conv2_block6_0_bn[0][0]          \n",
      "__________________________________________________________________________________________________\n",
      "conv2_block6_1_conv (Conv2D)    (None, 56, 56, 128)  28672       conv2_block6_0_relu[0][0]        \n",
      "__________________________________________________________________________________________________\n",
      "conv2_block6_1_bn (BatchNormali (None, 56, 56, 128)  512         conv2_block6_1_conv[0][0]        \n",
      "__________________________________________________________________________________________________\n",
      "conv2_block6_1_relu (Activation (None, 56, 56, 128)  0           conv2_block6_1_bn[0][0]          \n",
      "__________________________________________________________________________________________________\n",
      "conv2_block6_2_conv (Conv2D)    (None, 56, 56, 32)   36864       conv2_block6_1_relu[0][0]        \n",
      "__________________________________________________________________________________________________\n",
      "conv2_block6_concat (Concatenat (None, 56, 56, 256)  0           conv2_block5_concat[0][0]        \n",
      "                                                                 conv2_block6_2_conv[0][0]        \n",
      "__________________________________________________________________________________________________\n",
      "pool2_bn (BatchNormalization)   (None, 56, 56, 256)  1024        conv2_block6_concat[0][0]        \n",
      "__________________________________________________________________________________________________\n",
      "pool2_relu (Activation)         (None, 56, 56, 256)  0           pool2_bn[0][0]                   \n",
      "__________________________________________________________________________________________________\n",
      "pool2_conv (Conv2D)             (None, 56, 56, 128)  32768       pool2_relu[0][0]                 \n",
      "__________________________________________________________________________________________________\n",
      "pool2_pool (AveragePooling2D)   (None, 28, 28, 128)  0           pool2_conv[0][0]                 \n",
      "__________________________________________________________________________________________________\n",
      "conv3_block1_0_bn (BatchNormali (None, 28, 28, 128)  512         pool2_pool[0][0]                 \n",
      "__________________________________________________________________________________________________\n",
      "conv3_block1_0_relu (Activation (None, 28, 28, 128)  0           conv3_block1_0_bn[0][0]          \n",
      "__________________________________________________________________________________________________\n",
      "conv3_block1_1_conv (Conv2D)    (None, 28, 28, 128)  16384       conv3_block1_0_relu[0][0]        \n",
      "__________________________________________________________________________________________________\n",
      "conv3_block1_1_bn (BatchNormali (None, 28, 28, 128)  512         conv3_block1_1_conv[0][0]        \n",
      "__________________________________________________________________________________________________\n",
      "conv3_block1_1_relu (Activation (None, 28, 28, 128)  0           conv3_block1_1_bn[0][0]          \n",
      "__________________________________________________________________________________________________\n",
      "conv3_block1_2_conv (Conv2D)    (None, 28, 28, 32)   36864       conv3_block1_1_relu[0][0]        \n",
      "__________________________________________________________________________________________________\n",
      "conv3_block1_concat (Concatenat (None, 28, 28, 160)  0           pool2_pool[0][0]                 \n",
      "                                                                 conv3_block1_2_conv[0][0]        \n",
      "__________________________________________________________________________________________________\n",
      "conv3_block2_0_bn (BatchNormali (None, 28, 28, 160)  640         conv3_block1_concat[0][0]        \n",
      "__________________________________________________________________________________________________\n",
      "conv3_block2_0_relu (Activation (None, 28, 28, 160)  0           conv3_block2_0_bn[0][0]          \n",
      "__________________________________________________________________________________________________\n",
      "conv3_block2_1_conv (Conv2D)    (None, 28, 28, 128)  20480       conv3_block2_0_relu[0][0]        \n",
      "__________________________________________________________________________________________________\n",
      "conv3_block2_1_bn (BatchNormali (None, 28, 28, 128)  512         conv3_block2_1_conv[0][0]        \n",
      "__________________________________________________________________________________________________\n",
      "conv3_block2_1_relu (Activation (None, 28, 28, 128)  0           conv3_block2_1_bn[0][0]          \n",
      "__________________________________________________________________________________________________\n",
      "conv3_block2_2_conv (Conv2D)    (None, 28, 28, 32)   36864       conv3_block2_1_relu[0][0]        \n",
      "__________________________________________________________________________________________________\n",
      "conv3_block2_concat (Concatenat (None, 28, 28, 192)  0           conv3_block1_concat[0][0]        \n",
      "                                                                 conv3_block2_2_conv[0][0]        \n",
      "__________________________________________________________________________________________________\n",
      "conv3_block3_0_bn (BatchNormali (None, 28, 28, 192)  768         conv3_block2_concat[0][0]        \n",
      "__________________________________________________________________________________________________\n",
      "conv3_block3_0_relu (Activation (None, 28, 28, 192)  0           conv3_block3_0_bn[0][0]          \n",
      "__________________________________________________________________________________________________\n",
      "conv3_block3_1_conv (Conv2D)    (None, 28, 28, 128)  24576       conv3_block3_0_relu[0][0]        \n",
      "__________________________________________________________________________________________________\n",
      "conv3_block3_1_bn (BatchNormali (None, 28, 28, 128)  512         conv3_block3_1_conv[0][0]        \n",
      "__________________________________________________________________________________________________\n",
      "conv3_block3_1_relu (Activation (None, 28, 28, 128)  0           conv3_block3_1_bn[0][0]          \n",
      "__________________________________________________________________________________________________\n",
      "conv3_block3_2_conv (Conv2D)    (None, 28, 28, 32)   36864       conv3_block3_1_relu[0][0]        \n",
      "__________________________________________________________________________________________________\n",
      "conv3_block3_concat (Concatenat (None, 28, 28, 224)  0           conv3_block2_concat[0][0]        \n",
      "                                                                 conv3_block3_2_conv[0][0]        \n",
      "__________________________________________________________________________________________________\n",
      "conv3_block4_0_bn (BatchNormali (None, 28, 28, 224)  896         conv3_block3_concat[0][0]        \n",
      "__________________________________________________________________________________________________\n",
      "conv3_block4_0_relu (Activation (None, 28, 28, 224)  0           conv3_block4_0_bn[0][0]          \n",
      "__________________________________________________________________________________________________\n",
      "conv3_block4_1_conv (Conv2D)    (None, 28, 28, 128)  28672       conv3_block4_0_relu[0][0]        \n",
      "__________________________________________________________________________________________________\n",
      "conv3_block4_1_bn (BatchNormali (None, 28, 28, 128)  512         conv3_block4_1_conv[0][0]        \n",
      "__________________________________________________________________________________________________\n",
      "conv3_block4_1_relu (Activation (None, 28, 28, 128)  0           conv3_block4_1_bn[0][0]          \n",
      "__________________________________________________________________________________________________\n",
      "conv3_block4_2_conv (Conv2D)    (None, 28, 28, 32)   36864       conv3_block4_1_relu[0][0]        \n",
      "__________________________________________________________________________________________________\n",
      "conv3_block4_concat (Concatenat (None, 28, 28, 256)  0           conv3_block3_concat[0][0]        \n",
      "                                                                 conv3_block4_2_conv[0][0]        \n",
      "__________________________________________________________________________________________________\n",
      "conv3_block5_0_bn (BatchNormali (None, 28, 28, 256)  1024        conv3_block4_concat[0][0]        \n",
      "__________________________________________________________________________________________________\n",
      "conv3_block5_0_relu (Activation (None, 28, 28, 256)  0           conv3_block5_0_bn[0][0]          \n",
      "__________________________________________________________________________________________________\n",
      "conv3_block5_1_conv (Conv2D)    (None, 28, 28, 128)  32768       conv3_block5_0_relu[0][0]        \n",
      "__________________________________________________________________________________________________\n",
      "conv3_block5_1_bn (BatchNormali (None, 28, 28, 128)  512         conv3_block5_1_conv[0][0]        \n",
      "__________________________________________________________________________________________________\n",
      "conv3_block5_1_relu (Activation (None, 28, 28, 128)  0           conv3_block5_1_bn[0][0]          \n",
      "__________________________________________________________________________________________________\n",
      "conv3_block5_2_conv (Conv2D)    (None, 28, 28, 32)   36864       conv3_block5_1_relu[0][0]        \n",
      "__________________________________________________________________________________________________\n",
      "conv3_block5_concat (Concatenat (None, 28, 28, 288)  0           conv3_block4_concat[0][0]        \n",
      "                                                                 conv3_block5_2_conv[0][0]        \n",
      "__________________________________________________________________________________________________\n",
      "conv3_block6_0_bn (BatchNormali (None, 28, 28, 288)  1152        conv3_block5_concat[0][0]        \n",
      "__________________________________________________________________________________________________\n",
      "conv3_block6_0_relu (Activation (None, 28, 28, 288)  0           conv3_block6_0_bn[0][0]          \n",
      "__________________________________________________________________________________________________\n",
      "conv3_block6_1_conv (Conv2D)    (None, 28, 28, 128)  36864       conv3_block6_0_relu[0][0]        \n",
      "__________________________________________________________________________________________________\n",
      "conv3_block6_1_bn (BatchNormali (None, 28, 28, 128)  512         conv3_block6_1_conv[0][0]        \n",
      "__________________________________________________________________________________________________\n",
      "conv3_block6_1_relu (Activation (None, 28, 28, 128)  0           conv3_block6_1_bn[0][0]          \n",
      "__________________________________________________________________________________________________\n",
      "conv3_block6_2_conv (Conv2D)    (None, 28, 28, 32)   36864       conv3_block6_1_relu[0][0]        \n",
      "__________________________________________________________________________________________________\n",
      "conv3_block6_concat (Concatenat (None, 28, 28, 320)  0           conv3_block5_concat[0][0]        \n",
      "                                                                 conv3_block6_2_conv[0][0]        \n",
      "__________________________________________________________________________________________________\n",
      "conv3_block7_0_bn (BatchNormali (None, 28, 28, 320)  1280        conv3_block6_concat[0][0]        \n",
      "__________________________________________________________________________________________________\n",
      "conv3_block7_0_relu (Activation (None, 28, 28, 320)  0           conv3_block7_0_bn[0][0]          \n",
      "__________________________________________________________________________________________________\n",
      "conv3_block7_1_conv (Conv2D)    (None, 28, 28, 128)  40960       conv3_block7_0_relu[0][0]        \n",
      "__________________________________________________________________________________________________\n",
      "conv3_block7_1_bn (BatchNormali (None, 28, 28, 128)  512         conv3_block7_1_conv[0][0]        \n",
      "__________________________________________________________________________________________________\n",
      "conv3_block7_1_relu (Activation (None, 28, 28, 128)  0           conv3_block7_1_bn[0][0]          \n",
      "__________________________________________________________________________________________________\n",
      "conv3_block7_2_conv (Conv2D)    (None, 28, 28, 32)   36864       conv3_block7_1_relu[0][0]        \n",
      "__________________________________________________________________________________________________\n",
      "conv3_block7_concat (Concatenat (None, 28, 28, 352)  0           conv3_block6_concat[0][0]        \n",
      "                                                                 conv3_block7_2_conv[0][0]        \n",
      "__________________________________________________________________________________________________\n",
      "conv3_block8_0_bn (BatchNormali (None, 28, 28, 352)  1408        conv3_block7_concat[0][0]        \n",
      "__________________________________________________________________________________________________\n",
      "conv3_block8_0_relu (Activation (None, 28, 28, 352)  0           conv3_block8_0_bn[0][0]          \n",
      "__________________________________________________________________________________________________\n",
      "conv3_block8_1_conv (Conv2D)    (None, 28, 28, 128)  45056       conv3_block8_0_relu[0][0]        \n",
      "__________________________________________________________________________________________________\n",
      "conv3_block8_1_bn (BatchNormali (None, 28, 28, 128)  512         conv3_block8_1_conv[0][0]        \n",
      "__________________________________________________________________________________________________\n",
      "conv3_block8_1_relu (Activation (None, 28, 28, 128)  0           conv3_block8_1_bn[0][0]          \n",
      "__________________________________________________________________________________________________\n",
      "conv3_block8_2_conv (Conv2D)    (None, 28, 28, 32)   36864       conv3_block8_1_relu[0][0]        \n",
      "__________________________________________________________________________________________________\n",
      "conv3_block8_concat (Concatenat (None, 28, 28, 384)  0           conv3_block7_concat[0][0]        \n",
      "                                                                 conv3_block8_2_conv[0][0]        \n",
      "__________________________________________________________________________________________________\n",
      "conv3_block9_0_bn (BatchNormali (None, 28, 28, 384)  1536        conv3_block8_concat[0][0]        \n",
      "__________________________________________________________________________________________________\n",
      "conv3_block9_0_relu (Activation (None, 28, 28, 384)  0           conv3_block9_0_bn[0][0]          \n",
      "__________________________________________________________________________________________________\n",
      "conv3_block9_1_conv (Conv2D)    (None, 28, 28, 128)  49152       conv3_block9_0_relu[0][0]        \n",
      "__________________________________________________________________________________________________\n",
      "conv3_block9_1_bn (BatchNormali (None, 28, 28, 128)  512         conv3_block9_1_conv[0][0]        \n",
      "__________________________________________________________________________________________________\n",
      "conv3_block9_1_relu (Activation (None, 28, 28, 128)  0           conv3_block9_1_bn[0][0]          \n",
      "__________________________________________________________________________________________________\n",
      "conv3_block9_2_conv (Conv2D)    (None, 28, 28, 32)   36864       conv3_block9_1_relu[0][0]        \n",
      "__________________________________________________________________________________________________\n",
      "conv3_block9_concat (Concatenat (None, 28, 28, 416)  0           conv3_block8_concat[0][0]        \n",
      "                                                                 conv3_block9_2_conv[0][0]        \n",
      "__________________________________________________________________________________________________\n",
      "conv3_block10_0_bn (BatchNormal (None, 28, 28, 416)  1664        conv3_block9_concat[0][0]        \n",
      "__________________________________________________________________________________________________\n",
      "conv3_block10_0_relu (Activatio (None, 28, 28, 416)  0           conv3_block10_0_bn[0][0]         \n",
      "__________________________________________________________________________________________________\n",
      "conv3_block10_1_conv (Conv2D)   (None, 28, 28, 128)  53248       conv3_block10_0_relu[0][0]       \n",
      "__________________________________________________________________________________________________\n",
      "conv3_block10_1_bn (BatchNormal (None, 28, 28, 128)  512         conv3_block10_1_conv[0][0]       \n",
      "__________________________________________________________________________________________________\n",
      "conv3_block10_1_relu (Activatio (None, 28, 28, 128)  0           conv3_block10_1_bn[0][0]         \n",
      "__________________________________________________________________________________________________\n",
      "conv3_block10_2_conv (Conv2D)   (None, 28, 28, 32)   36864       conv3_block10_1_relu[0][0]       \n",
      "__________________________________________________________________________________________________\n",
      "conv3_block10_concat (Concatena (None, 28, 28, 448)  0           conv3_block9_concat[0][0]        \n",
      "                                                                 conv3_block10_2_conv[0][0]       \n",
      "__________________________________________________________________________________________________\n",
      "conv3_block11_0_bn (BatchNormal (None, 28, 28, 448)  1792        conv3_block10_concat[0][0]       \n",
      "__________________________________________________________________________________________________\n",
      "conv3_block11_0_relu (Activatio (None, 28, 28, 448)  0           conv3_block11_0_bn[0][0]         \n",
      "__________________________________________________________________________________________________\n",
      "conv3_block11_1_conv (Conv2D)   (None, 28, 28, 128)  57344       conv3_block11_0_relu[0][0]       \n",
      "__________________________________________________________________________________________________\n",
      "conv3_block11_1_bn (BatchNormal (None, 28, 28, 128)  512         conv3_block11_1_conv[0][0]       \n",
      "__________________________________________________________________________________________________\n",
      "conv3_block11_1_relu (Activatio (None, 28, 28, 128)  0           conv3_block11_1_bn[0][0]         \n",
      "__________________________________________________________________________________________________\n",
      "conv3_block11_2_conv (Conv2D)   (None, 28, 28, 32)   36864       conv3_block11_1_relu[0][0]       \n",
      "__________________________________________________________________________________________________\n",
      "conv3_block11_concat (Concatena (None, 28, 28, 480)  0           conv3_block10_concat[0][0]       \n",
      "                                                                 conv3_block11_2_conv[0][0]       \n",
      "__________________________________________________________________________________________________\n",
      "conv3_block12_0_bn (BatchNormal (None, 28, 28, 480)  1920        conv3_block11_concat[0][0]       \n",
      "__________________________________________________________________________________________________\n",
      "conv3_block12_0_relu (Activatio (None, 28, 28, 480)  0           conv3_block12_0_bn[0][0]         \n",
      "__________________________________________________________________________________________________\n",
      "conv3_block12_1_conv (Conv2D)   (None, 28, 28, 128)  61440       conv3_block12_0_relu[0][0]       \n",
      "__________________________________________________________________________________________________\n",
      "conv3_block12_1_bn (BatchNormal (None, 28, 28, 128)  512         conv3_block12_1_conv[0][0]       \n",
      "__________________________________________________________________________________________________\n",
      "conv3_block12_1_relu (Activatio (None, 28, 28, 128)  0           conv3_block12_1_bn[0][0]         \n",
      "__________________________________________________________________________________________________\n",
      "conv3_block12_2_conv (Conv2D)   (None, 28, 28, 32)   36864       conv3_block12_1_relu[0][0]       \n",
      "__________________________________________________________________________________________________\n",
      "conv3_block12_concat (Concatena (None, 28, 28, 512)  0           conv3_block11_concat[0][0]       \n",
      "                                                                 conv3_block12_2_conv[0][0]       \n",
      "__________________________________________________________________________________________________\n",
      "pool3_bn (BatchNormalization)   (None, 28, 28, 512)  2048        conv3_block12_concat[0][0]       \n",
      "__________________________________________________________________________________________________\n",
      "pool3_relu (Activation)         (None, 28, 28, 512)  0           pool3_bn[0][0]                   \n",
      "__________________________________________________________________________________________________\n",
      "pool3_conv (Conv2D)             (None, 28, 28, 256)  131072      pool3_relu[0][0]                 \n",
      "__________________________________________________________________________________________________\n",
      "pool3_pool (AveragePooling2D)   (None, 14, 14, 256)  0           pool3_conv[0][0]                 \n",
      "__________________________________________________________________________________________________\n",
      "conv4_block1_0_bn (BatchNormali (None, 14, 14, 256)  1024        pool3_pool[0][0]                 \n",
      "__________________________________________________________________________________________________\n",
      "conv4_block1_0_relu (Activation (None, 14, 14, 256)  0           conv4_block1_0_bn[0][0]          \n",
      "__________________________________________________________________________________________________\n",
      "conv4_block1_1_conv (Conv2D)    (None, 14, 14, 128)  32768       conv4_block1_0_relu[0][0]        \n",
      "__________________________________________________________________________________________________\n",
      "conv4_block1_1_bn (BatchNormali (None, 14, 14, 128)  512         conv4_block1_1_conv[0][0]        \n",
      "__________________________________________________________________________________________________\n",
      "conv4_block1_1_relu (Activation (None, 14, 14, 128)  0           conv4_block1_1_bn[0][0]          \n",
      "__________________________________________________________________________________________________\n",
      "conv4_block1_2_conv (Conv2D)    (None, 14, 14, 32)   36864       conv4_block1_1_relu[0][0]        \n",
      "__________________________________________________________________________________________________\n",
      "conv4_block1_concat (Concatenat (None, 14, 14, 288)  0           pool3_pool[0][0]                 \n",
      "                                                                 conv4_block1_2_conv[0][0]        \n",
      "__________________________________________________________________________________________________\n",
      "conv4_block2_0_bn (BatchNormali (None, 14, 14, 288)  1152        conv4_block1_concat[0][0]        \n",
      "__________________________________________________________________________________________________\n",
      "conv4_block2_0_relu (Activation (None, 14, 14, 288)  0           conv4_block2_0_bn[0][0]          \n",
      "__________________________________________________________________________________________________\n",
      "conv4_block2_1_conv (Conv2D)    (None, 14, 14, 128)  36864       conv4_block2_0_relu[0][0]        \n",
      "__________________________________________________________________________________________________\n",
      "conv4_block2_1_bn (BatchNormali (None, 14, 14, 128)  512         conv4_block2_1_conv[0][0]        \n",
      "__________________________________________________________________________________________________\n",
      "conv4_block2_1_relu (Activation (None, 14, 14, 128)  0           conv4_block2_1_bn[0][0]          \n",
      "__________________________________________________________________________________________________\n",
      "conv4_block2_2_conv (Conv2D)    (None, 14, 14, 32)   36864       conv4_block2_1_relu[0][0]        \n",
      "__________________________________________________________________________________________________\n",
      "conv4_block2_concat (Concatenat (None, 14, 14, 320)  0           conv4_block1_concat[0][0]        \n",
      "                                                                 conv4_block2_2_conv[0][0]        \n",
      "__________________________________________________________________________________________________\n",
      "conv4_block3_0_bn (BatchNormali (None, 14, 14, 320)  1280        conv4_block2_concat[0][0]        \n",
      "__________________________________________________________________________________________________\n",
      "conv4_block3_0_relu (Activation (None, 14, 14, 320)  0           conv4_block3_0_bn[0][0]          \n",
      "__________________________________________________________________________________________________\n",
      "conv4_block3_1_conv (Conv2D)    (None, 14, 14, 128)  40960       conv4_block3_0_relu[0][0]        \n",
      "__________________________________________________________________________________________________\n",
      "conv4_block3_1_bn (BatchNormali (None, 14, 14, 128)  512         conv4_block3_1_conv[0][0]        \n",
      "__________________________________________________________________________________________________\n",
      "conv4_block3_1_relu (Activation (None, 14, 14, 128)  0           conv4_block3_1_bn[0][0]          \n",
      "__________________________________________________________________________________________________\n",
      "conv4_block3_2_conv (Conv2D)    (None, 14, 14, 32)   36864       conv4_block3_1_relu[0][0]        \n",
      "__________________________________________________________________________________________________\n",
      "conv4_block3_concat (Concatenat (None, 14, 14, 352)  0           conv4_block2_concat[0][0]        \n",
      "                                                                 conv4_block3_2_conv[0][0]        \n",
      "__________________________________________________________________________________________________\n",
      "conv4_block4_0_bn (BatchNormali (None, 14, 14, 352)  1408        conv4_block3_concat[0][0]        \n",
      "__________________________________________________________________________________________________\n",
      "conv4_block4_0_relu (Activation (None, 14, 14, 352)  0           conv4_block4_0_bn[0][0]          \n",
      "__________________________________________________________________________________________________\n",
      "conv4_block4_1_conv (Conv2D)    (None, 14, 14, 128)  45056       conv4_block4_0_relu[0][0]        \n",
      "__________________________________________________________________________________________________\n",
      "conv4_block4_1_bn (BatchNormali (None, 14, 14, 128)  512         conv4_block4_1_conv[0][0]        \n",
      "__________________________________________________________________________________________________\n",
      "conv4_block4_1_relu (Activation (None, 14, 14, 128)  0           conv4_block4_1_bn[0][0]          \n",
      "__________________________________________________________________________________________________\n",
      "conv4_block4_2_conv (Conv2D)    (None, 14, 14, 32)   36864       conv4_block4_1_relu[0][0]        \n",
      "__________________________________________________________________________________________________\n",
      "conv4_block4_concat (Concatenat (None, 14, 14, 384)  0           conv4_block3_concat[0][0]        \n",
      "                                                                 conv4_block4_2_conv[0][0]        \n",
      "__________________________________________________________________________________________________\n",
      "conv4_block5_0_bn (BatchNormali (None, 14, 14, 384)  1536        conv4_block4_concat[0][0]        \n",
      "__________________________________________________________________________________________________\n",
      "conv4_block5_0_relu (Activation (None, 14, 14, 384)  0           conv4_block5_0_bn[0][0]          \n",
      "__________________________________________________________________________________________________\n",
      "conv4_block5_1_conv (Conv2D)    (None, 14, 14, 128)  49152       conv4_block5_0_relu[0][0]        \n",
      "__________________________________________________________________________________________________\n",
      "conv4_block5_1_bn (BatchNormali (None, 14, 14, 128)  512         conv4_block5_1_conv[0][0]        \n",
      "__________________________________________________________________________________________________\n",
      "conv4_block5_1_relu (Activation (None, 14, 14, 128)  0           conv4_block5_1_bn[0][0]          \n",
      "__________________________________________________________________________________________________\n",
      "conv4_block5_2_conv (Conv2D)    (None, 14, 14, 32)   36864       conv4_block5_1_relu[0][0]        \n",
      "__________________________________________________________________________________________________\n",
      "conv4_block5_concat (Concatenat (None, 14, 14, 416)  0           conv4_block4_concat[0][0]        \n",
      "                                                                 conv4_block5_2_conv[0][0]        \n",
      "__________________________________________________________________________________________________\n",
      "conv4_block6_0_bn (BatchNormali (None, 14, 14, 416)  1664        conv4_block5_concat[0][0]        \n",
      "__________________________________________________________________________________________________\n",
      "conv4_block6_0_relu (Activation (None, 14, 14, 416)  0           conv4_block6_0_bn[0][0]          \n",
      "__________________________________________________________________________________________________\n",
      "conv4_block6_1_conv (Conv2D)    (None, 14, 14, 128)  53248       conv4_block6_0_relu[0][0]        \n",
      "__________________________________________________________________________________________________\n",
      "conv4_block6_1_bn (BatchNormali (None, 14, 14, 128)  512         conv4_block6_1_conv[0][0]        \n",
      "__________________________________________________________________________________________________\n",
      "conv4_block6_1_relu (Activation (None, 14, 14, 128)  0           conv4_block6_1_bn[0][0]          \n",
      "__________________________________________________________________________________________________\n",
      "conv4_block6_2_conv (Conv2D)    (None, 14, 14, 32)   36864       conv4_block6_1_relu[0][0]        \n",
      "__________________________________________________________________________________________________\n",
      "conv4_block6_concat (Concatenat (None, 14, 14, 448)  0           conv4_block5_concat[0][0]        \n",
      "                                                                 conv4_block6_2_conv[0][0]        \n",
      "__________________________________________________________________________________________________\n",
      "conv4_block7_0_bn (BatchNormali (None, 14, 14, 448)  1792        conv4_block6_concat[0][0]        \n",
      "__________________________________________________________________________________________________\n",
      "conv4_block7_0_relu (Activation (None, 14, 14, 448)  0           conv4_block7_0_bn[0][0]          \n",
      "__________________________________________________________________________________________________\n",
      "conv4_block7_1_conv (Conv2D)    (None, 14, 14, 128)  57344       conv4_block7_0_relu[0][0]        \n",
      "__________________________________________________________________________________________________\n",
      "conv4_block7_1_bn (BatchNormali (None, 14, 14, 128)  512         conv4_block7_1_conv[0][0]        \n",
      "__________________________________________________________________________________________________\n",
      "conv4_block7_1_relu (Activation (None, 14, 14, 128)  0           conv4_block7_1_bn[0][0]          \n",
      "__________________________________________________________________________________________________\n",
      "conv4_block7_2_conv (Conv2D)    (None, 14, 14, 32)   36864       conv4_block7_1_relu[0][0]        \n",
      "__________________________________________________________________________________________________\n",
      "conv4_block7_concat (Concatenat (None, 14, 14, 480)  0           conv4_block6_concat[0][0]        \n",
      "                                                                 conv4_block7_2_conv[0][0]        \n",
      "__________________________________________________________________________________________________\n",
      "conv4_block8_0_bn (BatchNormali (None, 14, 14, 480)  1920        conv4_block7_concat[0][0]        \n",
      "__________________________________________________________________________________________________\n",
      "conv4_block8_0_relu (Activation (None, 14, 14, 480)  0           conv4_block8_0_bn[0][0]          \n",
      "__________________________________________________________________________________________________\n",
      "conv4_block8_1_conv (Conv2D)    (None, 14, 14, 128)  61440       conv4_block8_0_relu[0][0]        \n",
      "__________________________________________________________________________________________________\n",
      "conv4_block8_1_bn (BatchNormali (None, 14, 14, 128)  512         conv4_block8_1_conv[0][0]        \n",
      "__________________________________________________________________________________________________\n",
      "conv4_block8_1_relu (Activation (None, 14, 14, 128)  0           conv4_block8_1_bn[0][0]          \n",
      "__________________________________________________________________________________________________\n",
      "conv4_block8_2_conv (Conv2D)    (None, 14, 14, 32)   36864       conv4_block8_1_relu[0][0]        \n",
      "__________________________________________________________________________________________________\n",
      "conv4_block8_concat (Concatenat (None, 14, 14, 512)  0           conv4_block7_concat[0][0]        \n",
      "                                                                 conv4_block8_2_conv[0][0]        \n",
      "__________________________________________________________________________________________________\n",
      "conv4_block9_0_bn (BatchNormali (None, 14, 14, 512)  2048        conv4_block8_concat[0][0]        \n",
      "__________________________________________________________________________________________________\n",
      "conv4_block9_0_relu (Activation (None, 14, 14, 512)  0           conv4_block9_0_bn[0][0]          \n",
      "__________________________________________________________________________________________________\n",
      "conv4_block9_1_conv (Conv2D)    (None, 14, 14, 128)  65536       conv4_block9_0_relu[0][0]        \n",
      "__________________________________________________________________________________________________\n",
      "conv4_block9_1_bn (BatchNormali (None, 14, 14, 128)  512         conv4_block9_1_conv[0][0]        \n",
      "__________________________________________________________________________________________________\n",
      "conv4_block9_1_relu (Activation (None, 14, 14, 128)  0           conv4_block9_1_bn[0][0]          \n",
      "__________________________________________________________________________________________________\n",
      "conv4_block9_2_conv (Conv2D)    (None, 14, 14, 32)   36864       conv4_block9_1_relu[0][0]        \n",
      "__________________________________________________________________________________________________\n",
      "conv4_block9_concat (Concatenat (None, 14, 14, 544)  0           conv4_block8_concat[0][0]        \n",
      "                                                                 conv4_block9_2_conv[0][0]        \n",
      "__________________________________________________________________________________________________\n",
      "conv4_block10_0_bn (BatchNormal (None, 14, 14, 544)  2176        conv4_block9_concat[0][0]        \n",
      "__________________________________________________________________________________________________\n",
      "conv4_block10_0_relu (Activatio (None, 14, 14, 544)  0           conv4_block10_0_bn[0][0]         \n",
      "__________________________________________________________________________________________________\n",
      "conv4_block10_1_conv (Conv2D)   (None, 14, 14, 128)  69632       conv4_block10_0_relu[0][0]       \n",
      "__________________________________________________________________________________________________\n",
      "conv4_block10_1_bn (BatchNormal (None, 14, 14, 128)  512         conv4_block10_1_conv[0][0]       \n",
      "__________________________________________________________________________________________________\n",
      "conv4_block10_1_relu (Activatio (None, 14, 14, 128)  0           conv4_block10_1_bn[0][0]         \n",
      "__________________________________________________________________________________________________\n",
      "conv4_block10_2_conv (Conv2D)   (None, 14, 14, 32)   36864       conv4_block10_1_relu[0][0]       \n",
      "__________________________________________________________________________________________________\n",
      "conv4_block10_concat (Concatena (None, 14, 14, 576)  0           conv4_block9_concat[0][0]        \n",
      "                                                                 conv4_block10_2_conv[0][0]       \n",
      "__________________________________________________________________________________________________\n",
      "conv4_block11_0_bn (BatchNormal (None, 14, 14, 576)  2304        conv4_block10_concat[0][0]       \n",
      "__________________________________________________________________________________________________\n",
      "conv4_block11_0_relu (Activatio (None, 14, 14, 576)  0           conv4_block11_0_bn[0][0]         \n",
      "__________________________________________________________________________________________________\n",
      "conv4_block11_1_conv (Conv2D)   (None, 14, 14, 128)  73728       conv4_block11_0_relu[0][0]       \n",
      "__________________________________________________________________________________________________\n",
      "conv4_block11_1_bn (BatchNormal (None, 14, 14, 128)  512         conv4_block11_1_conv[0][0]       \n",
      "__________________________________________________________________________________________________\n",
      "conv4_block11_1_relu (Activatio (None, 14, 14, 128)  0           conv4_block11_1_bn[0][0]         \n",
      "__________________________________________________________________________________________________\n",
      "conv4_block11_2_conv (Conv2D)   (None, 14, 14, 32)   36864       conv4_block11_1_relu[0][0]       \n",
      "__________________________________________________________________________________________________\n",
      "conv4_block11_concat (Concatena (None, 14, 14, 608)  0           conv4_block10_concat[0][0]       \n",
      "                                                                 conv4_block11_2_conv[0][0]       \n",
      "__________________________________________________________________________________________________\n",
      "conv4_block12_0_bn (BatchNormal (None, 14, 14, 608)  2432        conv4_block11_concat[0][0]       \n",
      "__________________________________________________________________________________________________\n",
      "conv4_block12_0_relu (Activatio (None, 14, 14, 608)  0           conv4_block12_0_bn[0][0]         \n",
      "__________________________________________________________________________________________________\n",
      "conv4_block12_1_conv (Conv2D)   (None, 14, 14, 128)  77824       conv4_block12_0_relu[0][0]       \n",
      "__________________________________________________________________________________________________\n",
      "conv4_block12_1_bn (BatchNormal (None, 14, 14, 128)  512         conv4_block12_1_conv[0][0]       \n",
      "__________________________________________________________________________________________________\n",
      "conv4_block12_1_relu (Activatio (None, 14, 14, 128)  0           conv4_block12_1_bn[0][0]         \n",
      "__________________________________________________________________________________________________\n",
      "conv4_block12_2_conv (Conv2D)   (None, 14, 14, 32)   36864       conv4_block12_1_relu[0][0]       \n",
      "__________________________________________________________________________________________________\n",
      "conv4_block12_concat (Concatena (None, 14, 14, 640)  0           conv4_block11_concat[0][0]       \n",
      "                                                                 conv4_block12_2_conv[0][0]       \n",
      "__________________________________________________________________________________________________\n",
      "conv4_block13_0_bn (BatchNormal (None, 14, 14, 640)  2560        conv4_block12_concat[0][0]       \n",
      "__________________________________________________________________________________________________\n",
      "conv4_block13_0_relu (Activatio (None, 14, 14, 640)  0           conv4_block13_0_bn[0][0]         \n",
      "__________________________________________________________________________________________________\n",
      "conv4_block13_1_conv (Conv2D)   (None, 14, 14, 128)  81920       conv4_block13_0_relu[0][0]       \n",
      "__________________________________________________________________________________________________\n",
      "conv4_block13_1_bn (BatchNormal (None, 14, 14, 128)  512         conv4_block13_1_conv[0][0]       \n",
      "__________________________________________________________________________________________________\n",
      "conv4_block13_1_relu (Activatio (None, 14, 14, 128)  0           conv4_block13_1_bn[0][0]         \n",
      "__________________________________________________________________________________________________\n",
      "conv4_block13_2_conv (Conv2D)   (None, 14, 14, 32)   36864       conv4_block13_1_relu[0][0]       \n",
      "__________________________________________________________________________________________________\n",
      "conv4_block13_concat (Concatena (None, 14, 14, 672)  0           conv4_block12_concat[0][0]       \n",
      "                                                                 conv4_block13_2_conv[0][0]       \n",
      "__________________________________________________________________________________________________\n",
      "conv4_block14_0_bn (BatchNormal (None, 14, 14, 672)  2688        conv4_block13_concat[0][0]       \n",
      "__________________________________________________________________________________________________\n",
      "conv4_block14_0_relu (Activatio (None, 14, 14, 672)  0           conv4_block14_0_bn[0][0]         \n",
      "__________________________________________________________________________________________________\n",
      "conv4_block14_1_conv (Conv2D)   (None, 14, 14, 128)  86016       conv4_block14_0_relu[0][0]       \n",
      "__________________________________________________________________________________________________\n",
      "conv4_block14_1_bn (BatchNormal (None, 14, 14, 128)  512         conv4_block14_1_conv[0][0]       \n",
      "__________________________________________________________________________________________________\n",
      "conv4_block14_1_relu (Activatio (None, 14, 14, 128)  0           conv4_block14_1_bn[0][0]         \n",
      "__________________________________________________________________________________________________\n",
      "conv4_block14_2_conv (Conv2D)   (None, 14, 14, 32)   36864       conv4_block14_1_relu[0][0]       \n",
      "__________________________________________________________________________________________________\n",
      "conv4_block14_concat (Concatena (None, 14, 14, 704)  0           conv4_block13_concat[0][0]       \n",
      "                                                                 conv4_block14_2_conv[0][0]       \n",
      "__________________________________________________________________________________________________\n",
      "conv4_block15_0_bn (BatchNormal (None, 14, 14, 704)  2816        conv4_block14_concat[0][0]       \n",
      "__________________________________________________________________________________________________\n",
      "conv4_block15_0_relu (Activatio (None, 14, 14, 704)  0           conv4_block15_0_bn[0][0]         \n",
      "__________________________________________________________________________________________________\n",
      "conv4_block15_1_conv (Conv2D)   (None, 14, 14, 128)  90112       conv4_block15_0_relu[0][0]       \n",
      "__________________________________________________________________________________________________\n",
      "conv4_block15_1_bn (BatchNormal (None, 14, 14, 128)  512         conv4_block15_1_conv[0][0]       \n",
      "__________________________________________________________________________________________________\n",
      "conv4_block15_1_relu (Activatio (None, 14, 14, 128)  0           conv4_block15_1_bn[0][0]         \n",
      "__________________________________________________________________________________________________\n",
      "conv4_block15_2_conv (Conv2D)   (None, 14, 14, 32)   36864       conv4_block15_1_relu[0][0]       \n",
      "__________________________________________________________________________________________________\n",
      "conv4_block15_concat (Concatena (None, 14, 14, 736)  0           conv4_block14_concat[0][0]       \n",
      "                                                                 conv4_block15_2_conv[0][0]       \n",
      "__________________________________________________________________________________________________\n",
      "conv4_block16_0_bn (BatchNormal (None, 14, 14, 736)  2944        conv4_block15_concat[0][0]       \n",
      "__________________________________________________________________________________________________\n",
      "conv4_block16_0_relu (Activatio (None, 14, 14, 736)  0           conv4_block16_0_bn[0][0]         \n",
      "__________________________________________________________________________________________________\n",
      "conv4_block16_1_conv (Conv2D)   (None, 14, 14, 128)  94208       conv4_block16_0_relu[0][0]       \n",
      "__________________________________________________________________________________________________\n",
      "conv4_block16_1_bn (BatchNormal (None, 14, 14, 128)  512         conv4_block16_1_conv[0][0]       \n",
      "__________________________________________________________________________________________________\n",
      "conv4_block16_1_relu (Activatio (None, 14, 14, 128)  0           conv4_block16_1_bn[0][0]         \n",
      "__________________________________________________________________________________________________\n",
      "conv4_block16_2_conv (Conv2D)   (None, 14, 14, 32)   36864       conv4_block16_1_relu[0][0]       \n",
      "__________________________________________________________________________________________________\n",
      "conv4_block16_concat (Concatena (None, 14, 14, 768)  0           conv4_block15_concat[0][0]       \n",
      "                                                                 conv4_block16_2_conv[0][0]       \n",
      "__________________________________________________________________________________________________\n",
      "conv4_block17_0_bn (BatchNormal (None, 14, 14, 768)  3072        conv4_block16_concat[0][0]       \n",
      "__________________________________________________________________________________________________\n",
      "conv4_block17_0_relu (Activatio (None, 14, 14, 768)  0           conv4_block17_0_bn[0][0]         \n",
      "__________________________________________________________________________________________________\n",
      "conv4_block17_1_conv (Conv2D)   (None, 14, 14, 128)  98304       conv4_block17_0_relu[0][0]       \n",
      "__________________________________________________________________________________________________\n",
      "conv4_block17_1_bn (BatchNormal (None, 14, 14, 128)  512         conv4_block17_1_conv[0][0]       \n",
      "__________________________________________________________________________________________________\n",
      "conv4_block17_1_relu (Activatio (None, 14, 14, 128)  0           conv4_block17_1_bn[0][0]         \n",
      "__________________________________________________________________________________________________\n",
      "conv4_block17_2_conv (Conv2D)   (None, 14, 14, 32)   36864       conv4_block17_1_relu[0][0]       \n",
      "__________________________________________________________________________________________________\n",
      "conv4_block17_concat (Concatena (None, 14, 14, 800)  0           conv4_block16_concat[0][0]       \n",
      "                                                                 conv4_block17_2_conv[0][0]       \n",
      "__________________________________________________________________________________________________\n",
      "conv4_block18_0_bn (BatchNormal (None, 14, 14, 800)  3200        conv4_block17_concat[0][0]       \n",
      "__________________________________________________________________________________________________\n",
      "conv4_block18_0_relu (Activatio (None, 14, 14, 800)  0           conv4_block18_0_bn[0][0]         \n",
      "__________________________________________________________________________________________________\n",
      "conv4_block18_1_conv (Conv2D)   (None, 14, 14, 128)  102400      conv4_block18_0_relu[0][0]       \n",
      "__________________________________________________________________________________________________\n",
      "conv4_block18_1_bn (BatchNormal (None, 14, 14, 128)  512         conv4_block18_1_conv[0][0]       \n",
      "__________________________________________________________________________________________________\n",
      "conv4_block18_1_relu (Activatio (None, 14, 14, 128)  0           conv4_block18_1_bn[0][0]         \n",
      "__________________________________________________________________________________________________\n",
      "conv4_block18_2_conv (Conv2D)   (None, 14, 14, 32)   36864       conv4_block18_1_relu[0][0]       \n",
      "__________________________________________________________________________________________________\n",
      "conv4_block18_concat (Concatena (None, 14, 14, 832)  0           conv4_block17_concat[0][0]       \n",
      "                                                                 conv4_block18_2_conv[0][0]       \n",
      "__________________________________________________________________________________________________\n",
      "conv4_block19_0_bn (BatchNormal (None, 14, 14, 832)  3328        conv4_block18_concat[0][0]       \n",
      "__________________________________________________________________________________________________\n",
      "conv4_block19_0_relu (Activatio (None, 14, 14, 832)  0           conv4_block19_0_bn[0][0]         \n",
      "__________________________________________________________________________________________________\n",
      "conv4_block19_1_conv (Conv2D)   (None, 14, 14, 128)  106496      conv4_block19_0_relu[0][0]       \n",
      "__________________________________________________________________________________________________\n",
      "conv4_block19_1_bn (BatchNormal (None, 14, 14, 128)  512         conv4_block19_1_conv[0][0]       \n",
      "__________________________________________________________________________________________________\n",
      "conv4_block19_1_relu (Activatio (None, 14, 14, 128)  0           conv4_block19_1_bn[0][0]         \n",
      "__________________________________________________________________________________________________\n",
      "conv4_block19_2_conv (Conv2D)   (None, 14, 14, 32)   36864       conv4_block19_1_relu[0][0]       \n",
      "__________________________________________________________________________________________________\n",
      "conv4_block19_concat (Concatena (None, 14, 14, 864)  0           conv4_block18_concat[0][0]       \n",
      "                                                                 conv4_block19_2_conv[0][0]       \n",
      "__________________________________________________________________________________________________\n",
      "conv4_block20_0_bn (BatchNormal (None, 14, 14, 864)  3456        conv4_block19_concat[0][0]       \n",
      "__________________________________________________________________________________________________\n",
      "conv4_block20_0_relu (Activatio (None, 14, 14, 864)  0           conv4_block20_0_bn[0][0]         \n",
      "__________________________________________________________________________________________________\n",
      "conv4_block20_1_conv (Conv2D)   (None, 14, 14, 128)  110592      conv4_block20_0_relu[0][0]       \n",
      "__________________________________________________________________________________________________\n",
      "conv4_block20_1_bn (BatchNormal (None, 14, 14, 128)  512         conv4_block20_1_conv[0][0]       \n",
      "__________________________________________________________________________________________________\n",
      "conv4_block20_1_relu (Activatio (None, 14, 14, 128)  0           conv4_block20_1_bn[0][0]         \n",
      "__________________________________________________________________________________________________\n",
      "conv4_block20_2_conv (Conv2D)   (None, 14, 14, 32)   36864       conv4_block20_1_relu[0][0]       \n",
      "__________________________________________________________________________________________________\n",
      "conv4_block20_concat (Concatena (None, 14, 14, 896)  0           conv4_block19_concat[0][0]       \n",
      "                                                                 conv4_block20_2_conv[0][0]       \n",
      "__________________________________________________________________________________________________\n",
      "conv4_block21_0_bn (BatchNormal (None, 14, 14, 896)  3584        conv4_block20_concat[0][0]       \n",
      "__________________________________________________________________________________________________\n",
      "conv4_block21_0_relu (Activatio (None, 14, 14, 896)  0           conv4_block21_0_bn[0][0]         \n",
      "__________________________________________________________________________________________________\n",
      "conv4_block21_1_conv (Conv2D)   (None, 14, 14, 128)  114688      conv4_block21_0_relu[0][0]       \n",
      "__________________________________________________________________________________________________\n",
      "conv4_block21_1_bn (BatchNormal (None, 14, 14, 128)  512         conv4_block21_1_conv[0][0]       \n",
      "__________________________________________________________________________________________________\n",
      "conv4_block21_1_relu (Activatio (None, 14, 14, 128)  0           conv4_block21_1_bn[0][0]         \n",
      "__________________________________________________________________________________________________\n",
      "conv4_block21_2_conv (Conv2D)   (None, 14, 14, 32)   36864       conv4_block21_1_relu[0][0]       \n",
      "__________________________________________________________________________________________________\n",
      "conv4_block21_concat (Concatena (None, 14, 14, 928)  0           conv4_block20_concat[0][0]       \n",
      "                                                                 conv4_block21_2_conv[0][0]       \n",
      "__________________________________________________________________________________________________\n",
      "conv4_block22_0_bn (BatchNormal (None, 14, 14, 928)  3712        conv4_block21_concat[0][0]       \n",
      "__________________________________________________________________________________________________\n",
      "conv4_block22_0_relu (Activatio (None, 14, 14, 928)  0           conv4_block22_0_bn[0][0]         \n",
      "__________________________________________________________________________________________________\n",
      "conv4_block22_1_conv (Conv2D)   (None, 14, 14, 128)  118784      conv4_block22_0_relu[0][0]       \n",
      "__________________________________________________________________________________________________\n",
      "conv4_block22_1_bn (BatchNormal (None, 14, 14, 128)  512         conv4_block22_1_conv[0][0]       \n",
      "__________________________________________________________________________________________________\n",
      "conv4_block22_1_relu (Activatio (None, 14, 14, 128)  0           conv4_block22_1_bn[0][0]         \n",
      "__________________________________________________________________________________________________\n",
      "conv4_block22_2_conv (Conv2D)   (None, 14, 14, 32)   36864       conv4_block22_1_relu[0][0]       \n",
      "__________________________________________________________________________________________________\n",
      "conv4_block22_concat (Concatena (None, 14, 14, 960)  0           conv4_block21_concat[0][0]       \n",
      "                                                                 conv4_block22_2_conv[0][0]       \n",
      "__________________________________________________________________________________________________\n",
      "conv4_block23_0_bn (BatchNormal (None, 14, 14, 960)  3840        conv4_block22_concat[0][0]       \n",
      "__________________________________________________________________________________________________\n",
      "conv4_block23_0_relu (Activatio (None, 14, 14, 960)  0           conv4_block23_0_bn[0][0]         \n",
      "__________________________________________________________________________________________________\n",
      "conv4_block23_1_conv (Conv2D)   (None, 14, 14, 128)  122880      conv4_block23_0_relu[0][0]       \n",
      "__________________________________________________________________________________________________\n",
      "conv4_block23_1_bn (BatchNormal (None, 14, 14, 128)  512         conv4_block23_1_conv[0][0]       \n",
      "__________________________________________________________________________________________________\n",
      "conv4_block23_1_relu (Activatio (None, 14, 14, 128)  0           conv4_block23_1_bn[0][0]         \n",
      "__________________________________________________________________________________________________\n",
      "conv4_block23_2_conv (Conv2D)   (None, 14, 14, 32)   36864       conv4_block23_1_relu[0][0]       \n",
      "__________________________________________________________________________________________________\n",
      "conv4_block23_concat (Concatena (None, 14, 14, 992)  0           conv4_block22_concat[0][0]       \n",
      "                                                                 conv4_block23_2_conv[0][0]       \n",
      "__________________________________________________________________________________________________\n",
      "conv4_block24_0_bn (BatchNormal (None, 14, 14, 992)  3968        conv4_block23_concat[0][0]       \n",
      "__________________________________________________________________________________________________\n",
      "conv4_block24_0_relu (Activatio (None, 14, 14, 992)  0           conv4_block24_0_bn[0][0]         \n",
      "__________________________________________________________________________________________________\n",
      "conv4_block24_1_conv (Conv2D)   (None, 14, 14, 128)  126976      conv4_block24_0_relu[0][0]       \n",
      "__________________________________________________________________________________________________\n",
      "conv4_block24_1_bn (BatchNormal (None, 14, 14, 128)  512         conv4_block24_1_conv[0][0]       \n",
      "__________________________________________________________________________________________________\n",
      "conv4_block24_1_relu (Activatio (None, 14, 14, 128)  0           conv4_block24_1_bn[0][0]         \n",
      "__________________________________________________________________________________________________\n",
      "conv4_block24_2_conv (Conv2D)   (None, 14, 14, 32)   36864       conv4_block24_1_relu[0][0]       \n",
      "__________________________________________________________________________________________________\n",
      "conv4_block24_concat (Concatena (None, 14, 14, 1024) 0           conv4_block23_concat[0][0]       \n",
      "                                                                 conv4_block24_2_conv[0][0]       \n",
      "__________________________________________________________________________________________________\n",
      "pool4_bn (BatchNormalization)   (None, 14, 14, 1024) 4096        conv4_block24_concat[0][0]       \n",
      "__________________________________________________________________________________________________\n",
      "pool4_relu (Activation)         (None, 14, 14, 1024) 0           pool4_bn[0][0]                   \n",
      "__________________________________________________________________________________________________\n",
      "pool4_conv (Conv2D)             (None, 14, 14, 512)  524288      pool4_relu[0][0]                 \n",
      "__________________________________________________________________________________________________\n",
      "pool4_pool (AveragePooling2D)   (None, 7, 7, 512)    0           pool4_conv[0][0]                 \n",
      "__________________________________________________________________________________________________\n",
      "conv5_block1_0_bn (BatchNormali (None, 7, 7, 512)    2048        pool4_pool[0][0]                 \n",
      "__________________________________________________________________________________________________\n",
      "conv5_block1_0_relu (Activation (None, 7, 7, 512)    0           conv5_block1_0_bn[0][0]          \n",
      "__________________________________________________________________________________________________\n",
      "conv5_block1_1_conv (Conv2D)    (None, 7, 7, 128)    65536       conv5_block1_0_relu[0][0]        \n",
      "__________________________________________________________________________________________________\n",
      "conv5_block1_1_bn (BatchNormali (None, 7, 7, 128)    512         conv5_block1_1_conv[0][0]        \n",
      "__________________________________________________________________________________________________\n",
      "conv5_block1_1_relu (Activation (None, 7, 7, 128)    0           conv5_block1_1_bn[0][0]          \n",
      "__________________________________________________________________________________________________\n",
      "conv5_block1_2_conv (Conv2D)    (None, 7, 7, 32)     36864       conv5_block1_1_relu[0][0]        \n",
      "__________________________________________________________________________________________________\n",
      "conv5_block1_concat (Concatenat (None, 7, 7, 544)    0           pool4_pool[0][0]                 \n",
      "                                                                 conv5_block1_2_conv[0][0]        \n",
      "__________________________________________________________________________________________________\n",
      "conv5_block2_0_bn (BatchNormali (None, 7, 7, 544)    2176        conv5_block1_concat[0][0]        \n",
      "__________________________________________________________________________________________________\n",
      "conv5_block2_0_relu (Activation (None, 7, 7, 544)    0           conv5_block2_0_bn[0][0]          \n",
      "__________________________________________________________________________________________________\n",
      "conv5_block2_1_conv (Conv2D)    (None, 7, 7, 128)    69632       conv5_block2_0_relu[0][0]        \n",
      "__________________________________________________________________________________________________\n",
      "conv5_block2_1_bn (BatchNormali (None, 7, 7, 128)    512         conv5_block2_1_conv[0][0]        \n",
      "__________________________________________________________________________________________________\n",
      "conv5_block2_1_relu (Activation (None, 7, 7, 128)    0           conv5_block2_1_bn[0][0]          \n",
      "__________________________________________________________________________________________________\n",
      "conv5_block2_2_conv (Conv2D)    (None, 7, 7, 32)     36864       conv5_block2_1_relu[0][0]        \n",
      "__________________________________________________________________________________________________\n",
      "conv5_block2_concat (Concatenat (None, 7, 7, 576)    0           conv5_block1_concat[0][0]        \n",
      "                                                                 conv5_block2_2_conv[0][0]        \n",
      "__________________________________________________________________________________________________\n",
      "conv5_block3_0_bn (BatchNormali (None, 7, 7, 576)    2304        conv5_block2_concat[0][0]        \n",
      "__________________________________________________________________________________________________\n",
      "conv5_block3_0_relu (Activation (None, 7, 7, 576)    0           conv5_block3_0_bn[0][0]          \n",
      "__________________________________________________________________________________________________\n",
      "conv5_block3_1_conv (Conv2D)    (None, 7, 7, 128)    73728       conv5_block3_0_relu[0][0]        \n",
      "__________________________________________________________________________________________________\n",
      "conv5_block3_1_bn (BatchNormali (None, 7, 7, 128)    512         conv5_block3_1_conv[0][0]        \n",
      "__________________________________________________________________________________________________\n",
      "conv5_block3_1_relu (Activation (None, 7, 7, 128)    0           conv5_block3_1_bn[0][0]          \n",
      "__________________________________________________________________________________________________\n",
      "conv5_block3_2_conv (Conv2D)    (None, 7, 7, 32)     36864       conv5_block3_1_relu[0][0]        \n",
      "__________________________________________________________________________________________________\n",
      "conv5_block3_concat (Concatenat (None, 7, 7, 608)    0           conv5_block2_concat[0][0]        \n",
      "                                                                 conv5_block3_2_conv[0][0]        \n",
      "__________________________________________________________________________________________________\n",
      "conv5_block4_0_bn (BatchNormali (None, 7, 7, 608)    2432        conv5_block3_concat[0][0]        \n",
      "__________________________________________________________________________________________________\n",
      "conv5_block4_0_relu (Activation (None, 7, 7, 608)    0           conv5_block4_0_bn[0][0]          \n",
      "__________________________________________________________________________________________________\n",
      "conv5_block4_1_conv (Conv2D)    (None, 7, 7, 128)    77824       conv5_block4_0_relu[0][0]        \n",
      "__________________________________________________________________________________________________\n",
      "conv5_block4_1_bn (BatchNormali (None, 7, 7, 128)    512         conv5_block4_1_conv[0][0]        \n",
      "__________________________________________________________________________________________________\n",
      "conv5_block4_1_relu (Activation (None, 7, 7, 128)    0           conv5_block4_1_bn[0][0]          \n",
      "__________________________________________________________________________________________________\n",
      "conv5_block4_2_conv (Conv2D)    (None, 7, 7, 32)     36864       conv5_block4_1_relu[0][0]        \n",
      "__________________________________________________________________________________________________\n",
      "conv5_block4_concat (Concatenat (None, 7, 7, 640)    0           conv5_block3_concat[0][0]        \n",
      "                                                                 conv5_block4_2_conv[0][0]        \n",
      "__________________________________________________________________________________________________\n",
      "conv5_block5_0_bn (BatchNormali (None, 7, 7, 640)    2560        conv5_block4_concat[0][0]        \n",
      "__________________________________________________________________________________________________\n",
      "conv5_block5_0_relu (Activation (None, 7, 7, 640)    0           conv5_block5_0_bn[0][0]          \n",
      "__________________________________________________________________________________________________\n",
      "conv5_block5_1_conv (Conv2D)    (None, 7, 7, 128)    81920       conv5_block5_0_relu[0][0]        \n",
      "__________________________________________________________________________________________________\n",
      "conv5_block5_1_bn (BatchNormali (None, 7, 7, 128)    512         conv5_block5_1_conv[0][0]        \n",
      "__________________________________________________________________________________________________\n",
      "conv5_block5_1_relu (Activation (None, 7, 7, 128)    0           conv5_block5_1_bn[0][0]          \n",
      "__________________________________________________________________________________________________\n",
      "conv5_block5_2_conv (Conv2D)    (None, 7, 7, 32)     36864       conv5_block5_1_relu[0][0]        \n",
      "__________________________________________________________________________________________________\n",
      "conv5_block5_concat (Concatenat (None, 7, 7, 672)    0           conv5_block4_concat[0][0]        \n",
      "                                                                 conv5_block5_2_conv[0][0]        \n",
      "__________________________________________________________________________________________________\n",
      "conv5_block6_0_bn (BatchNormali (None, 7, 7, 672)    2688        conv5_block5_concat[0][0]        \n",
      "__________________________________________________________________________________________________\n",
      "conv5_block6_0_relu (Activation (None, 7, 7, 672)    0           conv5_block6_0_bn[0][0]          \n",
      "__________________________________________________________________________________________________\n",
      "conv5_block6_1_conv (Conv2D)    (None, 7, 7, 128)    86016       conv5_block6_0_relu[0][0]        \n",
      "__________________________________________________________________________________________________\n",
      "conv5_block6_1_bn (BatchNormali (None, 7, 7, 128)    512         conv5_block6_1_conv[0][0]        \n",
      "__________________________________________________________________________________________________\n",
      "conv5_block6_1_relu (Activation (None, 7, 7, 128)    0           conv5_block6_1_bn[0][0]          \n",
      "__________________________________________________________________________________________________\n",
      "conv5_block6_2_conv (Conv2D)    (None, 7, 7, 32)     36864       conv5_block6_1_relu[0][0]        \n",
      "__________________________________________________________________________________________________\n",
      "conv5_block6_concat (Concatenat (None, 7, 7, 704)    0           conv5_block5_concat[0][0]        \n",
      "                                                                 conv5_block6_2_conv[0][0]        \n",
      "__________________________________________________________________________________________________\n",
      "conv5_block7_0_bn (BatchNormali (None, 7, 7, 704)    2816        conv5_block6_concat[0][0]        \n",
      "__________________________________________________________________________________________________\n",
      "conv5_block7_0_relu (Activation (None, 7, 7, 704)    0           conv5_block7_0_bn[0][0]          \n",
      "__________________________________________________________________________________________________\n",
      "conv5_block7_1_conv (Conv2D)    (None, 7, 7, 128)    90112       conv5_block7_0_relu[0][0]        \n",
      "__________________________________________________________________________________________________\n",
      "conv5_block7_1_bn (BatchNormali (None, 7, 7, 128)    512         conv5_block7_1_conv[0][0]        \n",
      "__________________________________________________________________________________________________\n",
      "conv5_block7_1_relu (Activation (None, 7, 7, 128)    0           conv5_block7_1_bn[0][0]          \n",
      "__________________________________________________________________________________________________\n",
      "conv5_block7_2_conv (Conv2D)    (None, 7, 7, 32)     36864       conv5_block7_1_relu[0][0]        \n",
      "__________________________________________________________________________________________________\n",
      "conv5_block7_concat (Concatenat (None, 7, 7, 736)    0           conv5_block6_concat[0][0]        \n",
      "                                                                 conv5_block7_2_conv[0][0]        \n",
      "__________________________________________________________________________________________________\n",
      "conv5_block8_0_bn (BatchNormali (None, 7, 7, 736)    2944        conv5_block7_concat[0][0]        \n",
      "__________________________________________________________________________________________________\n",
      "conv5_block8_0_relu (Activation (None, 7, 7, 736)    0           conv5_block8_0_bn[0][0]          \n",
      "__________________________________________________________________________________________________\n",
      "conv5_block8_1_conv (Conv2D)    (None, 7, 7, 128)    94208       conv5_block8_0_relu[0][0]        \n",
      "__________________________________________________________________________________________________\n",
      "conv5_block8_1_bn (BatchNormali (None, 7, 7, 128)    512         conv5_block8_1_conv[0][0]        \n",
      "__________________________________________________________________________________________________\n",
      "conv5_block8_1_relu (Activation (None, 7, 7, 128)    0           conv5_block8_1_bn[0][0]          \n",
      "__________________________________________________________________________________________________\n",
      "conv5_block8_2_conv (Conv2D)    (None, 7, 7, 32)     36864       conv5_block8_1_relu[0][0]        \n",
      "__________________________________________________________________________________________________\n",
      "conv5_block8_concat (Concatenat (None, 7, 7, 768)    0           conv5_block7_concat[0][0]        \n",
      "                                                                 conv5_block8_2_conv[0][0]        \n",
      "__________________________________________________________________________________________________\n",
      "conv5_block9_0_bn (BatchNormali (None, 7, 7, 768)    3072        conv5_block8_concat[0][0]        \n",
      "__________________________________________________________________________________________________\n",
      "conv5_block9_0_relu (Activation (None, 7, 7, 768)    0           conv5_block9_0_bn[0][0]          \n",
      "__________________________________________________________________________________________________\n",
      "conv5_block9_1_conv (Conv2D)    (None, 7, 7, 128)    98304       conv5_block9_0_relu[0][0]        \n",
      "__________________________________________________________________________________________________\n",
      "conv5_block9_1_bn (BatchNormali (None, 7, 7, 128)    512         conv5_block9_1_conv[0][0]        \n",
      "__________________________________________________________________________________________________\n",
      "conv5_block9_1_relu (Activation (None, 7, 7, 128)    0           conv5_block9_1_bn[0][0]          \n",
      "__________________________________________________________________________________________________\n",
      "conv5_block9_2_conv (Conv2D)    (None, 7, 7, 32)     36864       conv5_block9_1_relu[0][0]        \n",
      "__________________________________________________________________________________________________\n",
      "conv5_block9_concat (Concatenat (None, 7, 7, 800)    0           conv5_block8_concat[0][0]        \n",
      "                                                                 conv5_block9_2_conv[0][0]        \n",
      "__________________________________________________________________________________________________\n",
      "conv5_block10_0_bn (BatchNormal (None, 7, 7, 800)    3200        conv5_block9_concat[0][0]        \n",
      "__________________________________________________________________________________________________\n",
      "conv5_block10_0_relu (Activatio (None, 7, 7, 800)    0           conv5_block10_0_bn[0][0]         \n",
      "__________________________________________________________________________________________________\n",
      "conv5_block10_1_conv (Conv2D)   (None, 7, 7, 128)    102400      conv5_block10_0_relu[0][0]       \n",
      "__________________________________________________________________________________________________\n",
      "conv5_block10_1_bn (BatchNormal (None, 7, 7, 128)    512         conv5_block10_1_conv[0][0]       \n",
      "__________________________________________________________________________________________________\n",
      "conv5_block10_1_relu (Activatio (None, 7, 7, 128)    0           conv5_block10_1_bn[0][0]         \n",
      "__________________________________________________________________________________________________\n",
      "conv5_block10_2_conv (Conv2D)   (None, 7, 7, 32)     36864       conv5_block10_1_relu[0][0]       \n",
      "__________________________________________________________________________________________________\n",
      "conv5_block10_concat (Concatena (None, 7, 7, 832)    0           conv5_block9_concat[0][0]        \n",
      "                                                                 conv5_block10_2_conv[0][0]       \n",
      "__________________________________________________________________________________________________\n",
      "conv5_block11_0_bn (BatchNormal (None, 7, 7, 832)    3328        conv5_block10_concat[0][0]       \n",
      "__________________________________________________________________________________________________\n",
      "conv5_block11_0_relu (Activatio (None, 7, 7, 832)    0           conv5_block11_0_bn[0][0]         \n",
      "__________________________________________________________________________________________________\n",
      "conv5_block11_1_conv (Conv2D)   (None, 7, 7, 128)    106496      conv5_block11_0_relu[0][0]       \n",
      "__________________________________________________________________________________________________\n",
      "conv5_block11_1_bn (BatchNormal (None, 7, 7, 128)    512         conv5_block11_1_conv[0][0]       \n",
      "__________________________________________________________________________________________________\n",
      "conv5_block11_1_relu (Activatio (None, 7, 7, 128)    0           conv5_block11_1_bn[0][0]         \n",
      "__________________________________________________________________________________________________\n",
      "conv5_block11_2_conv (Conv2D)   (None, 7, 7, 32)     36864       conv5_block11_1_relu[0][0]       \n",
      "__________________________________________________________________________________________________\n",
      "conv5_block11_concat (Concatena (None, 7, 7, 864)    0           conv5_block10_concat[0][0]       \n",
      "                                                                 conv5_block11_2_conv[0][0]       \n",
      "__________________________________________________________________________________________________\n",
      "conv5_block12_0_bn (BatchNormal (None, 7, 7, 864)    3456        conv5_block11_concat[0][0]       \n",
      "__________________________________________________________________________________________________\n",
      "conv5_block12_0_relu (Activatio (None, 7, 7, 864)    0           conv5_block12_0_bn[0][0]         \n",
      "__________________________________________________________________________________________________\n",
      "conv5_block12_1_conv (Conv2D)   (None, 7, 7, 128)    110592      conv5_block12_0_relu[0][0]       \n",
      "__________________________________________________________________________________________________\n",
      "conv5_block12_1_bn (BatchNormal (None, 7, 7, 128)    512         conv5_block12_1_conv[0][0]       \n",
      "__________________________________________________________________________________________________\n",
      "conv5_block12_1_relu (Activatio (None, 7, 7, 128)    0           conv5_block12_1_bn[0][0]         \n",
      "__________________________________________________________________________________________________\n",
      "conv5_block12_2_conv (Conv2D)   (None, 7, 7, 32)     36864       conv5_block12_1_relu[0][0]       \n",
      "__________________________________________________________________________________________________\n",
      "conv5_block12_concat (Concatena (None, 7, 7, 896)    0           conv5_block11_concat[0][0]       \n",
      "                                                                 conv5_block12_2_conv[0][0]       \n",
      "__________________________________________________________________________________________________\n",
      "conv5_block13_0_bn (BatchNormal (None, 7, 7, 896)    3584        conv5_block12_concat[0][0]       \n",
      "__________________________________________________________________________________________________\n",
      "conv5_block13_0_relu (Activatio (None, 7, 7, 896)    0           conv5_block13_0_bn[0][0]         \n",
      "__________________________________________________________________________________________________\n",
      "conv5_block13_1_conv (Conv2D)   (None, 7, 7, 128)    114688      conv5_block13_0_relu[0][0]       \n",
      "__________________________________________________________________________________________________\n",
      "conv5_block13_1_bn (BatchNormal (None, 7, 7, 128)    512         conv5_block13_1_conv[0][0]       \n",
      "__________________________________________________________________________________________________\n",
      "conv5_block13_1_relu (Activatio (None, 7, 7, 128)    0           conv5_block13_1_bn[0][0]         \n",
      "__________________________________________________________________________________________________\n",
      "conv5_block13_2_conv (Conv2D)   (None, 7, 7, 32)     36864       conv5_block13_1_relu[0][0]       \n",
      "__________________________________________________________________________________________________\n",
      "conv5_block13_concat (Concatena (None, 7, 7, 928)    0           conv5_block12_concat[0][0]       \n",
      "                                                                 conv5_block13_2_conv[0][0]       \n",
      "__________________________________________________________________________________________________\n",
      "conv5_block14_0_bn (BatchNormal (None, 7, 7, 928)    3712        conv5_block13_concat[0][0]       \n",
      "__________________________________________________________________________________________________\n",
      "conv5_block14_0_relu (Activatio (None, 7, 7, 928)    0           conv5_block14_0_bn[0][0]         \n",
      "__________________________________________________________________________________________________\n",
      "conv5_block14_1_conv (Conv2D)   (None, 7, 7, 128)    118784      conv5_block14_0_relu[0][0]       \n",
      "__________________________________________________________________________________________________\n",
      "conv5_block14_1_bn (BatchNormal (None, 7, 7, 128)    512         conv5_block14_1_conv[0][0]       \n",
      "__________________________________________________________________________________________________\n",
      "conv5_block14_1_relu (Activatio (None, 7, 7, 128)    0           conv5_block14_1_bn[0][0]         \n",
      "__________________________________________________________________________________________________\n",
      "conv5_block14_2_conv (Conv2D)   (None, 7, 7, 32)     36864       conv5_block14_1_relu[0][0]       \n",
      "__________________________________________________________________________________________________\n",
      "conv5_block14_concat (Concatena (None, 7, 7, 960)    0           conv5_block13_concat[0][0]       \n",
      "                                                                 conv5_block14_2_conv[0][0]       \n",
      "__________________________________________________________________________________________________\n",
      "conv5_block15_0_bn (BatchNormal (None, 7, 7, 960)    3840        conv5_block14_concat[0][0]       \n",
      "__________________________________________________________________________________________________\n",
      "conv5_block15_0_relu (Activatio (None, 7, 7, 960)    0           conv5_block15_0_bn[0][0]         \n",
      "__________________________________________________________________________________________________\n",
      "conv5_block15_1_conv (Conv2D)   (None, 7, 7, 128)    122880      conv5_block15_0_relu[0][0]       \n",
      "__________________________________________________________________________________________________\n",
      "conv5_block15_1_bn (BatchNormal (None, 7, 7, 128)    512         conv5_block15_1_conv[0][0]       \n",
      "__________________________________________________________________________________________________\n",
      "conv5_block15_1_relu (Activatio (None, 7, 7, 128)    0           conv5_block15_1_bn[0][0]         \n",
      "__________________________________________________________________________________________________\n",
      "conv5_block15_2_conv (Conv2D)   (None, 7, 7, 32)     36864       conv5_block15_1_relu[0][0]       \n",
      "__________________________________________________________________________________________________\n",
      "conv5_block15_concat (Concatena (None, 7, 7, 992)    0           conv5_block14_concat[0][0]       \n",
      "                                                                 conv5_block15_2_conv[0][0]       \n",
      "__________________________________________________________________________________________________\n",
      "conv5_block16_0_bn (BatchNormal (None, 7, 7, 992)    3968        conv5_block15_concat[0][0]       \n",
      "__________________________________________________________________________________________________\n",
      "conv5_block16_0_relu (Activatio (None, 7, 7, 992)    0           conv5_block16_0_bn[0][0]         \n",
      "__________________________________________________________________________________________________\n",
      "conv5_block16_1_conv (Conv2D)   (None, 7, 7, 128)    126976      conv5_block16_0_relu[0][0]       \n",
      "__________________________________________________________________________________________________\n",
      "conv5_block16_1_bn (BatchNormal (None, 7, 7, 128)    512         conv5_block16_1_conv[0][0]       \n",
      "__________________________________________________________________________________________________\n",
      "conv5_block16_1_relu (Activatio (None, 7, 7, 128)    0           conv5_block16_1_bn[0][0]         \n",
      "__________________________________________________________________________________________________\n",
      "conv5_block16_2_conv (Conv2D)   (None, 7, 7, 32)     36864       conv5_block16_1_relu[0][0]       \n",
      "__________________________________________________________________________________________________\n",
      "conv5_block16_concat (Concatena (None, 7, 7, 1024)   0           conv5_block15_concat[0][0]       \n",
      "                                                                 conv5_block16_2_conv[0][0]       \n",
      "__________________________________________________________________________________________________\n",
      "bn (BatchNormalization)         (None, 7, 7, 1024)   4096        conv5_block16_concat[0][0]       \n",
      "__________________________________________________________________________________________________\n",
      "relu (Activation)               (None, 7, 7, 1024)   0           bn[0][0]                         \n",
      "==================================================================================================\n",
      "Total params: 7,037,504\n",
      "Trainable params: 6,953,856\n",
      "Non-trainable params: 83,648\n",
      "__________________________________________________________________________________________________\n"
     ]
    }
   ],
   "source": [
    "image_features_extract_model.summary()"
   ]
  },
  {
   "cell_type": "markdown",
   "metadata": {},
   "source": [
    "### 4.6.2 CNN_Encoder"
   ]
  },
  {
   "cell_type": "code",
   "execution_count": 142,
   "metadata": {
    "id": "f3Q3veiFeo3g"
   },
   "outputs": [],
   "source": [
    "class CNN_Encoder(tf.keras.layers.Layer):\n",
    "    # This encoder passes the features through a image_features_extract_model\n",
    "    def __init__(self, embedding_dim,feature_extracter):\n",
    "        super(CNN_Encoder, self).__init__()\n",
    "        # shape after fc == (batch_size, 64, embedding_dim/2)\n",
    "        #self.fc = tf.keras.layers.Dense(embedding_dim)\n",
    "        self.image_features_extract_model = feature_extracter\n",
    "    def call(self, x):\n",
    "        x = image_features_extract_model(x)\n",
    "        x = tf.reshape(x,(x.shape[0], -1, x.shape[3]))#squashing the output of image_features_extract_model.\n",
    "        #x = self.fc(x)\n",
    "        #x = tf.nn.relu(x)\n",
    "        return x"
   ]
  },
  {
   "cell_type": "markdown",
   "metadata": {},
   "source": [
    "### 4.6.3 Luong's Concat Attention: "
   ]
  },
  {
   "cell_type": "code",
   "execution_count": 143,
   "metadata": {
    "id": "CWV8jgJ6Rsr8"
   },
   "outputs": [],
   "source": [
    "from tensorflow.keras import backend as K\n",
    "\n",
    "#Luong's attention type1 :\n",
    "\n",
    "class attention_concat(tf.keras.layers.Layer):\n",
    "    def __init__(self):\n",
    "        super().__init__()\n",
    "        self.W1 = tf.keras.layers.Dense(units)\n",
    "        self.W2 = tf.keras.layers.Dense(units)\n",
    "        self.V = tf.keras.layers.Dense(1)\n",
    "    \n",
    "    def call(self,decoder_hidden_state,encoder_output_states):\n",
    "        print('='*50,'attention','='*50)\n",
    "        \n",
    "        decoder_hidden_state = tf.expand_dims(decoder_hidden_state, 1)\n",
    "        # features(encoder_output_states) shape == (batch_size, attention_features_shape, 2048)\n",
    "        #decoder_hidden_state shape == (batch_size,1,units)\n",
    "        print(\"attention shapes {},{} :\".format(encoder_output_states.shape,decoder_hidden_state.shape))\n",
    "        similarities = self.V(tf.nn.tanh(\n",
    "        self.W1(decoder_hidden_state) + self.W2(encoder_output_states)))\n",
    "        print(\"similarities shape:\",similarities.shape)\n",
    "        #similarities shape = (batch_size,attention_features_shape,1)\n",
    "        attention_weights = tf.nn.softmax(similarities, axis=1)#shrinking similarities values between 0-1.\n",
    "        print(\"attention_weights shape:\",attention_weights.shape)\n",
    "\n",
    "        #context_vector shape after sum == (batch_size, hidden_size)\n",
    "        context_vector = attention_weights * encoder_output_states#multiplying these attention_weights with encoder output states to generate featue map of attention reigons.\n",
    "        print(\"initial context shape\",context_vector.shape)\n",
    "        #initial context shape (batch_size, attention_features_shape, 2048)\n",
    "\n",
    "        context_vector = tf.reduce_sum(context_vector, axis=1)#summing them up for passing them to next input.\n",
    "        print(\"final context shape\",context_vector.shape)\n",
    "        #shape after summing over the first axis = (batch_size,2048)\n",
    "        return context_vector, attention_weights"
   ]
  },
  {
   "cell_type": "markdown",
   "metadata": {
    "id": "0TAd2KtdAy5g"
   },
   "source": [
    "### 4.6.4 Luong's General Attention: "
   ]
  },
  {
   "cell_type": "code",
   "execution_count": 144,
   "metadata": {
    "id": "CSWL2eBSpYEM"
   },
   "outputs": [],
   "source": [
    "from tensorflow.keras import backend as K\n",
    "#luong's attention type 2:\n",
    "\n",
    "class attention_general(tf.keras.layers.Layer):\n",
    "    def __init__(self):\n",
    "        super().__init__()\n",
    "        self.W = tf.keras.layers.Dense(units)\n",
    "\n",
    "    def call(self,decoder_hidden_state,encoder_output_states):\n",
    "        # features(encoder_output_states) shape == (batch_size, attention_features_shape, 2048)\n",
    "        #decoder_hidden_state shape == (batch_size,units)\n",
    "\n",
    "        dense_out = self.W(encoder_output_states)\n",
    "        #dense out shape  (batch_size, attention_features_shape, units)\n",
    "        print(\"attention shapes {},{} :\".format(decoder_hidden_state.shape,dense_out.shape))\n",
    "        similarities = tf.keras.layers.Dot(axes=-1)([decoder_hidden_state,dense_out])\n",
    "        print(\"similarities shape:\",similarities.shape)\n",
    "        #similarities shape = (batch_size,attention_features_shape)\n",
    "\n",
    "        attention_weights = tf.nn.softmax(similarities, axis=-1)\n",
    "        attention_weights = tf.expand_dims(attention_weights, -1)\n",
    "        print(\"attention_weights shape:\",attention_weights.shape)\n",
    "        #attention_weighhts shape = (batch_size,attention_features_shape,1)\n",
    "\n",
    "        # context_vector shape after sum == (batch_size, 2048)\n",
    "        context_vector = attention_weights * encoder_output_states\n",
    "        print(\"context shape\",context_vector.shape)\n",
    "\n",
    "        return context_vector, attention_weights"
   ]
  },
  {
   "cell_type": "markdown",
   "metadata": {},
   "source": [
    "### 4.6.5 Decoder "
   ]
  },
  {
   "cell_type": "code",
   "execution_count": 145,
   "metadata": {
    "id": "KJll8fU-nMgl"
   },
   "outputs": [],
   "source": [
    "#decoder is the main part in this model it will take image features and generate prediction for each timestep.\n",
    "class decoder(tf.keras.Model):\n",
    "    def __init__(self,vocab_size,embedding_dim,input_length,dec_units,atten_layer):\n",
    "        super().__init__()\n",
    "        self.vocab_size = vocab_size #1486\n",
    "        self.embedding_dim = embedding_dim #256\n",
    "        self.input_length = input_length #max_length\n",
    "        self.dec_units =dec_units #units\n",
    "        self.dense= tf.keras.layers.Dense(self.vocab_size) #1486\n",
    "        self.attention= atten_layer \n",
    "\n",
    "        self.embedding = Embedding(input_dim = self.vocab_size,output_dim =self.embedding_dim,\n",
    "                             input_length = self.input_length,name = 'decoder_embedding_layer',mask_zero=True)\n",
    "\n",
    "        self.lstm = LSTM(units = self.dec_units,return_state = True,return_sequences = True,name = 'train_decoder_LSTM',dropout=rate,recurrent_dropout=rate)\n",
    "\n",
    "    @tf.function\n",
    "\n",
    "    def one_step_decoder(self,input_to_decoder,decoder_hidden_state,encoder_output_states,decoder_cell_state):\n",
    "\n",
    "        # this function is called at every timestep , it calculates attention,updates hidden and cell state of LSTM .\n",
    "\n",
    "        embed = self.embedding(input_to_decoder)\n",
    "        #embedding shape = (batch_size,vocab_size,embedding_dim)\n",
    "        attn_context,attn_weights = self.attention(decoder_hidden_state,encoder_output_states)\n",
    "        print(\"decoder_embedding shape:\",tf.shape(embed))\n",
    "        attn_context = tf.expand_dims(attn_context, 1)\n",
    "\n",
    "        print(\"attention_context shape:\",attn_context.shape)\n",
    "        concat =tf.keras.layers.Concatenate(axis=-1)([embed,attn_context])\n",
    "        print('shape after concat',concat.shape)\n",
    "        #shape after concat == (batch_size,1,embedding_dim + 2048)\n",
    "        concat = tf.nn.dropout(concat, rate)# using dropout to reduce overfitting\n",
    "\n",
    "        decoder_outputs,decoder_hidden_state,decoder_cell_state = self.lstm(concat,initial_state=[decoder_hidden_state, decoder_cell_state])\n",
    "\n",
    "        decoder_outputs = tf.reshape(decoder_outputs, (-1, decoder_outputs.shape[2]))\n",
    "        output = self.dense(decoder_outputs)\n",
    "        #output shaoe == (batch_size,1,vocab_size)\n",
    "        return output,decoder_hidden_state,attn_weights,decoder_cell_state\n",
    "\n",
    "    def reset_hidden_state(self, batch_size):\n",
    "      #randomly initializing decoder hidden state\n",
    "      return tf.random.normal((batch_size, self.dec_units))\n",
    "\n",
    "    def reset_cell_state(self,batch_size):\n",
    "      #randomly initializing decoder cell state\n",
    "      return tf.random.normal((batch_size,self.dec_units))\n",
    "\n",
    "    def call(self,input_to_decoder,decoder_hidden_state,encoder_output_states, decoder_cell_state):\n",
    "        \n",
    "        all_outputs = tf.TensorArray(tf.float32,size = input_to_decoder.shape[1],name = \"output_arrays\")#storing outputs at every timestep.\n",
    "        for timestep in range(input_to_decoder.shape[1]):\n",
    "            #this loop will update the cell and hidden states of the LSTM the 'decoder_hidden_state' and 'decoder_cell_state' on the right side of '=' are states of lstm at current time step and \n",
    "            #the outputs of these of are passed as inputs in next iteration.\n",
    "            output,decoder_hidden_state,attn_weights,decoder_cell_state=self.one_step_decoder(input_to_decoder[:,timestep:timestep+1],decoder_hidden_state,encoder_output_states, decoder_cell_state)\n",
    "            all_outputs = all_outputs.write(timestep,output)#writing output at every time step\n",
    "        all_outputs = tf.transpose(all_outputs.stack(),[1,0,2])#reshapeing intto (batch_size,max_length,vocab_size)\n",
    "\n",
    "        return all_outputs\n"
   ]
  },
  {
   "cell_type": "markdown",
   "metadata": {},
   "source": [
    "## 4.7 Loss Function and Optimizer"
   ]
  },
  {
   "cell_type": "code",
   "execution_count": 146,
   "metadata": {
    "id": "3S0e8Z6moOQS"
   },
   "outputs": [],
   "source": [
    "import os,datetime\n",
    "\n",
    "optimizer = tf.keras.optimizers.Adam(0.00001)\n",
    "\n",
    "def loss_function(targets, logits):\n",
    "    crossentropy = tf.keras.losses.SparseCategoricalCrossentropy(from_logits=True)#loss function\n",
    "\n",
    "    mask = tf.math.logical_not(tf.math.equal(targets, 0))#detecting mask tokens so that we can ignore them while calculating loss.\n",
    "    mask = tf.cast(mask, dtype=tf.int64)#above output will give us True ,False array so we will convert it into 1's and 0's using this command\n",
    "    loss = crossentropy(targets, logits, sample_weight=mask)#while calculating loss we will pass this mask as weights because\n",
    "                                                            #the mask will contain 1's for only those values which are not padded.\n",
    "    return loss\n"
   ]
  },
  {
   "cell_type": "code",
   "execution_count": 205,
   "metadata": {
    "colab": {
     "base_uri": "https://localhost:8080/",
     "height": 54
    },
    "id": "LHbBMuAQQaIb",
    "outputId": "b37c48cf-9f0d-41de-d318-e57fecfdfcf5"
   },
   "outputs": [
    {
     "name": "stdout",
     "output_type": "stream",
     "text": [
      "length of train dataloader :  495\n",
      "length of validation dataloader :  54\n"
     ]
    }
   ],
   "source": [
    "#length of train and validation dataloader\n",
    "print('length of train dataloader : ',len(train_dataloader))\n",
    "print('length of validation dataloader : ',len(val_dataloader))"
   ]
  },
  {
   "cell_type": "code",
   "execution_count": 206,
   "metadata": {
    "colab": {
     "base_uri": "https://localhost:8080/",
     "height": 54
    },
    "id": "O0GCchRdNglN",
    "outputId": "a2913142-27d0-44ee-ce3b-811cc3e93363"
   },
   "outputs": [
    {
     "name": "stdout",
     "output_type": "stream",
     "text": [
      "steps per epoch for train dataloader :  70\n",
      "steps per epoch for validation dataloader :  7\n"
     ]
    }
   ],
   "source": [
    "steps_per_epoch = int(len(train_dataloader)/BATCH_SIZE)\n",
    "print('steps per epoch for train dataloader : ',steps_per_epoch)\n",
    "steps_per_epoch_val = int(len(val_dataloader)/BATCH_SIZE)\n",
    "print('steps per epoch for validation dataloader : ',steps_per_epoch_val)"
   ]
  },
  {
   "cell_type": "code",
   "execution_count": 149,
   "metadata": {
    "colab": {
     "base_uri": "https://localhost:8080/",
     "height": 55
    },
    "id": "3qNnoRnlcziX",
    "outputId": "4334beab-8e79-410a-eb39-5af24d7e4c41"
   },
   "outputs": [
    {
     "name": "stdout",
     "output_type": "stream",
     "text": [
      "WARNING:tensorflow:Layer train_decoder_LSTM will not use cuDNN kernel since it doesn't meet the cuDNN kernel criteria. It will use generic GPU kernel as fallback when running on GPU\n"
     ]
    }
   ],
   "source": [
    "#initializing encoder and decoder.\n",
    "CNN_Encoder = CNN_Encoder(embedding_dim,image_features_extract_model)\n",
    "decoder = decoder(target_vocab_size, embedding_dim, input_len_dec,units,attention_concat())"
   ]
  },
  {
   "cell_type": "code",
   "execution_count": 150,
   "metadata": {
    "id": "GhcvT7Hdwq1R"
   },
   "outputs": [],
   "source": [
    "#!rm -rf -r /content/Checkpoint"
   ]
  },
  {
   "cell_type": "markdown",
   "metadata": {},
   "source": [
    "## 4.8 Model Checkpoint"
   ]
  },
  {
   "cell_type": "code",
   "execution_count": 151,
   "metadata": {
    "id": "-tDwc6OYqEhe"
   },
   "outputs": [],
   "source": [
    "#creating model checkpoint because we are using custom training.\n",
    "checkpoint_path = \"/content/drive/My Drive/case_study_2/checkpoint\"\n",
    "ckpt = tf.train.Checkpoint(encoder=CNN_Encoder,\n",
    "                           decoder=decoder,\n",
    "                           optimizer = optimizer)\n",
    "ckpt_manager = tf.train.CheckpointManager(ckpt, checkpoint_path, max_to_keep=5)\n"
   ]
  },
  {
   "cell_type": "code",
   "execution_count": 152,
   "metadata": {
    "id": "wIcr9wJbqF6M"
   },
   "outputs": [],
   "source": [
    "# determining start epoch based on latest checkpoint saved.\n",
    "start_epoch = 0\n",
    "if ckpt_manager.latest_checkpoint:\n",
    "  start_epoch = int(ckpt_manager.latest_checkpoint.split('-')[-1])\n",
    "  print(start_epoch)\n",
    "  # restoring the latest checkpoint in checkpoint_path\n",
    "  ckpt.restore(ckpt_manager.latest_checkpoint)"
   ]
  },
  {
   "cell_type": "code",
   "execution_count": 153,
   "metadata": {
    "id": "8Ax8NXUVKJun"
   },
   "outputs": [],
   "source": [
    "#storing loss values for plotting later\n",
    "tr_loss_plot = []\n",
    "val_loss_plot = []"
   ]
  },
  {
   "cell_type": "markdown",
   "metadata": {},
   "source": [
    "## 4.9 Custom Training"
   ]
  },
  {
   "cell_type": "code",
   "execution_count": 154,
   "metadata": {
    "id": "036LwvNEQxxU"
   },
   "outputs": [],
   "source": [
    "@tf.function\n",
    "def train_step(inputs, target):\n",
    "        loss2 = 0\n",
    "        img1,img2,input_text = inputs[0],inputs[1],inputs[2] #seperating inputs\n",
    "\n",
    "        # initializing the hidden state and cell_state for each batch\n",
    "        # because the captions are not related from image to image\n",
    "        hidden = decoder.reset_hidden_state(batch_size=BATCH_SIZE)\n",
    "        cell_state = decoder.reset_cell_state(batch_size=BATCH_SIZE)\n",
    "        \n",
    "        print(\"=\"*20, \"ENCODER\", \"=\"*20)\n",
    "        with tf.GradientTape() as tape:#calculating gradient\n",
    "\n",
    "          encoder_output_1 = CNN_Encoder(img1)#passing 1st image in encoder\n",
    "          encoder_output_2 = CNN_Encoder(img2)#passing second image in encoder\n",
    "          encoder_output = tf.keras.layers.Concatenate(axis=-1)([encoder_output_1,encoder_output_2])#concatenating outputs of both encoders\n",
    "          encoder_output = Dropout(rate)(encoder_output)#dropout\n",
    "          print(\"ENCODER ==> OUTPUT SHAPE\",encoder_output.shape)\n",
    "          #encoder output shape == (batch_size, attention_features_shape,2048)\n",
    "          print(\"=\"*20, \"DECODER\", \"=\"*20)\n",
    "          decoder_output = decoder(input_text,hidden,encoder_output,cell_state)\n",
    "\n",
    "          for i in range(decoder_output.shape[1]):\n",
    "            #calculating batch loss at every tim step and summing it up.\n",
    "            loss2 += loss_function(target[:, i], decoder_output[:,i])\n",
    "            \n",
    "          print(\"FINAL OUTPUT SHAPE\",decoder_output.shape)\n",
    "  \n",
    "        total_loss = loss2/int(decoder_output.shape[1])#dividing the loss with total time steps to get total loss.\n",
    "        trainable_variables = CNN_Encoder.trainable_variables + decoder.trainable_variables #getting trainable variable of both the encoder and decoder.\n",
    "        gradients = tape.gradient(loss2,trainable_variables)#Computes the gradient using operations recorded in context of this tape.\n",
    "        optimizer.apply_gradients(zip(gradients,trainable_variables))# Apply gradients to variables.\n",
    "        return total_loss\n"
   ]
  },
  {
   "cell_type": "code",
   "execution_count": 155,
   "metadata": {
    "id": "-PeDEajl-hs4"
   },
   "outputs": [],
   "source": [
    "#validatoion step performs the same steps as train_Step but without dropout and without calculating gradients, it is used just to predict loss on unseen data.\n",
    "@tf.function\n",
    "def validation_step(inputs, target):\n",
    "        loss2 = 0\n",
    "        img1,img2,input_text = inputs[0],inputs[1],inputs[2]\n",
    "\n",
    "        hidden = decoder.reset_hidden_state(batch_size=BATCH_SIZE)\n",
    "        cell_state = decoder.reset_cell_state(batch_size=BATCH_SIZE)\n",
    "        \n",
    "        encoder_output_1 = CNN_Encoder(img1)\n",
    "        encoder_output_2 = CNN_Encoder(img2)\n",
    "        encoder_output = tf.keras.layers.Concatenate(axis=-1)([encoder_output_1,encoder_output_2])\n",
    "          \n",
    "        decoder_output = decoder(input_text,hidden,encoder_output,cell_state)\n",
    "        for i in range(decoder_output.shape[1]):\n",
    "            loss2 += loss_function(target[:, i], decoder_output[:,i])\n",
    "        total_loss = loss2/int(target.shape[1])\n",
    "        return  total_loss\n"
   ]
  },
  {
   "cell_type": "code",
   "execution_count": 156,
   "metadata": {
    "colab": {
     "base_uri": "https://localhost:8080/",
     "height": 1000
    },
    "id": "eXm3Sm3O_dvZ",
    "outputId": "279ce3e6-d469-4be8-f538-b879fc163f71"
   },
   "outputs": [
    {
     "name": "stdout",
     "output_type": "stream",
     "text": [
      "==================== ENCODER ====================\n",
      "ENCODER ==> OUTPUT SHAPE (7, 49, 2048)\n",
      "==================== DECODER ====================\n",
      "================================================== attention ==================================================\n",
      "Tensor(\"attention_concat/ExpandDims:0\", shape=(7, 1, 512), dtype=float32)\n",
      "attention shapes (7, 49, 2048),(7, 1, 512) :\n",
      "similarities shape: (7, 49, 1)\n",
      "attention_weights shape: (7, 49, 1)\n",
      "initial context shape (7, 49, 2048)\n",
      "final context shape (7, 2048)\n",
      "decoder_embedding shape: Tensor(\"Shape:0\", shape=(3,), dtype=int32)\n",
      "attention_context shape: (7, 1, 2048)\n",
      "shape after concat (7, 1, 2304)\n",
      "(7, 512) (7, 512)\n",
      "================================================== attention ==================================================\n",
      "Tensor(\"attention_concat/ExpandDims:0\", shape=(7, 1, 512), dtype=float32)\n",
      "attention shapes (7, 49, 2048),(7, 1, 512) :\n",
      "similarities shape: (7, 49, 1)\n",
      "attention_weights shape: (7, 49, 1)\n",
      "initial context shape (7, 49, 2048)\n",
      "final context shape (7, 2048)\n",
      "decoder_embedding shape: Tensor(\"Shape:0\", shape=(3,), dtype=int32)\n",
      "attention_context shape: (7, 1, 2048)\n",
      "shape after concat (7, 1, 2304)\n",
      "(7, 512) (7, 512)\n",
      "FINAL OUTPUT SHAPE (7, 123, 1486)\n",
      "==================== ENCODER ====================\n",
      "ENCODER ==> OUTPUT SHAPE (7, 49, 2048)\n",
      "==================== DECODER ====================\n",
      "FINAL OUTPUT SHAPE (7, 123, 1486)\n",
      "Epoch 1 batch 0 loss 0.7399\n",
      "Epoch 1 batch 23 loss 0.6828\n",
      "Epoch 1 batch 46 loss 0.4002\n",
      "Epoch 1 batch 69 loss 0.4925\n",
      "Epoch 1 Loss 0.642032 val_Loss 0.557420\n",
      "Time taken for 1 epoch 217.89571070671082 sec\n",
      "\n",
      "Epoch 2 batch 0 loss 0.6824\n",
      "Epoch 2 batch 23 loss 0.6171\n",
      "Epoch 2 batch 46 loss 0.3478\n",
      "Epoch 2 batch 69 loss 0.4503\n",
      "Epoch 2 Loss 0.585244 val_Loss 0.511624\n",
      "Time taken for 1 epoch 112.79011392593384 sec\n",
      "\n",
      "Epoch 3 batch 0 loss 0.6404\n",
      "Epoch 3 batch 23 loss 0.5733\n",
      "Epoch 3 batch 46 loss 0.3197\n",
      "Epoch 3 batch 69 loss 0.4229\n",
      "Epoch 3 Loss 0.549486 val_Loss 0.482062\n",
      "Time taken for 1 epoch 113.42280673980713 sec\n",
      "\n",
      "Epoch 4 batch 0 loss 0.6142\n",
      "Epoch 4 batch 23 loss 0.5446\n",
      "Epoch 4 batch 46 loss 0.3003\n",
      "Epoch 4 batch 69 loss 0.4045\n",
      "Epoch 4 Loss 0.525508 val_Loss 0.462615\n",
      "Time taken for 1 epoch 112.53309226036072 sec\n",
      "\n",
      "Epoch 5 batch 0 loss 0.5959\n",
      "Epoch 5 batch 23 loss 0.5254\n",
      "Epoch 5 batch 46 loss 0.2880\n",
      "Epoch 5 batch 69 loss 0.3918\n",
      "Epoch 5 Loss 0.509468 val_Loss 0.449865\n",
      "Time taken for 1 epoch 112.92834377288818 sec\n",
      "\n",
      "Epoch 6 batch 0 loss 0.5816\n",
      "Epoch 6 batch 23 loss 0.5096\n",
      "Epoch 6 batch 46 loss 0.2785\n",
      "Epoch 6 batch 69 loss 0.3813\n",
      "Epoch 6 Loss 0.497455 val_Loss 0.439923\n",
      "Time taken for 1 epoch 113.26151394844055 sec\n",
      "\n",
      "Epoch 7 batch 0 loss 0.5750\n",
      "Epoch 7 batch 23 loss 0.4993\n",
      "Epoch 7 batch 46 loss 0.2721\n",
      "Epoch 7 batch 69 loss 0.3750\n",
      "Epoch 7 Loss 0.488211 val_Loss 0.431838\n",
      "Time taken for 1 epoch 112.52667427062988 sec\n",
      "\n",
      "Epoch 8 batch 0 loss 0.5687\n",
      "Epoch 8 batch 23 loss 0.4915\n",
      "Epoch 8 batch 46 loss 0.2696\n",
      "Epoch 8 batch 69 loss 0.3693\n",
      "Epoch 8 Loss 0.480725 val_Loss 0.424944\n",
      "Time taken for 1 epoch 112.16953420639038 sec\n",
      "\n",
      "Epoch 9 batch 0 loss 0.5646\n",
      "Epoch 9 batch 23 loss 0.4797\n",
      "Epoch 9 batch 46 loss 0.2629\n",
      "Epoch 9 batch 69 loss 0.3623\n",
      "Epoch 9 Loss 0.474615 val_Loss 0.420617\n",
      "Time taken for 1 epoch 112.71247291564941 sec\n",
      "\n",
      "Epoch 10 batch 0 loss 0.5578\n",
      "Epoch 10 batch 23 loss 0.4761\n",
      "Epoch 10 batch 46 loss 0.2582\n",
      "Epoch 10 batch 69 loss 0.3551\n",
      "Epoch 10 Loss 0.469332 val_Loss 0.415542\n",
      "Time taken for 1 epoch 112.3783802986145 sec\n",
      "\n",
      "Epoch 11 batch 0 loss 0.5495\n",
      "Epoch 11 batch 23 loss 0.4730\n",
      "Epoch 11 batch 46 loss 0.2574\n",
      "Epoch 11 batch 69 loss 0.3538\n",
      "Epoch 11 Loss 0.464919 val_Loss 0.411469\n",
      "Time taken for 1 epoch 113.27892112731934 sec\n",
      "\n",
      "Epoch 12 batch 0 loss 0.5478\n",
      "Epoch 12 batch 23 loss 0.4673\n",
      "Epoch 12 batch 46 loss 0.2544\n",
      "Epoch 12 batch 69 loss 0.3494\n",
      "Epoch 12 Loss 0.461339 val_Loss 0.407857\n",
      "Time taken for 1 epoch 112.26357936859131 sec\n",
      "\n",
      "Epoch 13 batch 0 loss 0.5451\n",
      "Epoch 13 batch 23 loss 0.4636\n",
      "Epoch 13 batch 46 loss 0.2499\n",
      "Epoch 13 batch 69 loss 0.3467\n",
      "Epoch 13 Loss 0.457947 val_Loss 0.405693\n",
      "Time taken for 1 epoch 112.62867665290833 sec\n",
      "\n",
      "Epoch 14 batch 0 loss 0.5440\n",
      "Epoch 14 batch 23 loss 0.4577\n",
      "Epoch 14 batch 46 loss 0.2489\n",
      "Epoch 14 batch 69 loss 0.3445\n",
      "Epoch 14 Loss 0.455325 val_Loss 0.403787\n",
      "Time taken for 1 epoch 113.71763110160828 sec\n",
      "\n",
      "Epoch 15 batch 0 loss 0.5405\n",
      "Epoch 15 batch 23 loss 0.4551\n",
      "Epoch 15 batch 46 loss 0.2468\n",
      "Epoch 15 batch 69 loss 0.3415\n",
      "Epoch 15 Loss 0.452913 val_Loss 0.400609\n",
      "Time taken for 1 epoch 114.04616856575012 sec\n",
      "\n",
      "Epoch 16 batch 0 loss 0.5388\n",
      "Epoch 16 batch 23 loss 0.4513\n",
      "Epoch 16 batch 46 loss 0.2446\n",
      "Epoch 16 batch 69 loss 0.3414\n",
      "Epoch 16 Loss 0.450415 val_Loss 0.399131\n",
      "Time taken for 1 epoch 113.89366817474365 sec\n",
      "\n",
      "Epoch 17 batch 0 loss 0.5344\n",
      "Epoch 17 batch 23 loss 0.4518\n",
      "Epoch 17 batch 46 loss 0.2410\n",
      "Epoch 17 batch 69 loss 0.3393\n",
      "Epoch 17 Loss 0.449091 val_Loss 0.397370\n",
      "Time taken for 1 epoch 113.17099404335022 sec\n",
      "\n",
      "Epoch 18 batch 0 loss 0.5322\n",
      "Epoch 18 batch 23 loss 0.4488\n",
      "Epoch 18 batch 46 loss 0.2412\n",
      "Epoch 18 batch 69 loss 0.3369\n",
      "Epoch 18 Loss 0.447399 val_Loss 0.395111\n",
      "Time taken for 1 epoch 112.71352863311768 sec\n",
      "\n",
      "Epoch 19 batch 0 loss 0.5338\n",
      "Epoch 19 batch 23 loss 0.4466\n",
      "Epoch 19 batch 46 loss 0.2417\n",
      "Epoch 19 batch 69 loss 0.3328\n",
      "Epoch 19 Loss 0.445790 val_Loss 0.394529\n",
      "Time taken for 1 epoch 112.86571311950684 sec\n",
      "\n",
      "Epoch 20 batch 0 loss 0.5291\n",
      "Epoch 20 batch 23 loss 0.4464\n",
      "Epoch 20 batch 46 loss 0.2392\n",
      "Epoch 20 batch 69 loss 0.3349\n",
      "Epoch 20 Loss 0.444172 val_Loss 0.393788\n",
      "Time taken for 1 epoch 113.155282497406 sec\n",
      "\n",
      "Epoch 21 batch 0 loss 0.5292\n",
      "Epoch 21 batch 23 loss 0.4459\n",
      "Epoch 21 batch 46 loss 0.2418\n",
      "Epoch 21 batch 69 loss 0.3319\n",
      "Epoch 21 Loss 0.443443 val_Loss 0.391837\n",
      "Time taken for 1 epoch 113.61511325836182 sec\n",
      "\n",
      "Epoch 22 batch 0 loss 0.5273\n",
      "Epoch 22 batch 23 loss 0.4438\n",
      "Epoch 22 batch 46 loss 0.2385\n",
      "Epoch 22 batch 69 loss 0.3333\n",
      "Epoch 22 Loss 0.442173 val_Loss 0.391354\n",
      "Time taken for 1 epoch 112.47574853897095 sec\n",
      "\n",
      "Epoch 23 batch 0 loss 0.5255\n",
      "Epoch 23 batch 23 loss 0.4407\n",
      "Epoch 23 batch 46 loss 0.2368\n",
      "Epoch 23 batch 69 loss 0.3294\n",
      "Epoch 23 Loss 0.440721 val_Loss 0.390699\n",
      "Time taken for 1 epoch 112.36650800704956 sec\n",
      "\n",
      "Epoch 24 batch 0 loss 0.5240\n",
      "Epoch 24 batch 23 loss 0.4429\n",
      "Epoch 24 batch 46 loss 0.2389\n",
      "Epoch 24 batch 69 loss 0.3308\n",
      "Epoch 24 Loss 0.439941 val_Loss 0.390132\n",
      "Time taken for 1 epoch 113.27413249015808 sec\n",
      "\n",
      "Epoch 25 batch 0 loss 0.5220\n",
      "Epoch 25 batch 23 loss 0.4412\n",
      "Epoch 25 batch 46 loss 0.2351\n",
      "Epoch 25 batch 69 loss 0.3292\n",
      "Epoch 25 Loss 0.438844 val_Loss 0.389193\n",
      "Time taken for 1 epoch 112.00620913505554 sec\n",
      "\n",
      "Epoch 26 batch 0 loss 0.5193\n",
      "Epoch 26 batch 23 loss 0.4405\n",
      "Epoch 26 batch 46 loss 0.2377\n",
      "Epoch 26 batch 69 loss 0.3280\n",
      "Epoch 26 Loss 0.438063 val_Loss 0.389090\n",
      "Time taken for 1 epoch 112.44405317306519 sec\n",
      "\n",
      "Epoch 27 batch 0 loss 0.5208\n",
      "Epoch 27 batch 23 loss 0.4388\n",
      "Epoch 27 batch 46 loss 0.2365\n",
      "Epoch 27 batch 69 loss 0.3271\n",
      "Epoch 27 Loss 0.437518 val_Loss 0.388400\n",
      "Time taken for 1 epoch 112.49250316619873 sec\n",
      "\n",
      "Epoch 28 batch 0 loss 0.5201\n",
      "Epoch 28 batch 23 loss 0.4395\n",
      "Epoch 28 batch 46 loss 0.2347\n",
      "Epoch 28 batch 69 loss 0.3283\n",
      "Epoch 28 Loss 0.436361 val_Loss 0.387428\n",
      "Time taken for 1 epoch 112.86984848976135 sec\n",
      "\n",
      "Epoch 29 batch 0 loss 0.5192\n",
      "Epoch 29 batch 23 loss 0.4360\n",
      "Epoch 29 batch 46 loss 0.2365\n",
      "Epoch 29 batch 69 loss 0.3262\n",
      "Epoch 29 Loss 0.435995 val_Loss 0.386646\n",
      "Time taken for 1 epoch 113.07509803771973 sec\n",
      "\n",
      "Epoch 30 batch 0 loss 0.5181\n",
      "Epoch 30 batch 23 loss 0.4369\n",
      "Epoch 30 batch 46 loss 0.2357\n",
      "Epoch 30 batch 69 loss 0.3253\n",
      "Epoch 30 Loss 0.434778 val_Loss 0.386960\n",
      "Time taken for 1 epoch 114.47582411766052 sec\n",
      "\n",
      "Epoch 31 batch 0 loss 0.5165\n",
      "Epoch 31 batch 23 loss 0.4344\n",
      "Epoch 31 batch 46 loss 0.2318\n",
      "Epoch 31 batch 69 loss 0.3250\n",
      "Epoch 31 Loss 0.434164 val_Loss 0.386817\n",
      "Time taken for 1 epoch 114.17380809783936 sec\n",
      "\n",
      "decreasing learning rate from 0.000010 to 0.000001 :\n",
      "Epoch 32 batch 0 loss 0.5157\n",
      "Epoch 32 batch 23 loss 0.4368\n",
      "Epoch 32 batch 46 loss 0.2318\n",
      "Epoch 32 batch 69 loss 0.3250\n",
      "Epoch 32 Loss 0.433464 val_Loss 0.386289\n",
      "Time taken for 1 epoch 113.47918653488159 sec\n",
      "\n",
      "Epoch 33 batch 0 loss 0.5174\n",
      "Epoch 33 batch 23 loss 0.4367\n",
      "Epoch 33 batch 46 loss 0.2306\n",
      "Epoch 33 batch 69 loss 0.3262\n",
      "Epoch 33 Loss 0.433450 val_Loss 0.386834\n",
      "Time taken for 1 epoch 112.03699803352356 sec\n",
      "\n",
      "decreasing learning rate from 0.000001 to 0.000000 :\n",
      "Epoch 34 batch 0 loss 0.5144\n",
      "Epoch 34 batch 23 loss 0.4365\n",
      "Epoch 34 batch 46 loss 0.2318\n",
      "Epoch 34 batch 69 loss 0.3272\n",
      "Epoch 34 Loss 0.433114 val_Loss 0.387015\n",
      "Time taken for 1 epoch 112.35937666893005 sec\n",
      "\n",
      "decreasing learning rate from 0.000000 to 0.000000 :\n",
      "stopping due to no change in validation loss\n"
     ]
    }
   ],
   "source": [
    "#custom training\n",
    "import os,time\n",
    "EPOCHS = 40\n",
    "\n",
    "for epoch in range(start_epoch,EPOCHS):\n",
    "  start = time.time()\n",
    "  total_loss = 0\n",
    "  total_loss_val = 0\n",
    "  for (batch,(inputs,target)) in (enumerate(train_dataloader)):\n",
    "      t_loss = train_step(inputs,target)#calculating loss per batch\n",
    "      total_loss+=t_loss#adding batch loss to total loss variable\n",
    "      if batch % int(steps_per_epoch/3) ==0:\n",
    "        print('Epoch {} batch {} loss {:.4f}'.format(epoch+1,batch,t_loss.numpy()))\n",
    "      if batch >= steps_per_epoch:  # manually detect the end of the epoch\n",
    "           break  \n",
    "\n",
    "  for (batch,(inputs,target)) in (enumerate(val_dataloader)):\n",
    "    t_loss = validation_step(inputs,target)# calculating validation loss\n",
    "    total_loss_val+=t_loss\n",
    "     \n",
    "    if batch >= steps_per_epoch_val:  # manually detect the end of the epoch\n",
    "           break  \n",
    "  #appending total loss value in the list for plotting\n",
    "  tr_loss_plot.append((total_loss/steps_per_epoch).numpy())\n",
    "  val_loss_plot.append((total_loss_val/steps_per_epoch_val).numpy())\n",
    "  if epoch % 1 == 0:\n",
    "    ckpt_manager.save()#saving model after every epoch\n",
    "    \n",
    "  train_dataloader.on_epoch_end()#shuffling train indeces\n",
    "  val_dataloader.on_epoch_end()#shuffling validation indeces\n",
    "\n",
    "  print ('Epoch {} Loss {:.6f} val_Loss {:.6f}'.format(epoch + 1,\n",
    "                                         total_loss/steps_per_epoch,total_loss_val/steps_per_epoch_val))\n",
    "  print ('Time taken for 1 epoch {} sec\\n'.format(time.time() - start))\n",
    "  \n",
    "  if (len(val_loss_plot)>3) and val_loss_plot[-1] > np.asarray(val_loss_plot[-3]):\n",
    "    #custom learning rate reducer, reduces lr if loss doesent change for last 3 epochs\n",
    "    new_learning_rate = 0.1*optimizer.lr.numpy()\n",
    "    print('decreasing learning rate from {:.7f} to {:.7f} :'.format(optimizer.lr.numpy(),new_learning_rate))\n",
    "    optimizer.lr.assign(new_learning_rate)\n",
    "\n",
    "  if (len(val_loss_plot)>6) and val_loss_plot[-1] > np.asarray(val_loss_plot[-6]):\n",
    "    #stopping if there is no chamge in validation loss for 6 epochs.\n",
    "    print('stopping due to no change in validation loss')\n",
    "    break\n"
   ]
  },
  {
   "cell_type": "markdown",
   "metadata": {},
   "source": [
    "### 4.10 Plotting losses"
   ]
  },
  {
   "cell_type": "code",
   "execution_count": 157,
   "metadata": {
    "colab": {
     "base_uri": "https://localhost:8080/",
     "height": 350
    },
    "id": "zNkV0vrU-NwP",
    "outputId": "057fcf68-164e-45f6-e41e-ac9511028948"
   },
   "outputs": [
    {
     "data": {
      "image/png": "[encoded data removed]",
      "text/plain": [
       "<Figure size 720x360 with 1 Axes>"
      ]
     },
     "metadata": {
      "needs_background": "light",
      "tags": []
     },
     "output_type": "display_data"
    }
   ],
   "source": [
    "#plotting losses\n",
    "plt.figure(figsize = (10,5))\n",
    "plt.plot(tr_loss_plot,label='train_loss')\n",
    "plt.plot(val_loss_plot,label = 'val_loss')\n",
    "plt.legend()\n",
    "plt.grid()\n",
    "plt.xlabel('Epochs')\n",
    "plt.ylabel('Loss')\n",
    "plt.title('Loss Plot')\n",
    "plt.show()"
   ]
  },
  {
   "cell_type": "markdown",
   "metadata": {},
   "source": [
    "### 4.11 model Evaluation"
   ]
  },
  {
   "cell_type": "code",
   "execution_count": 184,
   "metadata": {
    "id": "Hf_VCS0JqfUc"
   },
   "outputs": [],
   "source": [
    "#The evaluate function is similar to the training loop, except you don't use teacher forcing here. \n",
    "#The input to the decoder at each time step is its previous predictions along with the hidden state and the encoder output.\n",
    "def evaluate(image_path,capin):\n",
    "    attention_plot = np.zeros((input_len_dec, attention_features_shape))\n",
    "    encoder_output_1 = CNN_Encoder(image_path[0])\n",
    "    encoder_output_2 = CNN_Encoder(image_path[1])\n",
    "    encoder_output = tf.keras.layers.Concatenate(axis=-1)([encoder_output_1,encoder_output_2])\n",
    "    hidden = decoder.reset_hidden_state(batch_size=1)\n",
    "    cell_state = decoder.reset_cell_state(batch_size=1)\n",
    "    dec_input = tf.expand_dims([tokenizer.word_index['<start>']], 0)\n",
    "    result = []\n",
    "    for i in range(input_len_dec):\n",
    "\n",
    "        predictions,hidden,attention_weights,cell_state=decoder.one_step_decoder(dec_input,hidden,encoder_output, cell_state)#calling one step decoder function inside decoder.\n",
    "        attention_plot[i] = tf.reshape(attention_weights, (-1, )).numpy()\n",
    "\n",
    "        predicted_id = tf.random.categorical(predictions, 1)[0][0].numpy()# Draws samples from a categorical distribution.\n",
    "        result.append(tokenizer.index_word[predicted_id])\n",
    "\n",
    "        if tokenizer.index_word[predicted_id] == '<end>':#if prediction is <end> token then breaking the loop\n",
    "            attention_plot = attention_plot[:len(result), :]\n",
    "\n",
    "            return result, attention_plot\n",
    "\n",
    "        dec_input = tf.expand_dims([predicted_id], 0)#reshaping input to decoder for feeding it again\n",
    "    attention_plot = attention_plot[:len(result), :]#slicing\n",
    "\n",
    "    return result, attention_plot"
   ]
  },
  {
   "cell_type": "code",
   "execution_count": 185,
   "metadata": {
    "id": "VagdqPgoEEnA"
   },
   "outputs": [],
   "source": [
    "from google.colab.patches import cv2_imshow\n",
    "from PIL import Image\n",
    "\n",
    "def get_concat_h(im1, im2):\n",
    "    #function for concatenating two images side by side.\n",
    "    dst = Image.new('RGB', (im1.width + im2.width, im1.height))\n",
    "    dst.paste(im1, (0, 0))\n",
    "    dst.paste(im2, (im1.width, 0))\n",
    "    return dst\n",
    "\n",
    "def plot_attention(image, result, attention_plot):\n",
    "    #plotting attention\n",
    "    temp_image1 = Image.open(image[0])\n",
    "    temp_image2 = Image.open(image[1])\n",
    "\n",
    "    img = get_concat_h(temp_image1, temp_image2)#concatening images side by side.\n",
    "    \n",
    "    fig = plt.figure(figsize=(20, 20))\n",
    "\n",
    "    len_result = len(result)\n",
    "    for l in range(len_result):\n",
    "        temp_att = np.resize(attention_plot[l], (7, 7))#resizing attention plot to 7,7 because our attention weight shape was 49.\n",
    "        ax = fig.add_subplot(len_result//2+1, len_result//2+1, l+1)#adding subplots\n",
    "        ax.set_title(result[l])#setting predicted word as the title of subplot.\n",
    "        img1 = ax.imshow(img)#showing concatenated images.\n",
    "        ax.imshow(temp_att, cmap='Greys', alpha=0.6, extent=img1.get_extent())#plotting attention weights over that image\n",
    "    plt.tight_layout()\n",
    "    plt.show()\n"
   ]
  },
  {
   "cell_type": "code",
   "execution_count": 186,
   "metadata": {
    "id": "u-BIkUqvpcFy"
   },
   "outputs": [],
   "source": [
    "#removing <start> and <end> tokens from sentence\n",
    "def remove_tok(sentence):\n",
    "  clean_sent = ''\n",
    "  for i in sentence.split():\n",
    "      if i == \"<start>\" or i == \"<end>\":\n",
    "        continue\n",
    "      else:\n",
    "        clean_sent+= \"\".join(i+\" \")\n",
    "  return clean_sent.strip()"
   ]
  },
  {
   "cell_type": "code",
   "execution_count": 187,
   "metadata": {
    "id": "caqgXi6tpMR_"
   },
   "outputs": [],
   "source": [
    "import warnings\n",
    "warnings.filterwarnings('ignore')\n",
    "\n",
    "import nltk.translate.bleu_score as bleu\n",
    "def bleau_score(sentence,result):\n",
    "\n",
    "  reference = remove_tok(sentence) # the original\n",
    "  translation = remove_tok(result) # trasilated using model\n",
    "  print('BLEU score: {}'.format(bleu.sentence_bleu([reference.split()], translation.split())))\n",
    "  # cumulative BLEU scores\n",
    "\n",
    "  # NOTE: \n",
    "  #sentence_bleu takes list of list of tokens for reference sentence and list of token as translation sentence\n",
    "\n",
    "  print('Cumulative 1-gram: %f' % bleu.sentence_bleu([reference.split()], translation.split(), weights=(1, 0, 0, 0)))\n",
    "  print('Cumulative 2-gram: %f' % bleu.sentence_bleu([reference.split()], translation.split(), weights=(0.5, 0.5, 0, 0)))\n",
    "  print('Cumulative 3-gram: %f' % bleu.sentence_bleu([reference.split()], translation.split(), weights=(0.33, 0.33, 0.33, 0)))\n",
    "  print('Cumulative 4-gram: %f' % bleu.sentence_bleu([reference.split()], translation.split(), weights=(0.25, 0.25, 0.25, 0.25)))"
   ]
  },
  {
   "cell_type": "code",
   "execution_count": 188,
   "metadata": {
    "id": "wgrbonjcL3qq"
   },
   "outputs": [],
   "source": [
    "import warnings\n",
    "warnings.filterwarnings('ignore')\n",
    "\n",
    "import nltk.translate.bleu_score as bleu\n",
    "def bleau_score_wrong(sentence,result):\n",
    "  #NOTE:\n",
    "  #this is the wrong implementation of bleu score that i was using earlier.\n",
    "\n",
    "  reference = remove_tok(sentence) # the original\n",
    "  translation = remove_tok(result) # trasilated using model\n",
    "  print('BLEU score: {}'.format(bleu.sentence_bleu(reference, translation)))\n",
    "  # cumulative BLEU scores\n",
    "\n",
    "  print('Cumulative 1-gram: %f' % bleu.sentence_bleu(reference, translation ,weights=(1, 0, 0, 0)))\n",
    "  print('Cumulative 2-gram: %f' % bleu.sentence_bleu(reference, translation ,weights=(0.5, 0.5, 0, 0)))\n",
    "  print('Cumulative 3-gram: %f' % bleu.sentence_bleu(reference, translation ,weights=(0.33, 0.33, 0.33, 0)))\n",
    "  print('Cumulative 4-gram: %f' % bleu.sentence_bleu(reference, translation ,weights=(0.25, 0.25, 0.25, 0.25)))"
   ]
  },
  {
   "cell_type": "code",
   "execution_count": 189,
   "metadata": {
    "colab": {
     "base_uri": "https://localhost:8080/",
     "height": 109
    },
    "id": "F9YEK_7WK5Bv",
    "outputId": "484f6c75-d2e3-4579-c147-eb00825fd3f2"
   },
   "outputs": [
    {
     "name": "stdout",
     "output_type": "stream",
     "text": [
      "BLEU score: 0.7598356856515925\n",
      "Cumulative 1-gram: 0.666667\n",
      "Cumulative 2-gram: 0.577350\n",
      "Cumulative 3-gram: 0.695905\n",
      "Cumulative 4-gram: 0.759836\n"
     ]
    }
   ],
   "source": [
    "bleau_score('i am sezaz','i am ramana')"
   ]
  },
  {
   "cell_type": "code",
   "execution_count": 192,
   "metadata": {
    "id": "HvUdu8YvjMm7"
   },
   "outputs": [],
   "source": [
    "#this function loads the images and preprocesses them and then add batch dimension at 0 axis for evalueate unction.\n",
    "def load_img(image_path):\n",
    "    img1,path1 = preprocess_img(image_path[0],training = False)\n",
    "    img2,path2 = preprocess_img(image_path[1],training = False)\n",
    "    img1 = tf.expand_dims(img1, axis=0)\n",
    "    img2 = tf.expand_dims(img2, axis=0)\n",
    "    \n",
    "    return (img1,img2)"
   ]
  },
  {
   "cell_type": "markdown",
   "metadata": {},
   "source": [
    "### 4.12 Model Predictions"
   ]
  },
  {
   "cell_type": "code",
   "execution_count": 193,
   "metadata": {
    "colab": {
     "base_uri": "https://localhost:8080/",
     "height": 419
    },
    "id": "lUD22wdtEFd2",
    "outputId": "56f16180-b8c4-4834-a710-ffb8d71b3aff"
   },
   "outputs": [
    {
     "name": "stdout",
     "output_type": "stream",
     "text": [
      "Real Caption: no acute cardiopulmonary findings chronic changes of emphysema and left basilar scarring\n",
      "Prediction Caption: no hypoinflation minimal acute recommended lungs a left are identified no cannot <end>\n",
      "BLEU score: 0.7071067811865476\n",
      "Cumulative 1-gram: 0.250000\n",
      "Cumulative 2-gram: 0.500000\n",
      "Cumulative 3-gram: 0.632878\n",
      "Cumulative 4-gram: 0.707107\n"
     ]
    },
    {
     "data": {
      "image/png": "[encoded data removed]",
      "text/plain": [
       "<Figure size 1440x1440 with 13 Axes>"
      ]
     },
     "metadata": {
      "needs_background": "light",
      "tags": []
     },
     "output_type": "display_data"
    }
   ],
   "source": [
    "# captions on the validation set\n",
    "rid = np.random.randint(0, len(img_name_test))#generating random datapoint from test dataset.\n",
    "image = load_img( img_name_test[rid])#loading and preprocessing image\n",
    "\n",
    "result, attention_plot = evaluate(image,target_test_inp[rid])#generating caption\n",
    "rc = []\n",
    "\n",
    "for i in target_test_out[rid]:\n",
    "  if tokenizer.index_word[i] == '<end>':\n",
    "    break\n",
    "  else:\n",
    "    rc.append(tokenizer.index_word[i])\n",
    "\n",
    "\n",
    "print ('Real Caption:', ' '.join(rc))\n",
    "print ('Prediction Caption:', ' '.join(result))\n",
    "bleau_score(' '.join(rc), ' '.join(result))#calculating cumulative bleu score.\n",
    "plot_attention(img_name_test[rid], result, attention_plot)#plotting attention\n"
   ]
  },
  {
   "cell_type": "code",
   "execution_count": 194,
   "metadata": {
    "colab": {
     "base_uri": "https://localhost:8080/",
     "height": 364
    },
    "id": "JIETTmqIU4ed",
    "outputId": "1fed8394-a3bf-453f-9f39-66acb98441d0"
   },
   "outputs": [
    {
     "name": "stdout",
     "output_type": "stream",
     "text": [
      "Real Caption: status post mediastinal surgery cardiomegaly atherosclerotic disease of the thoracic aorta lung volumes are reduced suspicion for at bilateral pleural effusions no acute airspace disease no pulmonary edema\n",
      "Prediction Caption: evidence volumes pattern left cardiopulmonary these obliquely difficult right further recent silhouette visualized interstitial radiation may abnormalities <end>\n",
      "BLEU score: 0.2578538932915104\n",
      "Cumulative 1-gram: 0.030799\n",
      "Cumulative 2-gram: 0.126988\n",
      "Cumulative 3-gram: 0.205560\n",
      "Cumulative 4-gram: 0.257854\n"
     ]
    },
    {
     "data": {
      "image/png": "[encoded data removed]",
      "text/plain": [
       "<Figure size 1440x1440 with 18 Axes>"
      ]
     },
     "metadata": {
      "needs_background": "light",
      "tags": []
     },
     "output_type": "display_data"
    }
   ],
   "source": [
    "# captions on the validation set\n",
    "rid = np.random.randint(0, len(img_name_test))#generating random datapoint from test dataset.\n",
    "image = load_img( img_name_test[rid])#loading and preprocessing image\n",
    "\n",
    "result, attention_plot = evaluate(image,target_test_inp[rid])#generating caption\n",
    "rc = []\n",
    "\n",
    "for i in target_test_out[rid]:\n",
    "  if tokenizer.index_word[i] == '<end>':\n",
    "    break\n",
    "  else:\n",
    "    rc.append(tokenizer.index_word[i])\n",
    "\n",
    "\n",
    "print ('Real Caption:', ' '.join(rc))\n",
    "print ('Prediction Caption:', ' '.join(result))\n",
    "bleau_score(' '.join(rc), ' '.join(result))#calculating cumulative bleu score.\n",
    "plot_attention(img_name_test[rid], result, attention_plot)#plotting attention\n"
   ]
  },
  {
   "cell_type": "code",
   "execution_count": 195,
   "metadata": {
    "colab": {
     "base_uri": "https://localhost:8080/",
     "height": 520
    },
    "id": "jX6Uglm6pPbv",
    "outputId": "f6c3e2a4-722e-4347-d9c7-48ca53447eb6"
   },
   "outputs": [
    {
     "name": "stdout",
     "output_type": "stream",
     "text": [
      "Real Caption: no acute findings\n",
      "Prediction Caption: no evidence have right nodules of chest <end>\n",
      "BLEU score: 0.6147881529512643\n",
      "Cumulative 1-gram: 0.142857\n",
      "Cumulative 2-gram: 0.377964\n",
      "Cumulative 3-gram: 0.526160\n",
      "Cumulative 4-gram: 0.614788\n"
     ]
    },
    {
     "data": {
      "image/png": "[encoded data removed]",
      "text/plain": [
       "<Figure size 1440x1440 with 8 Axes>"
      ]
     },
     "metadata": {
      "needs_background": "light",
      "tags": []
     },
     "output_type": "display_data"
    }
   ],
   "source": [
    "# captions on the validation set\n",
    "rid = np.random.randint(0, len(img_name_test))#generating random datapoint from test dataset.\n",
    "image = load_img( img_name_test[rid])#loading and preprocessing image\n",
    "\n",
    "result, attention_plot = evaluate(image,target_test_inp[rid])#generating caption\n",
    "rc = []\n",
    "\n",
    "for i in target_test_out[rid]:\n",
    "  if tokenizer.index_word[i] == '<end>':\n",
    "    break\n",
    "  else:\n",
    "    rc.append(tokenizer.index_word[i])\n",
    "\n",
    "\n",
    "print ('Real Caption:', ' '.join(rc))\n",
    "print ('Prediction Caption:', ' '.join(result))\n",
    "bleau_score(' '.join(rc), ' '.join(result))#calculating cumulative bleu score.\n",
    "plot_attention(img_name_test[rid], result, attention_plot)#plotting attention\n"
   ]
  },
  {
   "cell_type": "code",
   "execution_count": 196,
   "metadata": {
    "colab": {
     "base_uri": "https://localhost:8080/",
     "height": 446
    },
    "id": "sJ0fz3DoI4yE",
    "outputId": "0d9e35b4-734c-4c86-9bf8-b546a95ddbf2"
   },
   "outputs": [
    {
     "name": "stdout",
     "output_type": "stream",
     "text": [
      "Real Caption: bilateral opacities most prominent in the lower lobes representing airspace disease or edema\n",
      "Prediction Caption: retained volumes curvature normal lung prominent normal volumes fractures disease disease <end>\n",
      "BLEU score: 0.5444358245099123\n",
      "Cumulative 1-gram: 0.151591\n",
      "Cumulative 2-gram: 0.355513\n",
      "Cumulative 3-gram: 0.475026\n",
      "Cumulative 4-gram: 0.544436\n"
     ]
    },
    {
     "data": {
      "image/png": "[encoded data removed]",
      "text/plain": [
       "<Figure size 1440x1440 with 12 Axes>"
      ]
     },
     "metadata": {
      "needs_background": "light",
      "tags": []
     },
     "output_type": "display_data"
    }
   ],
   "source": [
    "# captions on the validation set\n",
    "rid = np.random.randint(0, len(img_name_test))#generating random datapoint from test dataset.\n",
    "image = load_img( img_name_test[rid])#loading and preprocessing image\n",
    "\n",
    "result, attention_plot = evaluate(image,target_test_inp[rid])#generating caption\n",
    "rc = []\n",
    "\n",
    "for i in target_test_out[rid]:\n",
    "  if tokenizer.index_word[i] == '<end>':\n",
    "    break\n",
    "  else:\n",
    "    rc.append(tokenizer.index_word[i])\n",
    "\n",
    "\n",
    "print ('Real Caption:', ' '.join(rc))\n",
    "print ('Prediction Caption:', ' '.join(result))\n",
    "bleau_score(' '.join(rc), ' '.join(result))#calculating cumulative bleu score.\n",
    "plot_attention(img_name_test[rid], result, attention_plot)#plotting attention\n"
   ]
  },
  {
   "cell_type": "markdown",
   "metadata": {},
   "source": [
    "### 4.13 Whole corpus BLEU score"
   ]
  },
  {
   "cell_type": "code",
   "execution_count": 197,
   "metadata": {
    "id": "l-WwyEebzGSi"
   },
   "outputs": [],
   "source": [
    "#http://www.nltk.org/api/nltk.translate.html#nltk.translate.bleu_score.sentence_bleu\n",
    "\n",
    "import nltk.translate.bleu_score as bleu\n",
    "\n",
    "def bleau_score1(sentence,result):\n",
    "\n",
    "  reference = remove_tok(sentence) # the original\n",
    "  translation = remove_tok(result) # trasilated using model\n",
    "\n",
    "  bleau1 =  bleu.sentence_bleu([reference.split()], translation.split(), weights=(1, 0, 0, 0))\n",
    "  bleau2 = bleu.sentence_bleu([reference.split()], translation.split(), weights=(0.5, 0.5, 0, 0))\n",
    "  bleau3 = bleu.sentence_bleu([reference.split()], translation.split(), weights=(0.33, 0.33, 0.33, 0))\n",
    "  bleau4 =  bleu.sentence_bleu([reference.split()], translation.split(), weights=(0.25, 0.25, 0.25, 0.25))\n",
    "\n",
    "  return bleau1,bleau2,bleau3,bleau4\n",
    "\n",
    "def calc_bleau(image,sentence_in):\n",
    "  #this function will return bleu score\n",
    "  result, _ = evaluate(image,sentence_in)\n",
    "  rc = []\n",
    "  for i in sentence_in.numpy()[0]:\n",
    "    if tokenizer.index_word[i] == '<end>':#if the token number corresponds to end value then it will break\n",
    "      break\n",
    "    else:\n",
    "      rc.append(tokenizer.index_word[i])\n",
    "\n",
    "  score = bleau_score1(' '.join(rc), ' '.join(result))\n",
    "  return score"
   ]
  },
  {
   "cell_type": "code",
   "execution_count": 198,
   "metadata": {
    "id": "6psvKJcDzGQ6"
   },
   "outputs": [],
   "source": [
    "#making dataloader for whole data available.\n",
    "evaluate_dataloader = Dataloder(df['IMAGES'].values,target_inp,target_out, batch_size=1, shuffle=False)"
   ]
  },
  {
   "cell_type": "code",
   "execution_count": 200,
   "metadata": {
    "colab": {
     "base_uri": "https://localhost:8080/",
     "height": 35
    },
    "id": "4AqYyI67zGNc",
    "outputId": "64560199-1456-44e9-85dd-8859b7117fcd"
   },
   "outputs": [
    {
     "name": "stderr",
     "output_type": "stream",
     "text": [
      "3851it [20:32,  3.12it/s]\n"
     ]
    }
   ],
   "source": [
    "from tqdm import tqdm\n",
    "bleau1_final = 0\n",
    "bleau2_final = 0\n",
    "bleau3_final = 0\n",
    "bleau4_final = 0\n",
    "\n",
    "for (batch,(inputs,target)) in tqdm(enumerate(evaluate_dataloader)):\n",
    "  score1,score2,score3,score4 = calc_bleau(inputs,target)\n",
    "  bleau1_final+=score1\n",
    "  bleau2_final+=score2\n",
    "  bleau3_final+=score3\n",
    "  bleau4_final+=score4"
   ]
  },
  {
   "cell_type": "code",
   "execution_count": 201,
   "metadata": {
    "colab": {
     "base_uri": "https://localhost:8080/",
     "height": 35
    },
    "id": "gS_6ARemdOao",
    "outputId": "f5a010c2-82d3-4626-bbee-c2f8d69f79f6"
   },
   "outputs": [
    {
     "data": {
      "text/plain": [
       "3851"
      ]
     },
     "execution_count": 201,
     "metadata": {
      "tags": []
     },
     "output_type": "execute_result"
    }
   ],
   "source": [
    "#Tolal number of datapoints that we are considering\n",
    "len(evaluate_dataloader)"
   ]
  },
  {
   "cell_type": "code",
   "execution_count": 202,
   "metadata": {
    "colab": {
     "base_uri": "https://localhost:8080/",
     "height": 90
    },
    "id": "V-Dxd4yWzGLC",
    "outputId": "b67639c4-cf9f-4e68-90e6-6a4223e8b985"
   },
   "outputs": [
    {
     "name": "stdout",
     "output_type": "stream",
     "text": [
      "final_bleau1_score 0.11377335230141303\n",
      "final_bleau2_score 0.20860306243858598\n",
      "final_bleau3_score 0.27927417083079303\n",
      "final_bleau4_score 0.3235168641768014\n"
     ]
    }
   ],
   "source": [
    "#finding final i,2,3,4 gram BLEU score for entire corpus.\n",
    "final_bleau1 =bleau1_final/ len(evaluate_dataloader)\n",
    "print('final_bleau1_score',final_bleau1)\n",
    "final_bleau2 =bleau2_final/ len(evaluate_dataloader)\n",
    "print('final_bleau2_score',final_bleau2)\n",
    "final_bleau3 =bleau3_final/ len(evaluate_dataloader)\n",
    "print('final_bleau3_score',final_bleau3)\n",
    "final_bleau4 =bleau4_final/ len(evaluate_dataloader)\n",
    "print('final_bleau4_score',final_bleau4)"
   ]
  }
 ],
 "metadata": {
  "accelerator": "GPU",
  "colab": {
   "collapsed_sections": [],
   "name": "Copy of case_study_2.ipynb",
   "provenance": []
  },
  "kernelspec": {
   "display_name": "Python 3",
   "language": "python",
   "name": "python3"
  },
  "language_info": {
   "codemirror_mode": {
    "name": "ipython",
    "version": 3
   },
   "file_extension": ".py",
   "mimetype": "text/x-python",
   "name": "python",
   "nbconvert_exporter": "python",
   "pygments_lexer": "ipython3",
   "version": "3.7.7"
  }
 },
 "nbformat": 4,
 "nbformat_minor": 1
}
